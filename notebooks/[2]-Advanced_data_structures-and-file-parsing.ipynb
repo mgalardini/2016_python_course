{
 "cells": [
  {
   "cell_type": "code",
   "execution_count": 2,
   "metadata": {
    "collapsed": false,
    "run_control": {
     "frozen": false,
     "read_only": false
    }
   },
   "outputs": [
    {
     "data": {
      "text/html": [
       "<style>.container { width:90% !important; }</style>"
      ],
      "text/plain": [
       "<IPython.core.display.HTML object>"
      ]
     },
     "metadata": {},
     "output_type": "display_data"
    }
   ],
   "source": [
    "from IPython.core.display import display, HTML\n",
    "# Larger display \n",
    "display(HTML(\"<style>.container { width:90% !important; }</style>\"))"
   ]
  },
  {
   "cell_type": "markdown",
   "metadata": {},
   "source": [
    "# High-performance container datatypes from the standard library"
   ]
  },
  {
   "cell_type": "markdown",
   "metadata": {},
   "source": [
    "**Python standard library contains a very interesting module to simplify the parsing a file: \"collections\" (See [documentation](https://docs.python.org/3.5/library/collections.html) for detailed information)**\n",
    "\n",
    "**This module implements specialized container datatypes providing alternatives to Python’s native data structures (dict, list, set...)**\n",
    "\n",
    "**Two new containers are particularly useful:**\n",
    "* Counter\n",
    "* OrderedDict"
   ]
  },
  {
   "cell_type": "markdown",
   "metadata": {},
   "source": [
    "---\n",
    "## Counter"
   ]
  },
  {
   "cell_type": "markdown",
   "metadata": {},
   "source": [
    "**A [Counter](https://docs.python.org/3.5/library/collections.html#collections.Counter) container is provided to support convenient and rapid counting of specific occurences. See also [defaultdict](https://docs.python.org/3.5/library/collections.html#collections.defaultdict) for a generalization to other types than integer.**"
   ]
  },
  {
   "cell_type": "markdown",
   "metadata": {},
   "source": [
    "***Example: counting characters in a string*** "
   ]
  },
  {
   "cell_type": "code",
   "execution_count": 20,
   "metadata": {
    "collapsed": false,
    "run_control": {
     "frozen": false,
     "read_only": false
    }
   },
   "outputs": [],
   "source": [
    "from collections import Counter"
   ]
  },
  {
   "cell_type": "code",
   "execution_count": null,
   "metadata": {
    "collapsed": true,
    "run_control": {
     "frozen": false,
     "read_only": false
    }
   },
   "outputs": [],
   "source": [
    "random_text = \"\"\"Ukip is likely to be asked to repay tens of thousands of euros by European parliament finance chiefs\n",
    "who have accused the party of misspending EU funds on party workers and Nigel Farage’s failed bid to win a seat in\n",
    "Westminster.The Alliance for Direct Democracy in Europe (ADDE), a Ukip-dominated political vehicle, will be asked to\n",
    "repay €173,000 (£148,000) in misspent funds and denied a further €501,000 in EU grants for breaking European rules\n",
    "that ban spending EU money on national election campaigns and referendums. According to a European parliament audit\n",
    "report seen by the Guardian, Ukip spent EU funds on polling and analysis in constituencies where they hoped to win a \n",
    "seat in the 2015 general election, including the South Thanet seat that party leader Farage contested. The party also\n",
    "funded polls to gauge the public mood on leaving the EU, months before the official campaign kicked off in April 2016\"\"\""
   ]
  },
  {
   "cell_type": "code",
   "execution_count": null,
   "metadata": {
    "collapsed": false,
    "run_control": {
     "frozen": false,
     "read_only": false
    }
   },
   "outputs": [],
   "source": [
    "# Example with a Counter \n",
    "c = Counter()\n",
    "\n",
    "# Iterate over each characters of the string\n",
    "for character in random_text:\n",
    "    # Increment the counter for the current element\n",
    "    c[character] += 1\n",
    "\n",
    "# Order by most frequent element\n",
    "c.most_common()"
   ]
  },
  {
   "cell_type": "code",
   "execution_count": null,
   "metadata": {
    "collapsed": false,
    "run_control": {
     "frozen": false,
     "read_only": false
    }
   },
   "outputs": [],
   "source": [
    "# Same thing but with native collections\n",
    "d = {}\n",
    "\n",
    "# Iterate over each characters of the string\n",
    "for character in random_text:\n",
    "    # If the element is not in the dict we have to create an entry first\n",
    "    if character not in d:\n",
    "        d[character] = 0\n",
    "    # Increment the counter for the current element\n",
    "    d[character]+=1\n",
    "    \n",
    "# Order by most frequent element\n",
    "sorted(d.items(), key=lambda t: t[1], reverse=True)"
   ]
  },
  {
   "cell_type": "markdown",
   "metadata": {},
   "source": [
    "***Example: Ramdomly selected global event with catastrophic consequences***"
   ]
  },
  {
   "cell_type": "code",
   "execution_count": 28,
   "metadata": {
    "collapsed": false
   },
   "outputs": [
    {
     "data": {
      "text/plain": [
       "[('Clinton', 96191),\n",
       " ('Trump', 94075),\n",
       " ('Johnson', 6532),\n",
       " ('Stein', 2084),\n",
       " ('McMullin', 819),\n",
       " ('Castle', 299)]"
      ]
     },
     "execution_count": 28,
     "metadata": {},
     "output_type": "execute_result"
    }
   ],
   "source": [
    "c =Counter()\n",
    "\n",
    "# Open the file\n",
    "with open (\"../data/US_election vote_sample.txt\", \"r\") as fp:\n",
    "    # Separate words by tabulations\n",
    "    for candidate in fp.read().split(\"\\t\"):\n",
    "        # Increment the counter for the current element\n",
    "        c[candidate]+=1\n",
    "\n",
    "# Order by most frequent element\n",
    "c.most_common()"
   ]
  },
  {
   "cell_type": "markdown",
   "metadata": {},
   "source": [
    "***Example: Counting feature types in a gene annotation file (gff3)*** "
   ]
  },
  {
   "cell_type": "code",
   "execution_count": null,
   "metadata": {
    "collapsed": false,
    "run_control": {
     "frozen": false,
     "read_only": false
    }
   },
   "outputs": [],
   "source": [
    "# print the 2 first lines of a file to analyse the file structure\n",
    "with open (\"../data/gencode_random.gff3\", \"r\") as fp:\n",
    "    for i in range (2):\n",
    "        print (next(fp))"
   ]
  },
  {
   "cell_type": "markdown",
   "metadata": {},
   "source": [
    "The \"feature type\" is the 3rd element of the list => index 2 in python  "
   ]
  },
  {
   "cell_type": "code",
   "execution_count": null,
   "metadata": {
    "collapsed": false,
    "run_control": {
     "frozen": false,
     "read_only": false
    }
   },
   "outputs": [],
   "source": [
    "c = Counter()\n",
    "\n",
    "# Open the file\n",
    "with open (\"../data/gencode_random.gff3\", \"r\") as fp:\n",
    "    # Iterate over lines\n",
    "    for line in fp:\n",
    "        # Split the line and get the element 3\n",
    "        feature_type = line.split(\"\\t\")[2]\n",
    "        # Increment the counter\n",
    "        c[feature_type]+=1\n",
    "        \n",
    "# Order by most frequent element\n",
    "c.most_common()"
   ]
  },
  {
   "cell_type": "markdown",
   "metadata": {},
   "source": [
    "---\n",
    "## OrderedDict"
   ]
  },
  {
   "cell_type": "markdown",
   "metadata": {},
   "source": [
    "**Ordered dictionaries are just like regular dictionaries but they remember the order that items were inserted, like lists.**\n",
    "\n",
    "**When iterating over an ordered dictionary, the items are returned in the order their keys were first added.**"
   ]
  },
  {
   "cell_type": "code",
   "execution_count": null,
   "metadata": {
    "collapsed": true,
    "run_control": {
     "frozen": false,
     "read_only": false
    }
   },
   "outputs": [],
   "source": [
    "from collections import OrderedDict"
   ]
  },
  {
   "cell_type": "markdown",
   "metadata": {},
   "source": [
    "***Example: extract *** "
   ]
  },
  {
   "cell_type": "code",
   "execution_count": 27,
   "metadata": {
    "collapsed": false,
    "run_control": {
     "frozen": false,
     "read_only": false
    }
   },
   "outputs": [
    {
     "data": {
      "text/plain": [
       "[('Clinton', 96191),\n",
       " ('Trump', 94075),\n",
       " ('Johnson', 6532),\n",
       " ('Stein', 2084),\n",
       " ('McMullin', 819),\n",
       " ('Castle', 299)]"
      ]
     },
     "execution_count": 27,
     "metadata": {},
     "output_type": "execute_result"
    }
   ],
   "source": []
  },
  {
   "cell_type": "markdown",
   "metadata": {
    "collapsed": true,
    "run_control": {
     "frozen": false,
     "read_only": false
    }
   },
   "source": [
    "***Example: listing  a gene annotation file (gff3)*** "
   ]
  },
  {
   "cell_type": "code",
   "execution_count": 29,
   "metadata": {
    "collapsed": false,
    "run_control": {
     "frozen": false,
     "read_only": false
    }
   },
   "outputs": [
    {
     "ename": "SyntaxError",
     "evalue": "invalid syntax (<ipython-input-29-c04425c6df47>, line 1)",
     "output_type": "error",
     "traceback": [
      "\u001b[1;36m  File \u001b[1;32m\"<ipython-input-29-c04425c6df47>\"\u001b[1;36m, line \u001b[1;32m1\u001b[0m\n\u001b[1;33m    Extract coordinates per reference sequence.\u001b[0m\n\u001b[1;37m                      ^\u001b[0m\n\u001b[1;31mSyntaxError\u001b[0m\u001b[1;31m:\u001b[0m invalid syntax\n"
     ]
    }
   ],
   "source": [
    "Extract coordinates per reference sequence."
   ]
  },
  {
   "cell_type": "code",
   "execution_count": null,
   "metadata": {
    "collapsed": true,
    "run_control": {
     "frozen": false,
     "read_only": false
    }
   },
   "outputs": [],
   "source": []
  },
  {
   "cell_type": "code",
   "execution_count": null,
   "metadata": {
    "collapsed": true,
    "run_control": {
     "frozen": false,
     "read_only": false
    }
   },
   "outputs": [],
   "source": []
  },
  {
   "cell_type": "code",
   "execution_count": null,
   "metadata": {
    "collapsed": true,
    "run_control": {
     "frozen": false,
     "read_only": false
    }
   },
   "outputs": [],
   "source": []
  },
  {
   "cell_type": "code",
   "execution_count": null,
   "metadata": {
    "collapsed": true,
    "run_control": {
     "frozen": false,
     "read_only": false
    }
   },
   "outputs": [],
   "source": []
  },
  {
   "cell_type": "code",
   "execution_count": null,
   "metadata": {
    "collapsed": true,
    "run_control": {
     "frozen": false,
     "read_only": false
    }
   },
   "outputs": [],
   "source": []
  },
  {
   "cell_type": "code",
   "execution_count": null,
   "metadata": {
    "collapsed": true,
    "run_control": {
     "frozen": false,
     "read_only": false
    }
   },
   "outputs": [],
   "source": []
  },
  {
   "cell_type": "code",
   "execution_count": null,
   "metadata": {
    "collapsed": true,
    "run_control": {
     "frozen": false,
     "read_only": false
    }
   },
   "outputs": [],
   "source": []
  },
  {
   "cell_type": "code",
   "execution_count": null,
   "metadata": {
    "collapsed": true,
    "run_control": {
     "frozen": false,
     "read_only": false
    }
   },
   "outputs": [],
   "source": []
  },
  {
   "cell_type": "code",
   "execution_count": null,
   "metadata": {
    "collapsed": true,
    "run_control": {
     "frozen": false,
     "read_only": false
    }
   },
   "outputs": [],
   "source": []
  },
  {
   "cell_type": "code",
   "execution_count": null,
   "metadata": {
    "collapsed": true,
    "run_control": {
     "frozen": false,
     "read_only": false
    }
   },
   "outputs": [],
   "source": []
  },
  {
   "cell_type": "code",
   "execution_count": null,
   "metadata": {
    "collapsed": true,
    "run_control": {
     "frozen": false,
     "read_only": false
    }
   },
   "outputs": [],
   "source": []
  }
 ],
 "metadata": {
  "kernelspec": {
   "display_name": "Python 3",
   "language": "python",
   "name": "python3"
  },
  "language_info": {
   "codemirror_mode": {
    "name": "ipython",
    "version": 3
   },
   "file_extension": ".py",
   "mimetype": "text/x-python",
   "name": "python",
   "nbconvert_exporter": "python",
   "pygments_lexer": "ipython3",
   "version": "3.5.2"
  }
 },
 "nbformat": 4,
 "nbformat_minor": 0
}
