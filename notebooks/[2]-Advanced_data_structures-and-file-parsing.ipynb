{
 "cells": [
  {
   "cell_type": "code",
   "execution_count": 28,
   "metadata": {
    "collapsed": false,
    "run_control": {
     "frozen": false,
     "read_only": false
    }
   },
   "outputs": [
    {
     "data": {
      "text/html": [
       "<style>.container { width:90% !important; }</style>"
      ],
      "text/plain": [
       "<IPython.core.display.HTML object>"
      ]
     },
     "metadata": {},
     "output_type": "display_data"
    }
   ],
   "source": [
    "from IPython.core.display import display, HTML\n",
    "# Larger display \n",
    "display(HTML(\"<style>.container { width:90% !important; }</style>\"))"
   ]
  },
  {
   "cell_type": "markdown",
   "metadata": {},
   "source": [
    "# High-performance container datatypes from the standard library"
   ]
  },
  {
   "cell_type": "markdown",
   "metadata": {},
   "source": [
    "**Python standard library contains a very interesting module to simplify the parsing a file: \"collections\" (See [documentation](https://docs.python.org/3.5/library/collections.html) for detailed information)**\n",
    "\n",
    "**This module implements specialized container datatypes providing alternatives to Python’s native data structures (dict, list, set...)**\n",
    "\n",
    "**Two new containers are particularly useful:**\n",
    "* Counter\n",
    "* OrderedDict"
   ]
  },
  {
   "cell_type": "markdown",
   "metadata": {},
   "source": [
    "---\n",
    "## Counter"
   ]
  },
  {
   "cell_type": "markdown",
   "metadata": {},
   "source": [
    "**A [Counter](https://docs.python.org/3.5/library/collections.html#collections.Counter) container is provided to support convenient and rapid counting of specific occurences. See also [defaultdict](https://docs.python.org/3.5/library/collections.html#collections.defaultdict) for a generalization to other types than integer.**"
   ]
  },
  {
   "cell_type": "markdown",
   "metadata": {},
   "source": [
    "***Example: counting characters in a string*** "
   ]
  },
  {
   "cell_type": "code",
   "execution_count": null,
   "metadata": {
    "collapsed": false,
    "run_control": {
     "frozen": false,
     "read_only": false
    }
   },
   "outputs": [],
   "source": [
    "from collections import Counter"
   ]
  },
  {
   "cell_type": "code",
   "execution_count": null,
   "metadata": {
    "collapsed": true,
    "run_control": {
     "frozen": false,
     "read_only": false
    }
   },
   "outputs": [],
   "source": [
    "random_text = \"\"\"Ukip is likely to be asked to repay tens of thousands of euros by European parliament finance chiefs\n",
    "who have accused the party of misspending EU funds on party workers and Nigel Farage’s failed bid to win a seat in\n",
    "Westminster.The Alliance for Direct Democracy in Europe (ADDE), a Ukip-dominated political vehicle, will be asked to\n",
    "repay €173,000 (£148,000) in misspent funds and denied a further €501,000 in EU grants for breaking European rules\n",
    "that ban spending EU money on national election campaigns and referendums. According to a European parliament audit\n",
    "report seen by the Guardian, Ukip spent EU funds on polling and analysis in constituencies where they hoped to win a \n",
    "seat in the 2015 general election, including the South Thanet seat that party leader Farage contested. The party also\n",
    "funded polls to gauge the public mood on leaving the EU, months before the official campaign kicked off in April 2016\"\"\""
   ]
  },
  {
   "cell_type": "code",
   "execution_count": null,
   "metadata": {
    "collapsed": false,
    "run_control": {
     "frozen": false,
     "read_only": false
    },
    "scrolled": true
   },
   "outputs": [],
   "source": [
    "# Example with a Counter \n",
    "c = Counter()\n",
    "\n",
    "# Iterate over each characters of the string\n",
    "for character in random_text:\n",
    "    # Increment the counter for the current element\n",
    "    c[character.lower()] += 1\n",
    "\n",
    "# Order by most frequent element\n",
    "c.most_common()"
   ]
  },
  {
   "cell_type": "code",
   "execution_count": null,
   "metadata": {
    "collapsed": false,
    "run_control": {
     "frozen": false,
     "read_only": false
    }
   },
   "outputs": [],
   "source": [
    "# Same thing but with native collections\n",
    "d = {}\n",
    "\n",
    "# Iterate over each characters of the string\n",
    "for character in random_text:\n",
    "    # If the element is not in the dict we have to create an entry first\n",
    "    if character not in d:\n",
    "        d[character.lower()] = 0\n",
    "    # Increment the counter for the current element\n",
    "    d[character.lower()]+=1\n",
    "    \n",
    "# Order by most frequent element\n",
    "sorted(d.items(), key=lambda t: t[1], reverse=True)"
   ]
  },
  {
   "cell_type": "markdown",
   "metadata": {},
   "source": [
    "***Example: Ramdomly selected global event with catastrophic consequences***"
   ]
  },
  {
   "cell_type": "code",
   "execution_count": null,
   "metadata": {
    "collapsed": false,
    "run_control": {
     "frozen": false,
     "read_only": false
    }
   },
   "outputs": [],
   "source": [
    "c =Counter()\n",
    "\n",
    "# Open the file\n",
    "with open (\"../data/US_election vote_sample.txt\", \"r\") as fp:\n",
    "    # Separate words by tabulations\n",
    "    for candidate in fp.read().split(\"\\t\"):\n",
    "        # Increment the counter for the current element\n",
    "        c[candidate]+=1\n",
    "\n",
    "# Order by most frequent element\n",
    "c.most_common()"
   ]
  },
  {
   "cell_type": "markdown",
   "metadata": {},
   "source": [
    "***Example: Counting feature types in a gene annotation file (gff3)*** "
   ]
  },
  {
   "cell_type": "code",
   "execution_count": null,
   "metadata": {
    "collapsed": false,
    "run_control": {
     "frozen": false,
     "read_only": false
    }
   },
   "outputs": [],
   "source": [
    "# print the 2 first lines of a file to analyse the file structure\n",
    "with open (\"../data/gencode_random.gff3\", \"r\") as fp:\n",
    "    for i in range (2):\n",
    "        print (next(fp))"
   ]
  },
  {
   "cell_type": "markdown",
   "metadata": {},
   "source": [
    "The \"feature type\" is the 3rd element of the list => index 2 in python  "
   ]
  },
  {
   "cell_type": "code",
   "execution_count": null,
   "metadata": {
    "collapsed": false,
    "run_control": {
     "frozen": false,
     "read_only": false
    }
   },
   "outputs": [],
   "source": [
    "c = Counter()\n",
    "\n",
    "# Open the file\n",
    "with open (\"../data/gencode_random.gff3\", \"r\") as fp:\n",
    "    # Iterate over lines\n",
    "    for line in fp:\n",
    "        # Split the line and get the element 3\n",
    "        feature_type = line.split(\"\\t\")[2]\n",
    "        # Increment the counter\n",
    "        c[feature_type]+=1\n",
    "        \n",
    "# Order by most frequent element\n",
    "c.most_common()"
   ]
  },
  {
   "cell_type": "markdown",
   "metadata": {},
   "source": [
    "---\n",
    "## OrderedDict"
   ]
  },
  {
   "cell_type": "markdown",
   "metadata": {},
   "source": [
    "**In a standard python dictionary, the order of the elements is not guaranteed and can change between 2 successive calls. In many situation, it can be annoying particularly if the order of elements in a parsed file matters (fastq, fasta...)**\n",
    "\n",
    "**[Ordered dictionaries](https://docs.python.org/3.5/library/collections.html#collections.OrderedDict) are just like regular dictionaries but they remember the order that items were inserted, like lists.**\n",
    "\n",
    "**When iterating over an ordered dictionary, the items are returned in the order their keys were first added.**"
   ]
  },
  {
   "cell_type": "code",
   "execution_count": null,
   "metadata": {
    "collapsed": true,
    "run_control": {
     "frozen": false,
     "read_only": false
    }
   },
   "outputs": [],
   "source": [
    "from collections import OrderedDict, Counter"
   ]
  },
  {
   "cell_type": "code",
   "execution_count": null,
   "metadata": {
    "collapsed": false
   },
   "outputs": [],
   "source": [
    "fruit_str = \"banana ripe:banana unripe:banana ripe:banana rotten:apple ripe:apple ripe:apple ripe:apple unripe:orange unripe:orange unripe:orange unripe:pear rotten:pear rotten:pear ripe\""
   ]
  },
  {
   "cell_type": "markdown",
   "metadata": {},
   "source": [
    "***Parsing with a normal dictionary*** "
   ]
  },
  {
   "cell_type": "code",
   "execution_count": null,
   "metadata": {
    "collapsed": false,
    "scrolled": true
   },
   "outputs": [],
   "source": [
    "d={}\n",
    "\n",
    "for element in fruit_str.split(\":\"):\n",
    "    fruit, status = element.split(\" \")\n",
    "    if fruit not in d:\n",
    "        d[fruit] = Counter()\n",
    "    d[fruit][status]+=1\n",
    "\n",
    "d"
   ]
  },
  {
   "cell_type": "markdown",
   "metadata": {},
   "source": [
    "***Parsing with a Ordered dictionary*** "
   ]
  },
  {
   "cell_type": "code",
   "execution_count": null,
   "metadata": {
    "collapsed": false,
    "scrolled": true
   },
   "outputs": [],
   "source": [
    "d=OrderedDict()\n",
    "\n",
    "for element in fruit_str.split(\":\"):\n",
    "    fruit, status = element.split(\" \")\n",
    "    if fruit not in d:\n",
    "        d[fruit] = Counter()\n",
    "    d[fruit][status]+=1\n",
    "\n",
    "d"
   ]
  },
  {
   "cell_type": "markdown",
   "metadata": {},
   "source": [
    "**Since an ordered dictionary remembers its insertion order, it can be used in conjunction with sorting to make a sorted dictionary (by key or value) from a standard dictionary**"
   ]
  },
  {
   "cell_type": "code",
   "execution_count": null,
   "metadata": {
    "collapsed": false
   },
   "outputs": [],
   "source": [
    "print (\"\\nStandard unsorted dictionary\")\n",
    "d = {'banana':3, 'apple':4, 'pear':1, 'orange':2, \"peach\":10, \"apricot\":2}\n",
    "print (d)\n",
    "\n",
    "print(\"\\nDictionary sorted by key\")\n",
    "d_per_key = OrderedDict(sorted(d.items(), key=lambda t: t[0]))\n",
    "print (d_per_key)\n",
    "\n",
    "print(\"\\nDictionary sorted by value\")\n",
    "d_per_val = OrderedDict(sorted(d.items(), key=lambda t: t[1]))\n",
    "print (d_per_val)"
   ]
  },
  {
   "cell_type": "markdown",
   "metadata": {},
   "source": [
    "---\n",
    "# Pandas: a Powerful data structures for data analysis, time series, and statistics"
   ]
  },
  {
   "cell_type": "markdown",
   "metadata": {},
   "source": [
    "* Flexible, and expressive data structures **Series** (1-dimensional) and **DataFrame** (2-dimensional)\n",
    "* High-level building block for doing **practical, real world data analysis**\n",
    "* **Nearly as fast as C language** = Build on top of Numpy and extensive use of Cython\n",
    "* **Robust IO tools** for loading and parsing data from text files, excel files and databases."
   ]
  },
  {
   "cell_type": "markdown",
   "metadata": {},
   "source": [
    "## Introduction to Series"
   ]
  },
  {
   "cell_type": "markdown",
   "metadata": {},
   "source": [
    "* **1D labeled array capable of holding any data type** (integers, strings, float...)\n",
    "\n",
    "* Similar to a python standard dictionary but **faster** (because based on C datatypes) and more **user-friendly** in Jupyter"
   ]
  },
  {
   "cell_type": "code",
   "execution_count": 95,
   "metadata": {
    "collapsed": true
   },
   "outputs": [],
   "source": [
    "import pandas as pd"
   ]
  },
  {
   "cell_type": "markdown",
   "metadata": {},
   "source": [
    "### Create series"
   ]
  },
  {
   "cell_type": "markdown",
   "metadata": {},
   "source": [
    "***From 2 lists or sets ***"
   ]
  },
  {
   "cell_type": "code",
   "execution_count": 37,
   "metadata": {
    "collapsed": false
   },
   "outputs": [
    {
     "data": {
      "text/plain": [
       "A    0.21\n",
       "T    0.24\n",
       "C    0.27\n",
       "G    0.25\n",
       "N    0.03\n",
       "dtype: float64"
      ]
     },
     "execution_count": 37,
     "metadata": {},
     "output_type": "execute_result"
    }
   ],
   "source": [
    "Base = ('A','T','C','G','N')\n",
    "Freq = (0.21, 0.24, 0.27, 0.25, 0.03)\n",
    "pd.Series(data=Freq, index=Base)"
   ]
  },
  {
   "cell_type": "markdown",
   "metadata": {},
   "source": [
    "***From a python dictionary***"
   ]
  },
  {
   "cell_type": "code",
   "execution_count": 38,
   "metadata": {
    "collapsed": false
   },
   "outputs": [
    {
     "data": {
      "text/plain": [
       "A    0.21\n",
       "C    0.27\n",
       "G    0.25\n",
       "N    0.03\n",
       "T    0.24\n",
       "dtype: float64"
      ]
     },
     "execution_count": 38,
     "metadata": {},
     "output_type": "execute_result"
    }
   ],
   "source": [
    "d = {'A':0.21, 'T':0.24, 'C':0.27, 'G':0.25, 'N':0.03}\n",
    "pd.Series(d)"
   ]
  },
  {
   "cell_type": "markdown",
   "metadata": {},
   "source": [
    "***The data type and series names can be specified*** "
   ]
  },
  {
   "cell_type": "code",
   "execution_count": 51,
   "metadata": {
    "collapsed": false
   },
   "outputs": [
    {
     "data": {
      "text/plain": [
       "A    21\n",
       "C    27\n",
       "G    25\n",
       "N     3\n",
       "T    24\n",
       "Name: Percent, dtype: int64"
      ]
     },
     "execution_count": 51,
     "metadata": {},
     "output_type": "execute_result"
    }
   ],
   "source": [
    "d = {'A':21.0, 'T':24.0, 'C':27.0, 'G':25.0, 'N':3.0}\n",
    "pd.Series(d, name=\"Percent\", dtype=int)"
   ]
  },
  {
   "cell_type": "markdown",
   "metadata": {},
   "source": [
    "**From a file containing 2 columns with the squeeze option**"
   ]
  },
  {
   "cell_type": "code",
   "execution_count": 43,
   "metadata": {
    "collapsed": false
   },
   "outputs": [
    {
     "data": {
      "text/plain": [
       "base\n",
       "A    0.21\n",
       "T    0.24\n",
       "C    0.27\n",
       "G    0.25\n",
       "N    0.03\n",
       "Name: freq, dtype: float64"
      ]
     },
     "execution_count": 43,
     "metadata": {},
     "output_type": "execute_result"
    }
   ],
   "source": [
    "pd.read_table(\"../data/DNA_distrib.tsv\", index_col=0, squeeze=True, sep=\"\\t\")"
   ]
  },
  {
   "cell_type": "markdown",
   "metadata": {},
   "source": [
    "### Manipulate series"
   ]
  },
  {
   "cell_type": "markdown",
   "metadata": {},
   "source": [
    "***Support list methods***"
   ]
  },
  {
   "cell_type": "code",
   "execution_count": 96,
   "metadata": {
    "collapsed": false
   },
   "outputs": [
    {
     "name": "stdout",
     "output_type": "stream",
     "text": [
      "A    0.21\n",
      "C    0.27\n",
      "G    0.25\n",
      "T    0.24\n",
      "N    0.03\n",
      "Y    0.01\n",
      "dtype: float64\n",
      "G    0.25\n",
      "T    0.24\n",
      "dtype: float64\n",
      "0.25\n",
      "0.21\n",
      "0.27\n",
      "0.25\n",
      "0.24\n"
     ]
    }
   ],
   "source": [
    "s = pd.Series({'A':0.21, 'T':0.24, 'C':0.27, 'G':0.25})\n",
    "\n",
    "# Concat 2 series\n",
    "s2 = pd.Series({'Y':0.01, 'N':0.03})\n",
    "s3 = s.append(s2)\n",
    "print(s3)\n",
    "\n",
    "# Slicing\n",
    "print(s[2:4])\n",
    "\n",
    "# Extraction\n",
    "print(s[2])\n",
    "\n",
    "# the \"for\" loop works as for a list \n",
    "for i in s:\n",
    "    print (i)\n"
   ]
  },
  {
   "cell_type": "markdown",
   "metadata": {
    "collapsed": false,
    "run_control": {
     "frozen": false,
     "read_only": false
    }
   },
   "source": [
    "***Support dictionary methods***"
   ]
  },
  {
   "cell_type": "code",
   "execution_count": 85,
   "metadata": {
    "collapsed": false,
    "run_control": {
     "frozen": false,
     "read_only": false
    }
   },
   "outputs": [
    {
     "name": "stdout",
     "output_type": "stream",
     "text": [
      "A    22\n",
      "C    27\n",
      "G    25\n",
      "N     3\n",
      "T    24\n",
      "Name: Percent, dtype: int64\n",
      "22\n",
      "True\n",
      "False\n"
     ]
    }
   ],
   "source": [
    "s = pd.Series({'A':21.0, 'T':24.0, 'C':27.0, 'G':25.0, 'N':3.0}, name=\"Percent\", dtype=int)\n",
    "\n",
    "# Update value\n",
    "s[\"A\"] = 22\n",
    "print(s)\n",
    "\n",
    "# Named indexing\n",
    "print(s[\"A\"])\n",
    "\n",
    "# Test for existence\n",
    "print (\"A\" in s)\n",
    "print (\"V\" in s)"
   ]
  },
  {
   "cell_type": "markdown",
   "metadata": {
    "collapsed": true,
    "run_control": {
     "frozen": false,
     "read_only": false
    }
   },
   "source": [
    "***Support a wide range of mathematic operations (thanks to numpy)***"
   ]
  },
  {
   "cell_type": "code",
   "execution_count": 93,
   "metadata": {
    "collapsed": false,
    "run_control": {
     "frozen": false,
     "read_only": false
    }
   },
   "outputs": [
    {
     "name": "stdout",
     "output_type": "stream",
     "text": [
      "27\n",
      "20.0\n",
      "False\n",
      "4.35889894354\n",
      "A    21.2\n",
      "C    27.4\n",
      "G    26.5\n",
      "N     0.0\n",
      "T    24.7\n",
      "Name: Percent, dtype: float64\n"
     ]
    }
   ],
   "source": [
    "s = pd.Series({'A':21, 'T':24, 'C':27, 'G':25, 'N':3}, name=\"Percent\")\n",
    "\n",
    "print(s.max())\n",
    "print(s.mean())\n",
    "print(s.all()>20)\n",
    "print(s.sem())\n",
    "\n",
    "# Addition of 2 series will return a results for all values in the 2 series\n",
    "s2 = pd.Series({'A':0.2, 'T':0.7, 'C':0.4, 'G':1.5, 'N':-3}, name=\"Percent\")\n",
    "\n",
    "print (s + s2)\n"
   ]
  },
  {
   "cell_type": "markdown",
   "metadata": {
    "collapsed": true,
    "run_control": {
     "frozen": false,
     "read_only": false
    }
   },
   "source": [
    "## Introduction to Dataframes"
   ]
  },
  {
   "cell_type": "markdown",
   "metadata": {
    "collapsed": true,
    "run_control": {
     "frozen": false,
     "read_only": false
    }
   },
   "source": [
    "* **2-dimensional labeled data structure with columns of potentially different types**\n",
    "* **HTML rendering in jupyter**"
   ]
  },
  {
   "cell_type": "markdown",
   "metadata": {},
   "source": [
    "### Create dataframe"
   ]
  },
  {
   "cell_type": "markdown",
   "metadata": {},
   "source": [
    "***You can optionally pass index (row labels) and columns (column labels) arguments***"
   ]
  },
  {
   "cell_type": "markdown",
   "metadata": {},
   "source": [
    "***From a pandas Series***"
   ]
  },
  {
   "cell_type": "code",
   "execution_count": 114,
   "metadata": {
    "collapsed": false
   },
   "outputs": [
    {
     "data": {
      "text/html": [
       "<div>\n",
       "<table border=\"1\" class=\"dataframe\">\n",
       "  <thead>\n",
       "    <tr style=\"text-align: right;\">\n",
       "      <th></th>\n",
       "      <th>Percent</th>\n",
       "    </tr>\n",
       "  </thead>\n",
       "  <tbody>\n",
       "    <tr>\n",
       "      <th>A</th>\n",
       "      <td>21.0</td>\n",
       "    </tr>\n",
       "    <tr>\n",
       "      <th>C</th>\n",
       "      <td>27.0</td>\n",
       "    </tr>\n",
       "    <tr>\n",
       "      <th>G</th>\n",
       "      <td>25.0</td>\n",
       "    </tr>\n",
       "    <tr>\n",
       "      <th>N</th>\n",
       "      <td>3.0</td>\n",
       "    </tr>\n",
       "    <tr>\n",
       "      <th>T</th>\n",
       "      <td>24.0</td>\n",
       "    </tr>\n",
       "  </tbody>\n",
       "</table>\n",
       "</div>"
      ],
      "text/plain": [
       "   Percent\n",
       "A     21.0\n",
       "C     27.0\n",
       "G     25.0\n",
       "N      3.0\n",
       "T     24.0"
      ]
     },
     "execution_count": 114,
     "metadata": {},
     "output_type": "execute_result"
    }
   ],
   "source": [
    "s = pd.Series({'A':21.0, 'T':24.0, 'C':27.0, 'G':25.0, 'N':3.0})\n",
    "pd.DataFrame(s, columns=[\"Percent\"])"
   ]
  },
  {
   "cell_type": "markdown",
   "metadata": {},
   "source": [
    "***From a list of pandas Series***"
   ]
  },
  {
   "cell_type": "code",
   "execution_count": 121,
   "metadata": {
    "collapsed": false
   },
   "outputs": [
    {
     "data": {
      "text/html": [
       "<div>\n",
       "<table border=\"1\" class=\"dataframe\">\n",
       "  <thead>\n",
       "    <tr style=\"text-align: right;\">\n",
       "      <th></th>\n",
       "      <th>A</th>\n",
       "      <th>C</th>\n",
       "      <th>G</th>\n",
       "      <th>N</th>\n",
       "      <th>T</th>\n",
       "    </tr>\n",
       "  </thead>\n",
       "  <tbody>\n",
       "    <tr>\n",
       "      <th>Percent</th>\n",
       "      <td>21.0</td>\n",
       "      <td>27.0</td>\n",
       "      <td>25.0</td>\n",
       "      <td>3.0</td>\n",
       "      <td>24.0</td>\n",
       "    </tr>\n",
       "    <tr>\n",
       "      <th>MolecularWeight</th>\n",
       "      <td>331.2</td>\n",
       "      <td>307.2</td>\n",
       "      <td>347.2</td>\n",
       "      <td>NaN</td>\n",
       "      <td>322.2</td>\n",
       "    </tr>\n",
       "    <tr>\n",
       "      <th>AbsorbanceMax</th>\n",
       "      <td>259.0</td>\n",
       "      <td>271.0</td>\n",
       "      <td>253.0</td>\n",
       "      <td>NaN</td>\n",
       "      <td>267.0</td>\n",
       "    </tr>\n",
       "  </tbody>\n",
       "</table>\n",
       "</div>"
      ],
      "text/plain": [
       "                     A      C      G    N      T\n",
       "Percent           21.0   27.0   25.0  3.0   24.0\n",
       "MolecularWeight  331.2  307.2  347.2  NaN  322.2\n",
       "AbsorbanceMax    259.0  271.0  253.0  NaN  267.0"
      ]
     },
     "execution_count": 121,
     "metadata": {},
     "output_type": "execute_result"
    }
   ],
   "source": [
    "series_list = [\n",
    "    pd.Series({'A':21.0, 'T':24.0, 'C':27.0, 'G':25.0, 'N':3.0}, name=\"Percent\"),\n",
    "    pd.Series({'A':331.2, 'T':322.2, 'C':307.2, 'G':347.2, 'N':None}, name=\"MolecularWeight\"),\n",
    "    pd.Series({'A':259, 'T':267, 'C':271, 'G':253, 'N':None}, name=\"AbsorbanceMax\")]\n",
    "\n",
    "pd.DataFrame(series_list)"
   ]
  },
  {
   "cell_type": "markdown",
   "metadata": {},
   "source": [
    "**From a simple list of list** "
   ]
  },
  {
   "cell_type": "code",
   "execution_count": 120,
   "metadata": {
    "collapsed": false
   },
   "outputs": [
    {
     "data": {
      "text/html": [
       "<div>\n",
       "<table border=\"1\" class=\"dataframe\">\n",
       "  <thead>\n",
       "    <tr style=\"text-align: right;\">\n",
       "      <th></th>\n",
       "      <th>A</th>\n",
       "      <th>T</th>\n",
       "      <th>C</th>\n",
       "      <th>G</th>\n",
       "      <th>N</th>\n",
       "    </tr>\n",
       "  </thead>\n",
       "  <tbody>\n",
       "    <tr>\n",
       "      <th>Percent</th>\n",
       "      <td>21.0</td>\n",
       "      <td>24.0</td>\n",
       "      <td>27.0</td>\n",
       "      <td>25.0</td>\n",
       "      <td>3.0</td>\n",
       "    </tr>\n",
       "    <tr>\n",
       "      <th>MolecularWeight</th>\n",
       "      <td>331.2</td>\n",
       "      <td>322.2</td>\n",
       "      <td>307.2</td>\n",
       "      <td>347.2</td>\n",
       "      <td>NaN</td>\n",
       "    </tr>\n",
       "    <tr>\n",
       "      <th>AbsorbanceMax</th>\n",
       "      <td>259.0</td>\n",
       "      <td>267.0</td>\n",
       "      <td>271.0</td>\n",
       "      <td>253.0</td>\n",
       "      <td>NaN</td>\n",
       "    </tr>\n",
       "  </tbody>\n",
       "</table>\n",
       "</div>"
      ],
      "text/plain": [
       "                     A      T      C      G    N\n",
       "Percent           21.0   24.0   27.0   25.0  3.0\n",
       "MolecularWeight  331.2  322.2  307.2  347.2  NaN\n",
       "AbsorbanceMax    259.0  267.0  271.0  253.0  NaN"
      ]
     },
     "execution_count": 120,
     "metadata": {},
     "output_type": "execute_result"
    }
   ],
   "source": [
    "list_list = [[21.0, 24.0, 27.0, 25.0, 3.0], [331.2, 322.2, 307.2, 347.2, None], [259, 267, 271, 253, None]]\n",
    "column_list = ['A', 'T', 'C', 'G', 'N']\n",
    "index_list = [\"Percent\", \"MolecularWeight\", \"AbsorbanceMax\"]\n",
    "\n",
    "pd.DataFrame(list_list, index=index_list, columns=column_list)"
   ]
  },
  {
   "cell_type": "markdown",
   "metadata": {},
   "source": [
    "***The Dataframe creation is very versatile and can also be done from Dictionaries of lists, dicts, or Series and from numpy.ndarray...***"
   ]
  },
  {
   "cell_type": "markdown",
   "metadata": {
    "collapsed": true,
    "run_control": {
     "frozen": false,
     "read_only": false
    }
   },
   "source": [
    "***One of the major strength of Pandas is its ability to perform complex files parsing into a comprehensive a dataframe format***"
   ]
  },
  {
   "cell_type": "code",
   "execution_count": 125,
   "metadata": {
    "collapsed": false,
    "run_control": {
     "frozen": false,
     "read_only": false
    },
    "scrolled": true
   },
   "outputs": [
    {
     "data": {
      "text/html": [
       "<div>\n",
       "<table border=\"1\" class=\"dataframe\">\n",
       "  <thead>\n",
       "    <tr style=\"text-align: right;\">\n",
       "      <th></th>\n",
       "      <th>chrom</th>\n",
       "      <th>source</th>\n",
       "      <th>type</th>\n",
       "      <th>start</th>\n",
       "      <th>end</th>\n",
       "      <th>score</th>\n",
       "      <th>strand</th>\n",
       "      <th>frame</th>\n",
       "      <th>info</th>\n",
       "    </tr>\n",
       "  </thead>\n",
       "  <tbody>\n",
       "    <tr>\n",
       "      <th>0</th>\n",
       "      <td>chr18</td>\n",
       "      <td>HAVANA</td>\n",
       "      <td>CDS</td>\n",
       "      <td>12452255</td>\n",
       "      <td>12452391</td>\n",
       "      <td>.</td>\n",
       "      <td>-</td>\n",
       "      <td>0</td>\n",
       "      <td>ID=CDS:ENST00000410092.7;Parent=ENST0000041009...</td>\n",
       "    </tr>\n",
       "    <tr>\n",
       "      <th>1</th>\n",
       "      <td>chr2</td>\n",
       "      <td>HAVANA</td>\n",
       "      <td>five_prime_UTR</td>\n",
       "      <td>9995879</td>\n",
       "      <td>9995970</td>\n",
       "      <td>.</td>\n",
       "      <td>+</td>\n",
       "      <td>.</td>\n",
       "      <td>ID=UTR5:ENST00000480736.1;Parent=ENST000004807...</td>\n",
       "    </tr>\n",
       "    <tr>\n",
       "      <th>2</th>\n",
       "      <td>chr2</td>\n",
       "      <td>HAVANA</td>\n",
       "      <td>CDS</td>\n",
       "      <td>159886420</td>\n",
       "      <td>159886530</td>\n",
       "      <td>.</td>\n",
       "      <td>-</td>\n",
       "      <td>2</td>\n",
       "      <td>ID=CDS:ENST00000504764.5;Parent=ENST0000050476...</td>\n",
       "    </tr>\n",
       "    <tr>\n",
       "      <th>3</th>\n",
       "      <td>chr1</td>\n",
       "      <td>HAVANA</td>\n",
       "      <td>stop_codon</td>\n",
       "      <td>87097937</td>\n",
       "      <td>87097939</td>\n",
       "      <td>.</td>\n",
       "      <td>+</td>\n",
       "      <td>0</td>\n",
       "      <td>ID=stop_codon:ENST00000370551.8;Parent=ENST000...</td>\n",
       "    </tr>\n",
       "    <tr>\n",
       "      <th>4</th>\n",
       "      <td>chr1</td>\n",
       "      <td>HAVANA</td>\n",
       "      <td>start_codon</td>\n",
       "      <td>208217920</td>\n",
       "      <td>208217922</td>\n",
       "      <td>.</td>\n",
       "      <td>-</td>\n",
       "      <td>0</td>\n",
       "      <td>ID=start_codon:ENST00000367033.3;Parent=ENST00...</td>\n",
       "    </tr>\n",
       "    <tr>\n",
       "      <th>5</th>\n",
       "      <td>chr22</td>\n",
       "      <td>ENSEMBL</td>\n",
       "      <td>CDS</td>\n",
       "      <td>24876577</td>\n",
       "      <td>24876715</td>\n",
       "      <td>.</td>\n",
       "      <td>+</td>\n",
       "      <td>2</td>\n",
       "      <td>ID=CDS:ENST00000610372.4;Parent=ENST0000061037...</td>\n",
       "    </tr>\n",
       "    <tr>\n",
       "      <th>6</th>\n",
       "      <td>chr14</td>\n",
       "      <td>HAVANA</td>\n",
       "      <td>exon</td>\n",
       "      <td>52646192</td>\n",
       "      <td>52646287</td>\n",
       "      <td>.</td>\n",
       "      <td>-</td>\n",
       "      <td>.</td>\n",
       "      <td>ID=exon:ENST00000555069.1:2;Parent=ENST0000055...</td>\n",
       "    </tr>\n",
       "    <tr>\n",
       "      <th>7</th>\n",
       "      <td>chr1</td>\n",
       "      <td>ENSEMBL</td>\n",
       "      <td>five_prime_UTR</td>\n",
       "      <td>145728244</td>\n",
       "      <td>145728327</td>\n",
       "      <td>.</td>\n",
       "      <td>+</td>\n",
       "      <td>.</td>\n",
       "      <td>ID=UTR5:ENST00000235933.10;Parent=ENST00000235...</td>\n",
       "    </tr>\n",
       "    <tr>\n",
       "      <th>8</th>\n",
       "      <td>chr1</td>\n",
       "      <td>HAVANA</td>\n",
       "      <td>exon</td>\n",
       "      <td>202736213</td>\n",
       "      <td>202736392</td>\n",
       "      <td>.</td>\n",
       "      <td>-</td>\n",
       "      <td>.</td>\n",
       "      <td>ID=exon:ENST00000367265.7:21;Parent=ENST000003...</td>\n",
       "    </tr>\n",
       "    <tr>\n",
       "      <th>9</th>\n",
       "      <td>chr1</td>\n",
       "      <td>HAVANA</td>\n",
       "      <td>five_prime_UTR</td>\n",
       "      <td>179082086</td>\n",
       "      <td>179082128</td>\n",
       "      <td>.</td>\n",
       "      <td>+</td>\n",
       "      <td>.</td>\n",
       "      <td>ID=UTR5:ENST00000352445.10;Parent=ENST00000352...</td>\n",
       "    </tr>\n",
       "    <tr>\n",
       "      <th>10</th>\n",
       "      <td>chr8</td>\n",
       "      <td>HAVANA</td>\n",
       "      <td>five_prime_UTR</td>\n",
       "      <td>65644739</td>\n",
       "      <td>65644784</td>\n",
       "      <td>.</td>\n",
       "      <td>+</td>\n",
       "      <td>.</td>\n",
       "      <td>ID=UTR5:ENST00000262146.8;Parent=ENST000002621...</td>\n",
       "    </tr>\n",
       "    <tr>\n",
       "      <th>11</th>\n",
       "      <td>chr18</td>\n",
       "      <td>HAVANA</td>\n",
       "      <td>transcript</td>\n",
       "      <td>80037387</td>\n",
       "      <td>80080309</td>\n",
       "      <td>.</td>\n",
       "      <td>+</td>\n",
       "      <td>.</td>\n",
       "      <td>ID=ENST00000591514.1;Parent=ENSG00000267127.7;...</td>\n",
       "    </tr>\n",
       "    <tr>\n",
       "      <th>12</th>\n",
       "      <td>chr9</td>\n",
       "      <td>ENSEMBL</td>\n",
       "      <td>CDS</td>\n",
       "      <td>136446855</td>\n",
       "      <td>136447015</td>\n",
       "      <td>.</td>\n",
       "      <td>-</td>\n",
       "      <td>2</td>\n",
       "      <td>ID=CDS:ENST00000290037.10;Parent=ENST000002900...</td>\n",
       "    </tr>\n",
       "    <tr>\n",
       "      <th>13</th>\n",
       "      <td>chr16</td>\n",
       "      <td>HAVANA</td>\n",
       "      <td>exon</td>\n",
       "      <td>56886953</td>\n",
       "      <td>56887093</td>\n",
       "      <td>.</td>\n",
       "      <td>+</td>\n",
       "      <td>.</td>\n",
       "      <td>ID=exon:ENST00000566786.5:17;Parent=ENST000005...</td>\n",
       "    </tr>\n",
       "    <tr>\n",
       "      <th>14</th>\n",
       "      <td>chr12</td>\n",
       "      <td>HAVANA</td>\n",
       "      <td>transcript</td>\n",
       "      <td>103999418</td>\n",
       "      <td>104050137</td>\n",
       "      <td>.</td>\n",
       "      <td>-</td>\n",
       "      <td>.</td>\n",
       "      <td>ID=ENST00000546851.1;Parent=ENSG00000120820.12...</td>\n",
       "    </tr>\n",
       "    <tr>\n",
       "      <th>15</th>\n",
       "      <td>chr2</td>\n",
       "      <td>HAVANA</td>\n",
       "      <td>CDS</td>\n",
       "      <td>96296536</td>\n",
       "      <td>96296691</td>\n",
       "      <td>.</td>\n",
       "      <td>-</td>\n",
       "      <td>0</td>\n",
       "      <td>ID=CDS:ENST00000323853.9;Parent=ENST0000032385...</td>\n",
       "    </tr>\n",
       "    <tr>\n",
       "      <th>16</th>\n",
       "      <td>chr1</td>\n",
       "      <td>HAVANA</td>\n",
       "      <td>CDS</td>\n",
       "      <td>184051756</td>\n",
       "      <td>184051890</td>\n",
       "      <td>.</td>\n",
       "      <td>+</td>\n",
       "      <td>0</td>\n",
       "      <td>ID=CDS:ENST00000533373.5;Parent=ENST0000053337...</td>\n",
       "    </tr>\n",
       "    <tr>\n",
       "      <th>17</th>\n",
       "      <td>chr17</td>\n",
       "      <td>HAVANA</td>\n",
       "      <td>exon</td>\n",
       "      <td>76087654</td>\n",
       "      <td>76087708</td>\n",
       "      <td>.</td>\n",
       "      <td>-</td>\n",
       "      <td>.</td>\n",
       "      <td>ID=exon:ENST00000494787.6:1;Parent=ENST0000049...</td>\n",
       "    </tr>\n",
       "    <tr>\n",
       "      <th>18</th>\n",
       "      <td>chr4</td>\n",
       "      <td>HAVANA</td>\n",
       "      <td>CDS</td>\n",
       "      <td>1711874</td>\n",
       "      <td>1712018</td>\n",
       "      <td>.</td>\n",
       "      <td>-</td>\n",
       "      <td>2</td>\n",
       "      <td>ID=CDS:ENST00000483348.5;Parent=ENST0000048334...</td>\n",
       "    </tr>\n",
       "    <tr>\n",
       "      <th>19</th>\n",
       "      <td>chr12</td>\n",
       "      <td>HAVANA</td>\n",
       "      <td>exon</td>\n",
       "      <td>79798494</td>\n",
       "      <td>79798498</td>\n",
       "      <td>.</td>\n",
       "      <td>-</td>\n",
       "      <td>.</td>\n",
       "      <td>ID=exon:ENST00000551781.2:1;Parent=ENST0000055...</td>\n",
       "    </tr>\n",
       "    <tr>\n",
       "      <th>20</th>\n",
       "      <td>chr17</td>\n",
       "      <td>HAVANA</td>\n",
       "      <td>transcript</td>\n",
       "      <td>4892471</td>\n",
       "      <td>4893650</td>\n",
       "      <td>.</td>\n",
       "      <td>+</td>\n",
       "      <td>.</td>\n",
       "      <td>ID=ENST00000572629.1;Parent=ENSG00000141503.15...</td>\n",
       "    </tr>\n",
       "    <tr>\n",
       "      <th>21</th>\n",
       "      <td>chr2</td>\n",
       "      <td>HAVANA</td>\n",
       "      <td>exon</td>\n",
       "      <td>181226471</td>\n",
       "      <td>181226535</td>\n",
       "      <td>.</td>\n",
       "      <td>+</td>\n",
       "      <td>.</td>\n",
       "      <td>ID=exon:ENST00000424655.1:2;Parent=ENST0000042...</td>\n",
       "    </tr>\n",
       "    <tr>\n",
       "      <th>22</th>\n",
       "      <td>chr8</td>\n",
       "      <td>HAVANA</td>\n",
       "      <td>exon</td>\n",
       "      <td>103420264</td>\n",
       "      <td>103420463</td>\n",
       "      <td>.</td>\n",
       "      <td>+</td>\n",
       "      <td>.</td>\n",
       "      <td>ID=exon:ENST00000518554.2:2;Parent=ENST0000051...</td>\n",
       "    </tr>\n",
       "    <tr>\n",
       "      <th>23</th>\n",
       "      <td>chr12</td>\n",
       "      <td>HAVANA</td>\n",
       "      <td>CDS</td>\n",
       "      <td>100072679</td>\n",
       "      <td>100072813</td>\n",
       "      <td>.</td>\n",
       "      <td>-</td>\n",
       "      <td>0</td>\n",
       "      <td>ID=CDS:ENST00000548045.5;Parent=ENST0000054804...</td>\n",
       "    </tr>\n",
       "    <tr>\n",
       "      <th>24</th>\n",
       "      <td>chr15</td>\n",
       "      <td>HAVANA</td>\n",
       "      <td>CDS</td>\n",
       "      <td>89893881</td>\n",
       "      <td>89893949</td>\n",
       "      <td>.</td>\n",
       "      <td>-</td>\n",
       "      <td>0</td>\n",
       "      <td>ID=CDS:ENST00000423566.6;Parent=ENST0000042356...</td>\n",
       "    </tr>\n",
       "    <tr>\n",
       "      <th>25</th>\n",
       "      <td>chr2</td>\n",
       "      <td>HAVANA</td>\n",
       "      <td>exon</td>\n",
       "      <td>170343459</td>\n",
       "      <td>170343656</td>\n",
       "      <td>.</td>\n",
       "      <td>-</td>\n",
       "      <td>.</td>\n",
       "      <td>ID=exon:ENST00000630561.2:2;Parent=ENST0000063...</td>\n",
       "    </tr>\n",
       "    <tr>\n",
       "      <th>26</th>\n",
       "      <td>chr10</td>\n",
       "      <td>ENSEMBL</td>\n",
       "      <td>exon</td>\n",
       "      <td>121565438</td>\n",
       "      <td>121565704</td>\n",
       "      <td>.</td>\n",
       "      <td>-</td>\n",
       "      <td>.</td>\n",
       "      <td>ID=exon:ENST00000369061.8:2;Parent=ENST0000036...</td>\n",
       "    </tr>\n",
       "    <tr>\n",
       "      <th>27</th>\n",
       "      <td>chrX</td>\n",
       "      <td>HAVANA</td>\n",
       "      <td>gene</td>\n",
       "      <td>9412772</td>\n",
       "      <td>9413522</td>\n",
       "      <td>.</td>\n",
       "      <td>+</td>\n",
       "      <td>.</td>\n",
       "      <td>ID=ENSG00000281941.1;gene_id=ENSG00000281941.1...</td>\n",
       "    </tr>\n",
       "    <tr>\n",
       "      <th>28</th>\n",
       "      <td>chr11</td>\n",
       "      <td>HAVANA</td>\n",
       "      <td>exon</td>\n",
       "      <td>63756112</td>\n",
       "      <td>63756170</td>\n",
       "      <td>.</td>\n",
       "      <td>+</td>\n",
       "      <td>.</td>\n",
       "      <td>ID=exon:ENST00000377819.9:8;Parent=ENST0000037...</td>\n",
       "    </tr>\n",
       "    <tr>\n",
       "      <th>29</th>\n",
       "      <td>chr19</td>\n",
       "      <td>HAVANA</td>\n",
       "      <td>exon</td>\n",
       "      <td>17320251</td>\n",
       "      <td>17320492</td>\n",
       "      <td>.</td>\n",
       "      <td>+</td>\n",
       "      <td>.</td>\n",
       "      <td>ID=exon:ENST00000593466.5:6;Parent=ENST0000059...</td>\n",
       "    </tr>\n",
       "    <tr>\n",
       "      <th>...</th>\n",
       "      <td>...</td>\n",
       "      <td>...</td>\n",
       "      <td>...</td>\n",
       "      <td>...</td>\n",
       "      <td>...</td>\n",
       "      <td>...</td>\n",
       "      <td>...</td>\n",
       "      <td>...</td>\n",
       "      <td>...</td>\n",
       "    </tr>\n",
       "    <tr>\n",
       "      <th>9970</th>\n",
       "      <td>chr1</td>\n",
       "      <td>HAVANA</td>\n",
       "      <td>CDS</td>\n",
       "      <td>19655324</td>\n",
       "      <td>19655435</td>\n",
       "      <td>.</td>\n",
       "      <td>+</td>\n",
       "      <td>1</td>\n",
       "      <td>ID=CDS:ENST00000375136.7;Parent=ENST0000037513...</td>\n",
       "    </tr>\n",
       "    <tr>\n",
       "      <th>9971</th>\n",
       "      <td>chr10</td>\n",
       "      <td>HAVANA</td>\n",
       "      <td>start_codon</td>\n",
       "      <td>80362444</td>\n",
       "      <td>80362446</td>\n",
       "      <td>.</td>\n",
       "      <td>+</td>\n",
       "      <td>0</td>\n",
       "      <td>ID=start_codon:ENST00000256039.2;Parent=ENST00...</td>\n",
       "    </tr>\n",
       "    <tr>\n",
       "      <th>9972</th>\n",
       "      <td>chr14</td>\n",
       "      <td>HAVANA</td>\n",
       "      <td>exon</td>\n",
       "      <td>92716185</td>\n",
       "      <td>92716221</td>\n",
       "      <td>.</td>\n",
       "      <td>-</td>\n",
       "      <td>.</td>\n",
       "      <td>ID=exon:ENST00000555169.1:2;Parent=ENST0000055...</td>\n",
       "    </tr>\n",
       "    <tr>\n",
       "      <th>9973</th>\n",
       "      <td>chr16</td>\n",
       "      <td>HAVANA</td>\n",
       "      <td>CDS</td>\n",
       "      <td>578379</td>\n",
       "      <td>578505</td>\n",
       "      <td>.</td>\n",
       "      <td>+</td>\n",
       "      <td>0</td>\n",
       "      <td>ID=CDS:ENST00000636005.1;Parent=ENST0000063600...</td>\n",
       "    </tr>\n",
       "    <tr>\n",
       "      <th>9974</th>\n",
       "      <td>chrX</td>\n",
       "      <td>HAVANA</td>\n",
       "      <td>exon</td>\n",
       "      <td>49251334</td>\n",
       "      <td>49251765</td>\n",
       "      <td>.</td>\n",
       "      <td>-</td>\n",
       "      <td>.</td>\n",
       "      <td>ID=exon:ENST00000376197.1:10;Parent=ENST000003...</td>\n",
       "    </tr>\n",
       "    <tr>\n",
       "      <th>9975</th>\n",
       "      <td>chr12</td>\n",
       "      <td>ENSEMBL</td>\n",
       "      <td>stop_codon</td>\n",
       "      <td>120212314</td>\n",
       "      <td>120212316</td>\n",
       "      <td>.</td>\n",
       "      <td>-</td>\n",
       "      <td>0</td>\n",
       "      <td>ID=stop_codon:ENST00000267257.11;Parent=ENST00...</td>\n",
       "    </tr>\n",
       "    <tr>\n",
       "      <th>9976</th>\n",
       "      <td>chr16</td>\n",
       "      <td>HAVANA</td>\n",
       "      <td>CDS</td>\n",
       "      <td>2165857</td>\n",
       "      <td>2165936</td>\n",
       "      <td>.</td>\n",
       "      <td>+</td>\n",
       "      <td>0</td>\n",
       "      <td>ID=CDS:ENST00000565383.5;Parent=ENST0000056538...</td>\n",
       "    </tr>\n",
       "    <tr>\n",
       "      <th>9977</th>\n",
       "      <td>chrX</td>\n",
       "      <td>HAVANA</td>\n",
       "      <td>start_codon</td>\n",
       "      <td>136780880</td>\n",
       "      <td>136780882</td>\n",
       "      <td>.</td>\n",
       "      <td>-</td>\n",
       "      <td>0</td>\n",
       "      <td>ID=start_codon:ENST00000250617.6;Parent=ENST00...</td>\n",
       "    </tr>\n",
       "    <tr>\n",
       "      <th>9978</th>\n",
       "      <td>chr11</td>\n",
       "      <td>HAVANA</td>\n",
       "      <td>exon</td>\n",
       "      <td>2167435</td>\n",
       "      <td>2167485</td>\n",
       "      <td>.</td>\n",
       "      <td>-</td>\n",
       "      <td>.</td>\n",
       "      <td>ID=exon:ENST00000324155.8:6;Parent=ENST0000032...</td>\n",
       "    </tr>\n",
       "    <tr>\n",
       "      <th>9979</th>\n",
       "      <td>chr16</td>\n",
       "      <td>HAVANA</td>\n",
       "      <td>exon</td>\n",
       "      <td>70863085</td>\n",
       "      <td>70863182</td>\n",
       "      <td>.</td>\n",
       "      <td>-</td>\n",
       "      <td>.</td>\n",
       "      <td>ID=exon:ENST00000378856.8:3;Parent=ENST0000037...</td>\n",
       "    </tr>\n",
       "    <tr>\n",
       "      <th>9980</th>\n",
       "      <td>chr11</td>\n",
       "      <td>HAVANA</td>\n",
       "      <td>CDS</td>\n",
       "      <td>117929287</td>\n",
       "      <td>117929307</td>\n",
       "      <td>.</td>\n",
       "      <td>-</td>\n",
       "      <td>0</td>\n",
       "      <td>ID=CDS:ENST00000524993.5;Parent=ENST0000052499...</td>\n",
       "    </tr>\n",
       "    <tr>\n",
       "      <th>9981</th>\n",
       "      <td>chr2</td>\n",
       "      <td>HAVANA</td>\n",
       "      <td>exon</td>\n",
       "      <td>178695865</td>\n",
       "      <td>178696269</td>\n",
       "      <td>.</td>\n",
       "      <td>-</td>\n",
       "      <td>.</td>\n",
       "      <td>ID=exon:ENST00000414766.5:8;Parent=ENST0000041...</td>\n",
       "    </tr>\n",
       "    <tr>\n",
       "      <th>9982</th>\n",
       "      <td>chr19</td>\n",
       "      <td>HAVANA</td>\n",
       "      <td>exon</td>\n",
       "      <td>9621547</td>\n",
       "      <td>9621645</td>\n",
       "      <td>.</td>\n",
       "      <td>+</td>\n",
       "      <td>.</td>\n",
       "      <td>ID=exon:ENST00000592851.5:1;Parent=ENST0000059...</td>\n",
       "    </tr>\n",
       "    <tr>\n",
       "      <th>9983</th>\n",
       "      <td>chr1</td>\n",
       "      <td>HAVANA</td>\n",
       "      <td>exon</td>\n",
       "      <td>224114087</td>\n",
       "      <td>224114396</td>\n",
       "      <td>.</td>\n",
       "      <td>+</td>\n",
       "      <td>.</td>\n",
       "      <td>ID=exon:ENST00000366862.9:1;Parent=ENST0000036...</td>\n",
       "    </tr>\n",
       "    <tr>\n",
       "      <th>9984</th>\n",
       "      <td>chr18</td>\n",
       "      <td>HAVANA</td>\n",
       "      <td>exon</td>\n",
       "      <td>45999436</td>\n",
       "      <td>45999534</td>\n",
       "      <td>.</td>\n",
       "      <td>-</td>\n",
       "      <td>.</td>\n",
       "      <td>ID=exon:ENST00000588801.5:7;Parent=ENST0000058...</td>\n",
       "    </tr>\n",
       "    <tr>\n",
       "      <th>9985</th>\n",
       "      <td>chr4</td>\n",
       "      <td>HAVANA</td>\n",
       "      <td>transcript</td>\n",
       "      <td>88758790</td>\n",
       "      <td>88768414</td>\n",
       "      <td>.</td>\n",
       "      <td>-</td>\n",
       "      <td>.</td>\n",
       "      <td>ID=ENST00000502914.1;Parent=ENSG00000138640.14...</td>\n",
       "    </tr>\n",
       "    <tr>\n",
       "      <th>9986</th>\n",
       "      <td>chr12</td>\n",
       "      <td>HAVANA</td>\n",
       "      <td>exon</td>\n",
       "      <td>28257202</td>\n",
       "      <td>28257245</td>\n",
       "      <td>.</td>\n",
       "      <td>+</td>\n",
       "      <td>.</td>\n",
       "      <td>ID=exon:ENST00000543534.5:4;Parent=ENST0000054...</td>\n",
       "    </tr>\n",
       "    <tr>\n",
       "      <th>9987</th>\n",
       "      <td>chr1</td>\n",
       "      <td>HAVANA</td>\n",
       "      <td>CDS</td>\n",
       "      <td>201005308</td>\n",
       "      <td>201005442</td>\n",
       "      <td>.</td>\n",
       "      <td>-</td>\n",
       "      <td>0</td>\n",
       "      <td>ID=CDS:ENST00000422435.2;Parent=ENST0000042243...</td>\n",
       "    </tr>\n",
       "    <tr>\n",
       "      <th>9988</th>\n",
       "      <td>chr10</td>\n",
       "      <td>ENSEMBL</td>\n",
       "      <td>exon</td>\n",
       "      <td>119080628</td>\n",
       "      <td>119080823</td>\n",
       "      <td>.</td>\n",
       "      <td>-</td>\n",
       "      <td>.</td>\n",
       "      <td>ID=exon:ENST00000541549.2:1;Parent=ENST0000054...</td>\n",
       "    </tr>\n",
       "    <tr>\n",
       "      <th>9989</th>\n",
       "      <td>chr17</td>\n",
       "      <td>HAVANA</td>\n",
       "      <td>CDS</td>\n",
       "      <td>7846579</td>\n",
       "      <td>7846740</td>\n",
       "      <td>.</td>\n",
       "      <td>+</td>\n",
       "      <td>0</td>\n",
       "      <td>ID=CDS:ENST00000448097.6;Parent=ENST0000044809...</td>\n",
       "    </tr>\n",
       "    <tr>\n",
       "      <th>9990</th>\n",
       "      <td>chr14</td>\n",
       "      <td>HAVANA</td>\n",
       "      <td>three_prime_UTR</td>\n",
       "      <td>100342050</td>\n",
       "      <td>100342211</td>\n",
       "      <td>.</td>\n",
       "      <td>-</td>\n",
       "      <td>.</td>\n",
       "      <td>ID=UTR3:ENST00000554601.1;Parent=ENST000005546...</td>\n",
       "    </tr>\n",
       "    <tr>\n",
       "      <th>9991</th>\n",
       "      <td>chr6</td>\n",
       "      <td>HAVANA</td>\n",
       "      <td>three_prime_UTR</td>\n",
       "      <td>10397915</td>\n",
       "      <td>10398416</td>\n",
       "      <td>.</td>\n",
       "      <td>-</td>\n",
       "      <td>.</td>\n",
       "      <td>ID=UTR3:ENST00000379608.7;Parent=ENST000003796...</td>\n",
       "    </tr>\n",
       "    <tr>\n",
       "      <th>9992</th>\n",
       "      <td>chr7</td>\n",
       "      <td>HAVANA</td>\n",
       "      <td>exon</td>\n",
       "      <td>120973205</td>\n",
       "      <td>120973243</td>\n",
       "      <td>.</td>\n",
       "      <td>+</td>\n",
       "      <td>.</td>\n",
       "      <td>ID=exon:ENST00000315870.9:11;Parent=ENST000003...</td>\n",
       "    </tr>\n",
       "    <tr>\n",
       "      <th>9993</th>\n",
       "      <td>chr20</td>\n",
       "      <td>HAVANA</td>\n",
       "      <td>CDS</td>\n",
       "      <td>18315069</td>\n",
       "      <td>18315388</td>\n",
       "      <td>.</td>\n",
       "      <td>+</td>\n",
       "      <td>2</td>\n",
       "      <td>ID=CDS:ENST00000425686.2;Parent=ENST0000042568...</td>\n",
       "    </tr>\n",
       "    <tr>\n",
       "      <th>9994</th>\n",
       "      <td>chr5</td>\n",
       "      <td>HAVANA</td>\n",
       "      <td>exon</td>\n",
       "      <td>145817894</td>\n",
       "      <td>145818054</td>\n",
       "      <td>.</td>\n",
       "      <td>-</td>\n",
       "      <td>.</td>\n",
       "      <td>ID=exon:ENST00000334744.8:5;Parent=ENST0000033...</td>\n",
       "    </tr>\n",
       "    <tr>\n",
       "      <th>9995</th>\n",
       "      <td>chr16</td>\n",
       "      <td>HAVANA</td>\n",
       "      <td>five_prime_UTR</td>\n",
       "      <td>71546277</td>\n",
       "      <td>71546335</td>\n",
       "      <td>.</td>\n",
       "      <td>-</td>\n",
       "      <td>.</td>\n",
       "      <td>ID=UTR5:ENST00000564225.5;Parent=ENST000005642...</td>\n",
       "    </tr>\n",
       "    <tr>\n",
       "      <th>9996</th>\n",
       "      <td>chr15</td>\n",
       "      <td>HAVANA</td>\n",
       "      <td>three_prime_UTR</td>\n",
       "      <td>74628604</td>\n",
       "      <td>74628683</td>\n",
       "      <td>.</td>\n",
       "      <td>+</td>\n",
       "      <td>.</td>\n",
       "      <td>ID=UTR3:ENST00000564468.5;Parent=ENST000005644...</td>\n",
       "    </tr>\n",
       "    <tr>\n",
       "      <th>9997</th>\n",
       "      <td>chr3</td>\n",
       "      <td>HAVANA</td>\n",
       "      <td>CDS</td>\n",
       "      <td>123089168</td>\n",
       "      <td>123089294</td>\n",
       "      <td>.</td>\n",
       "      <td>+</td>\n",
       "      <td>0</td>\n",
       "      <td>ID=CDS:ENST00000316218.11;Parent=ENST000003162...</td>\n",
       "    </tr>\n",
       "    <tr>\n",
       "      <th>9998</th>\n",
       "      <td>chr10</td>\n",
       "      <td>HAVANA</td>\n",
       "      <td>exon</td>\n",
       "      <td>133398435</td>\n",
       "      <td>133398515</td>\n",
       "      <td>.</td>\n",
       "      <td>+</td>\n",
       "      <td>.</td>\n",
       "      <td>ID=exon:ENST00000477902.6:4;Parent=ENST0000047...</td>\n",
       "    </tr>\n",
       "    <tr>\n",
       "      <th>9999</th>\n",
       "      <td>chr4</td>\n",
       "      <td>HAVANA</td>\n",
       "      <td>exon</td>\n",
       "      <td>70704204</td>\n",
       "      <td>70704348</td>\n",
       "      <td>.</td>\n",
       "      <td>+</td>\n",
       "      <td>.</td>\n",
       "      <td>ID=exon:ENST00000514898.1:1;Parent=ENST0000051...</td>\n",
       "    </tr>\n",
       "  </tbody>\n",
       "</table>\n",
       "<p>10000 rows × 9 columns</p>\n",
       "</div>"
      ],
      "text/plain": [
       "      chrom   source             type      start        end score strand  \\\n",
       "0     chr18   HAVANA              CDS   12452255   12452391     .      -   \n",
       "1      chr2   HAVANA   five_prime_UTR    9995879    9995970     .      +   \n",
       "2      chr2   HAVANA              CDS  159886420  159886530     .      -   \n",
       "3      chr1   HAVANA       stop_codon   87097937   87097939     .      +   \n",
       "4      chr1   HAVANA      start_codon  208217920  208217922     .      -   \n",
       "5     chr22  ENSEMBL              CDS   24876577   24876715     .      +   \n",
       "6     chr14   HAVANA             exon   52646192   52646287     .      -   \n",
       "7      chr1  ENSEMBL   five_prime_UTR  145728244  145728327     .      +   \n",
       "8      chr1   HAVANA             exon  202736213  202736392     .      -   \n",
       "9      chr1   HAVANA   five_prime_UTR  179082086  179082128     .      +   \n",
       "10     chr8   HAVANA   five_prime_UTR   65644739   65644784     .      +   \n",
       "11    chr18   HAVANA       transcript   80037387   80080309     .      +   \n",
       "12     chr9  ENSEMBL              CDS  136446855  136447015     .      -   \n",
       "13    chr16   HAVANA             exon   56886953   56887093     .      +   \n",
       "14    chr12   HAVANA       transcript  103999418  104050137     .      -   \n",
       "15     chr2   HAVANA              CDS   96296536   96296691     .      -   \n",
       "16     chr1   HAVANA              CDS  184051756  184051890     .      +   \n",
       "17    chr17   HAVANA             exon   76087654   76087708     .      -   \n",
       "18     chr4   HAVANA              CDS    1711874    1712018     .      -   \n",
       "19    chr12   HAVANA             exon   79798494   79798498     .      -   \n",
       "20    chr17   HAVANA       transcript    4892471    4893650     .      +   \n",
       "21     chr2   HAVANA             exon  181226471  181226535     .      +   \n",
       "22     chr8   HAVANA             exon  103420264  103420463     .      +   \n",
       "23    chr12   HAVANA              CDS  100072679  100072813     .      -   \n",
       "24    chr15   HAVANA              CDS   89893881   89893949     .      -   \n",
       "25     chr2   HAVANA             exon  170343459  170343656     .      -   \n",
       "26    chr10  ENSEMBL             exon  121565438  121565704     .      -   \n",
       "27     chrX   HAVANA             gene    9412772    9413522     .      +   \n",
       "28    chr11   HAVANA             exon   63756112   63756170     .      +   \n",
       "29    chr19   HAVANA             exon   17320251   17320492     .      +   \n",
       "...     ...      ...              ...        ...        ...   ...    ...   \n",
       "9970   chr1   HAVANA              CDS   19655324   19655435     .      +   \n",
       "9971  chr10   HAVANA      start_codon   80362444   80362446     .      +   \n",
       "9972  chr14   HAVANA             exon   92716185   92716221     .      -   \n",
       "9973  chr16   HAVANA              CDS     578379     578505     .      +   \n",
       "9974   chrX   HAVANA             exon   49251334   49251765     .      -   \n",
       "9975  chr12  ENSEMBL       stop_codon  120212314  120212316     .      -   \n",
       "9976  chr16   HAVANA              CDS    2165857    2165936     .      +   \n",
       "9977   chrX   HAVANA      start_codon  136780880  136780882     .      -   \n",
       "9978  chr11   HAVANA             exon    2167435    2167485     .      -   \n",
       "9979  chr16   HAVANA             exon   70863085   70863182     .      -   \n",
       "9980  chr11   HAVANA              CDS  117929287  117929307     .      -   \n",
       "9981   chr2   HAVANA             exon  178695865  178696269     .      -   \n",
       "9982  chr19   HAVANA             exon    9621547    9621645     .      +   \n",
       "9983   chr1   HAVANA             exon  224114087  224114396     .      +   \n",
       "9984  chr18   HAVANA             exon   45999436   45999534     .      -   \n",
       "9985   chr4   HAVANA       transcript   88758790   88768414     .      -   \n",
       "9986  chr12   HAVANA             exon   28257202   28257245     .      +   \n",
       "9987   chr1   HAVANA              CDS  201005308  201005442     .      -   \n",
       "9988  chr10  ENSEMBL             exon  119080628  119080823     .      -   \n",
       "9989  chr17   HAVANA              CDS    7846579    7846740     .      +   \n",
       "9990  chr14   HAVANA  three_prime_UTR  100342050  100342211     .      -   \n",
       "9991   chr6   HAVANA  three_prime_UTR   10397915   10398416     .      -   \n",
       "9992   chr7   HAVANA             exon  120973205  120973243     .      +   \n",
       "9993  chr20   HAVANA              CDS   18315069   18315388     .      +   \n",
       "9994   chr5   HAVANA             exon  145817894  145818054     .      -   \n",
       "9995  chr16   HAVANA   five_prime_UTR   71546277   71546335     .      -   \n",
       "9996  chr15   HAVANA  three_prime_UTR   74628604   74628683     .      +   \n",
       "9997   chr3   HAVANA              CDS  123089168  123089294     .      +   \n",
       "9998  chr10   HAVANA             exon  133398435  133398515     .      +   \n",
       "9999   chr4   HAVANA             exon   70704204   70704348     .      +   \n",
       "\n",
       "     frame                                               info  \n",
       "0        0  ID=CDS:ENST00000410092.7;Parent=ENST0000041009...  \n",
       "1        .  ID=UTR5:ENST00000480736.1;Parent=ENST000004807...  \n",
       "2        2  ID=CDS:ENST00000504764.5;Parent=ENST0000050476...  \n",
       "3        0  ID=stop_codon:ENST00000370551.8;Parent=ENST000...  \n",
       "4        0  ID=start_codon:ENST00000367033.3;Parent=ENST00...  \n",
       "5        2  ID=CDS:ENST00000610372.4;Parent=ENST0000061037...  \n",
       "6        .  ID=exon:ENST00000555069.1:2;Parent=ENST0000055...  \n",
       "7        .  ID=UTR5:ENST00000235933.10;Parent=ENST00000235...  \n",
       "8        .  ID=exon:ENST00000367265.7:21;Parent=ENST000003...  \n",
       "9        .  ID=UTR5:ENST00000352445.10;Parent=ENST00000352...  \n",
       "10       .  ID=UTR5:ENST00000262146.8;Parent=ENST000002621...  \n",
       "11       .  ID=ENST00000591514.1;Parent=ENSG00000267127.7;...  \n",
       "12       2  ID=CDS:ENST00000290037.10;Parent=ENST000002900...  \n",
       "13       .  ID=exon:ENST00000566786.5:17;Parent=ENST000005...  \n",
       "14       .  ID=ENST00000546851.1;Parent=ENSG00000120820.12...  \n",
       "15       0  ID=CDS:ENST00000323853.9;Parent=ENST0000032385...  \n",
       "16       0  ID=CDS:ENST00000533373.5;Parent=ENST0000053337...  \n",
       "17       .  ID=exon:ENST00000494787.6:1;Parent=ENST0000049...  \n",
       "18       2  ID=CDS:ENST00000483348.5;Parent=ENST0000048334...  \n",
       "19       .  ID=exon:ENST00000551781.2:1;Parent=ENST0000055...  \n",
       "20       .  ID=ENST00000572629.1;Parent=ENSG00000141503.15...  \n",
       "21       .  ID=exon:ENST00000424655.1:2;Parent=ENST0000042...  \n",
       "22       .  ID=exon:ENST00000518554.2:2;Parent=ENST0000051...  \n",
       "23       0  ID=CDS:ENST00000548045.5;Parent=ENST0000054804...  \n",
       "24       0  ID=CDS:ENST00000423566.6;Parent=ENST0000042356...  \n",
       "25       .  ID=exon:ENST00000630561.2:2;Parent=ENST0000063...  \n",
       "26       .  ID=exon:ENST00000369061.8:2;Parent=ENST0000036...  \n",
       "27       .  ID=ENSG00000281941.1;gene_id=ENSG00000281941.1...  \n",
       "28       .  ID=exon:ENST00000377819.9:8;Parent=ENST0000037...  \n",
       "29       .  ID=exon:ENST00000593466.5:6;Parent=ENST0000059...  \n",
       "...    ...                                                ...  \n",
       "9970     1  ID=CDS:ENST00000375136.7;Parent=ENST0000037513...  \n",
       "9971     0  ID=start_codon:ENST00000256039.2;Parent=ENST00...  \n",
       "9972     .  ID=exon:ENST00000555169.1:2;Parent=ENST0000055...  \n",
       "9973     0  ID=CDS:ENST00000636005.1;Parent=ENST0000063600...  \n",
       "9974     .  ID=exon:ENST00000376197.1:10;Parent=ENST000003...  \n",
       "9975     0  ID=stop_codon:ENST00000267257.11;Parent=ENST00...  \n",
       "9976     0  ID=CDS:ENST00000565383.5;Parent=ENST0000056538...  \n",
       "9977     0  ID=start_codon:ENST00000250617.6;Parent=ENST00...  \n",
       "9978     .  ID=exon:ENST00000324155.8:6;Parent=ENST0000032...  \n",
       "9979     .  ID=exon:ENST00000378856.8:3;Parent=ENST0000037...  \n",
       "9980     0  ID=CDS:ENST00000524993.5;Parent=ENST0000052499...  \n",
       "9981     .  ID=exon:ENST00000414766.5:8;Parent=ENST0000041...  \n",
       "9982     .  ID=exon:ENST00000592851.5:1;Parent=ENST0000059...  \n",
       "9983     .  ID=exon:ENST00000366862.9:1;Parent=ENST0000036...  \n",
       "9984     .  ID=exon:ENST00000588801.5:7;Parent=ENST0000058...  \n",
       "9985     .  ID=ENST00000502914.1;Parent=ENSG00000138640.14...  \n",
       "9986     .  ID=exon:ENST00000543534.5:4;Parent=ENST0000054...  \n",
       "9987     0  ID=CDS:ENST00000422435.2;Parent=ENST0000042243...  \n",
       "9988     .  ID=exon:ENST00000541549.2:1;Parent=ENST0000054...  \n",
       "9989     0  ID=CDS:ENST00000448097.6;Parent=ENST0000044809...  \n",
       "9990     .  ID=UTR3:ENST00000554601.1;Parent=ENST000005546...  \n",
       "9991     .  ID=UTR3:ENST00000379608.7;Parent=ENST000003796...  \n",
       "9992     .  ID=exon:ENST00000315870.9:11;Parent=ENST000003...  \n",
       "9993     2  ID=CDS:ENST00000425686.2;Parent=ENST0000042568...  \n",
       "9994     .  ID=exon:ENST00000334744.8:5;Parent=ENST0000033...  \n",
       "9995     .  ID=UTR5:ENST00000564225.5;Parent=ENST000005642...  \n",
       "9996     .  ID=UTR3:ENST00000564468.5;Parent=ENST000005644...  \n",
       "9997     0  ID=CDS:ENST00000316218.11;Parent=ENST000003162...  \n",
       "9998     .  ID=exon:ENST00000477902.6:4;Parent=ENST0000047...  \n",
       "9999     .  ID=exon:ENST00000514898.1:1;Parent=ENST0000051...  \n",
       "\n",
       "[10000 rows x 9 columns]"
      ]
     },
     "execution_count": 125,
     "metadata": {},
     "output_type": "execute_result"
    }
   ],
   "source": [
    "pd.read_table(\"../data/gencode_random.gff3\", sep=\"\\t\", names =[\"chrom\", \"source\", \"type\", \"start\", \"end\", \"score\", \"strand\", \"frame\", \"info\"])"
   ]
  },
  {
   "cell_type": "code",
   "execution_count": null,
   "metadata": {
    "collapsed": true,
    "run_control": {
     "frozen": false,
     "read_only": false
    }
   },
   "outputs": [],
   "source": []
  }
 ],
 "metadata": {
  "kernelspec": {
   "display_name": "Python 3",
   "language": "python",
   "name": "python3"
  },
  "language_info": {
   "codemirror_mode": {
    "name": "ipython",
    "version": 3
   },
   "file_extension": ".py",
   "mimetype": "text/x-python",
   "name": "python",
   "nbconvert_exporter": "python",
   "pygments_lexer": "ipython3",
   "version": "3.5.2"
  }
 },
 "nbformat": 4,
 "nbformat_minor": 0
}
