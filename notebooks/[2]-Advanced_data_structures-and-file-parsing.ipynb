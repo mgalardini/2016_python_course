{
 "cells": [
  {
   "cell_type": "code",
   "execution_count": 27,
   "metadata": {
    "collapsed": false,
    "run_control": {
     "frozen": false,
     "read_only": false
    }
   },
   "outputs": [
    {
     "data": {
      "text/html": [
       "<style>.container { width:90% !important; }</style>"
      ],
      "text/plain": [
       "<IPython.core.display.HTML object>"
      ]
     },
     "metadata": {},
     "output_type": "display_data"
    }
   ],
   "source": [
    "# Iport the packages that will be usefull for this part of the lesson\n",
    "from collections import OrderedDict, Counter\n",
    "import pandas as pd\n",
    "from pprint import pprint\n",
    "\n",
    "# Small trick to get a larger display\n",
    "from IPython.core.display import display, HTML\n",
    "display(HTML(\"<style>.container { width:90% !important; }</style>\"))"
   ]
  },
  {
   "cell_type": "markdown",
   "metadata": {},
   "source": [
    "# High-performance container datatypes from the standard library"
   ]
  },
  {
   "cell_type": "markdown",
   "metadata": {},
   "source": [
    "**Python standard library contains a very interesting module to simplify the parsing a file: \"collections\" (See [documentation](https://docs.python.org/3.5/library/collections.html) for detailed information)**\n",
    "\n",
    "**This module implements specialized container datatypes providing alternatives to Python’s native data structures (dict, list, set...)**\n",
    "\n",
    "**Two new containers are particularly useful:**\n",
    "* Counter\n",
    "* OrderedDict"
   ]
  },
  {
   "cell_type": "markdown",
   "metadata": {},
   "source": [
    "---\n",
    "## Counter"
   ]
  },
  {
   "cell_type": "markdown",
   "metadata": {},
   "source": [
    "**A [Counter](https://docs.python.org/3.5/library/collections.html#collections.Counter) container is provided to support convenient and rapid counting of specific occurences. See also [defaultdict](https://docs.python.org/3.5/library/collections.html#collections.defaultdict) for a generalization to other types than integer.**"
   ]
  },
  {
   "cell_type": "markdown",
   "metadata": {},
   "source": [
    "***Example: counting characters in a string*** "
   ]
  },
  {
   "cell_type": "code",
   "execution_count": null,
   "metadata": {
    "collapsed": false,
    "run_control": {
     "frozen": false,
     "read_only": false
    }
   },
   "outputs": [],
   "source": [
    "from collections import Counter"
   ]
  },
  {
   "cell_type": "code",
   "execution_count": null,
   "metadata": {
    "collapsed": true,
    "run_control": {
     "frozen": false,
     "read_only": false
    }
   },
   "outputs": [],
   "source": [
    "random_text = \"\"\"Ukip is likely to be asked to repay tens of thousands of euros by European parliament finance chiefs\n",
    "who have accused the party of misspending EU funds on party workers and Nigel Farage’s failed bid to win a seat in\n",
    "Westminster.The Alliance for Direct Democracy in Europe (ADDE), a Ukip-dominated political vehicle, will be asked to\n",
    "repay €173,000 (£148,000) in misspent funds and denied a further €501,000 in EU grants for breaking European rules\n",
    "that ban spending EU money on national election campaigns and referendums. According to a European parliament audit\n",
    "report seen by the Guardian, Ukip spent EU funds on polling and analysis in constituencies where they hoped to win a \n",
    "seat in the 2015 general election, including the South Thanet seat that party leader Farage contested. The party also\n",
    "funded polls to gauge the public mood on leaving the EU, months before the official campaign kicked off in April 2016\"\"\""
   ]
  },
  {
   "cell_type": "code",
   "execution_count": null,
   "metadata": {
    "collapsed": false,
    "run_control": {
     "frozen": false,
     "read_only": false
    },
    "scrolled": true
   },
   "outputs": [],
   "source": [
    "# Example with a Counter \n",
    "c = Counter()\n",
    "\n",
    "# Iterate over each characters of the string\n",
    "for character in random_text:\n",
    "    # Increment the counter for the current element\n",
    "    c[character.lower()] += 1\n",
    "\n",
    "# Order by most frequent element\n",
    "c.most_common()"
   ]
  },
  {
   "cell_type": "code",
   "execution_count": null,
   "metadata": {
    "collapsed": false,
    "run_control": {
     "frozen": false,
     "read_only": false
    }
   },
   "outputs": [],
   "source": [
    "# Same thing but with native collections\n",
    "d = {}\n",
    "\n",
    "# Iterate over each characters of the string\n",
    "for character in random_text:\n",
    "    # If the element is not in the dict we have to create an entry first\n",
    "    if character not in d:\n",
    "        d[character.lower()] = 0\n",
    "    # Increment the counter for the current element\n",
    "    d[character.lower()]+=1\n",
    "    \n",
    "# Order by most frequent element\n",
    "sorted(d.items(), key=lambda t: t[1], reverse=True)"
   ]
  },
  {
   "cell_type": "markdown",
   "metadata": {},
   "source": [
    "***Example: Ramdomly selected global event with catastrophic consequences***"
   ]
  },
  {
   "cell_type": "code",
   "execution_count": null,
   "metadata": {
    "collapsed": false,
    "run_control": {
     "frozen": false,
     "read_only": false
    }
   },
   "outputs": [],
   "source": [
    "c =Counter()\n",
    "\n",
    "# Open the file\n",
    "with open (\"../data/US_election vote_sample.txt\", \"r\") as fp:\n",
    "    # Separate words by tabulations\n",
    "    for candidate in fp.read().split(\"\\t\"):\n",
    "        # Increment the counter for the current element\n",
    "        c[candidate]+=1\n",
    "\n",
    "# Order by most frequent element\n",
    "c.most_common()"
   ]
  },
  {
   "cell_type": "markdown",
   "metadata": {},
   "source": [
    "***Example: Counting feature types in a gene annotation file (gff3)*** "
   ]
  },
  {
   "cell_type": "code",
   "execution_count": null,
   "metadata": {
    "collapsed": false,
    "run_control": {
     "frozen": false,
     "read_only": false
    }
   },
   "outputs": [],
   "source": [
    "# print the 2 first lines of a file to analyse the file structure\n",
    "with open (\"../data/gencode_random.gff3\", \"r\") as fp:\n",
    "    for i in range (2):\n",
    "        print (next(fp))"
   ]
  },
  {
   "cell_type": "markdown",
   "metadata": {},
   "source": [
    "The \"feature type\" is the 3rd element of the list => index 2 in python  "
   ]
  },
  {
   "cell_type": "code",
   "execution_count": null,
   "metadata": {
    "collapsed": false,
    "run_control": {
     "frozen": false,
     "read_only": false
    }
   },
   "outputs": [],
   "source": [
    "c = Counter()\n",
    "\n",
    "# Open the file\n",
    "with open (\"../data/gencode_random.gff3\", \"r\") as fp:\n",
    "    # Iterate over lines\n",
    "    for line in fp:\n",
    "        # Split the line and get the element 3\n",
    "        feature_type = line.split(\"\\t\")[2]\n",
    "        # Increment the counter\n",
    "        c[feature_type]+=1\n",
    "        \n",
    "# Order by most frequent element\n",
    "c.most_common()"
   ]
  },
  {
   "cell_type": "markdown",
   "metadata": {},
   "source": [
    "---\n",
    "## OrderedDict"
   ]
  },
  {
   "cell_type": "markdown",
   "metadata": {},
   "source": [
    "**In a standard python dictionary, the order of the elements is not guaranteed and can change between 2 successive calls. In many situation, it can be annoying particularly if the order of elements in a parsed file matters (fastq, fasta...)**\n",
    "\n",
    "**[Ordered dictionaries](https://docs.python.org/3.5/library/collections.html#collections.OrderedDict) are just like regular dictionaries but they remember the order that items were inserted, like lists.**\n",
    "\n",
    "**When iterating over an ordered dictionary, the items are returned in the order their keys were first added.**"
   ]
  },
  {
   "cell_type": "code",
   "execution_count": 24,
   "metadata": {
    "collapsed": true,
    "run_control": {
     "frozen": false,
     "read_only": false
    }
   },
   "outputs": [],
   "source": [
    "from collections import OrderedDict, Counter"
   ]
  },
  {
   "cell_type": "code",
   "execution_count": null,
   "metadata": {
    "collapsed": false,
    "run_control": {
     "frozen": false,
     "read_only": false
    }
   },
   "outputs": [],
   "source": [
    "fruit_str = \"banana ripe:banana unripe:banana ripe:banana rotten:apple ripe:apple ripe:apple ripe:apple unripe:orange unripe:orange unripe:orange unripe:pear rotten:pear rotten:pear ripe\""
   ]
  },
  {
   "cell_type": "markdown",
   "metadata": {},
   "source": [
    "***Parsing with a normal dictionary*** "
   ]
  },
  {
   "cell_type": "code",
   "execution_count": null,
   "metadata": {
    "collapsed": false,
    "run_control": {
     "frozen": false,
     "read_only": false
    },
    "scrolled": true
   },
   "outputs": [],
   "source": [
    "d={}\n",
    "\n",
    "for element in fruit_str.split(\":\"):\n",
    "    fruit, status = element.split(\" \")\n",
    "    if fruit not in d:\n",
    "        d[fruit] = Counter()\n",
    "    d[fruit][status]+=1\n",
    "\n",
    "d"
   ]
  },
  {
   "cell_type": "markdown",
   "metadata": {},
   "source": [
    "***Parsing with a Ordered dictionary*** "
   ]
  },
  {
   "cell_type": "code",
   "execution_count": null,
   "metadata": {
    "collapsed": false,
    "run_control": {
     "frozen": false,
     "read_only": false
    },
    "scrolled": true
   },
   "outputs": [],
   "source": [
    "d=OrderedDict()\n",
    "\n",
    "for element in fruit_str.split(\":\"):\n",
    "    fruit, status = element.split(\" \")\n",
    "    if fruit not in d:\n",
    "        d[fruit] = Counter()\n",
    "    d[fruit][status]+=1\n",
    "\n",
    "d"
   ]
  },
  {
   "cell_type": "markdown",
   "metadata": {},
   "source": [
    "**Since an ordered dictionary remembers its insertion order, it can be used in conjunction with sorting to make a sorted dictionary (by key or value) from a standard dictionary**"
   ]
  },
  {
   "cell_type": "code",
   "execution_count": 31,
   "metadata": {
    "collapsed": false,
    "run_control": {
     "frozen": false,
     "read_only": false
    }
   },
   "outputs": [
    {
     "name": "stdout",
     "output_type": "stream",
     "text": [
      "\n",
      "Standard unsorted dictionary\n",
      "{'apple': 4, 'apricot': 2, 'banana': 3, 'orange': 2, 'peach': 10, 'pear': 1}\n",
      "\n",
      "Dictionary sorted by key\n",
      "OrderedDict([('apple', 4),\n",
      "             ('apricot', 2),\n",
      "             ('banana', 3),\n",
      "             ('orange', 2),\n",
      "             ('peach', 10),\n",
      "             ('pear', 1)])\n",
      "\n",
      "Dictionary sorted by value\n",
      "OrderedDict([('pear', 1),\n",
      "             ('orange', 2),\n",
      "             ('apricot', 2),\n",
      "             ('banana', 3),\n",
      "             ('apple', 4),\n",
      "             ('peach', 10)])\n"
     ]
    }
   ],
   "source": [
    "print (\"\\nStandard unsorted dictionary\")\n",
    "d = {'banana':3, 'apple':4, 'pear':1, 'orange':2, \"peach\":10, \"apricot\":2}\n",
    "pprint (d)\n",
    "\n",
    "print(\"\\nDictionary sorted by key\")\n",
    "d_per_key = OrderedDict(sorted(d.items(), key=lambda t: t[0]))\n",
    "pprint (d_per_key)\n",
    "\n",
    "print(\"\\nDictionary sorted by value\")\n",
    "d_per_val = OrderedDict(sorted(d.items(), key=lambda t: t[1]))\n",
    "pprint (d_per_val)"
   ]
  },
  {
   "cell_type": "markdown",
   "metadata": {},
   "source": [
    "---\n",
    "# Pandas: a Powerful data structures for data analysis, time series, and statistics"
   ]
  },
  {
   "cell_type": "markdown",
   "metadata": {},
   "source": [
    "* Flexible, and expressive data structures **Series** (1-dimensional) and **DataFrame** (2-dimensional)\n",
    "* High-level building block for doing **practical, real world data analysis**\n",
    "* **Nearly as fast as C language** = Build on top of Numpy and extensive use of Cython\n",
    "* **Robust IO tools** for loading and parsing data from text files, excel files and databases."
   ]
  },
  {
   "cell_type": "markdown",
   "metadata": {},
   "source": [
    "## Introduction to Series"
   ]
  },
  {
   "cell_type": "markdown",
   "metadata": {},
   "source": [
    "* **1D labeled array capable of holding any data type** (integers, strings, float...)\n",
    "\n",
    "* Similar to a python standard dictionary but **faster** (because based on C datatypes) and more **user-friendly** in Jupyter"
   ]
  },
  {
   "cell_type": "code",
   "execution_count": 23,
   "metadata": {
    "collapsed": true,
    "run_control": {
     "frozen": false,
     "read_only": false
    }
   },
   "outputs": [],
   "source": [
    "import pandas as pd"
   ]
  },
  {
   "cell_type": "markdown",
   "metadata": {},
   "source": [
    "### Create series"
   ]
  },
  {
   "cell_type": "markdown",
   "metadata": {},
   "source": [
    "***From 2 lists or sets ***"
   ]
  },
  {
   "cell_type": "code",
   "execution_count": null,
   "metadata": {
    "collapsed": false,
    "run_control": {
     "frozen": false,
     "read_only": false
    }
   },
   "outputs": [],
   "source": [
    "Base = ('A','T','C','G','N')\n",
    "Freq = (0.21, 0.24, 0.27, 0.25, 0.03)\n",
    "pd.Series(data=Freq, index=Base)"
   ]
  },
  {
   "cell_type": "markdown",
   "metadata": {},
   "source": [
    "***From a python dictionary***"
   ]
  },
  {
   "cell_type": "code",
   "execution_count": null,
   "metadata": {
    "collapsed": false,
    "run_control": {
     "frozen": false,
     "read_only": false
    }
   },
   "outputs": [],
   "source": [
    "d = {'A':0.21, 'T':0.24, 'C':0.27, 'G':0.25, 'N':0.03}\n",
    "pd.Series(d)"
   ]
  },
  {
   "cell_type": "markdown",
   "metadata": {},
   "source": [
    "***The data type and series names can be specified*** "
   ]
  },
  {
   "cell_type": "code",
   "execution_count": null,
   "metadata": {
    "collapsed": false,
    "run_control": {
     "frozen": false,
     "read_only": false
    }
   },
   "outputs": [],
   "source": [
    "d = {'A':21.0, 'T':24.0, 'C':27.0, 'G':25.0, 'N':3.0}\n",
    "pd.Series(d, name=\"Percent\", dtype=int)"
   ]
  },
  {
   "cell_type": "markdown",
   "metadata": {},
   "source": [
    "**From a file containing 2 columns with the squeeze option**"
   ]
  },
  {
   "cell_type": "code",
   "execution_count": null,
   "metadata": {
    "collapsed": false,
    "run_control": {
     "frozen": false,
     "read_only": false
    }
   },
   "outputs": [],
   "source": [
    "pd.read_table(\"../data/DNA_distrib.tsv\", index_col=0, squeeze=True, sep=\"\\t\")"
   ]
  },
  {
   "cell_type": "markdown",
   "metadata": {},
   "source": [
    "### Manipulate series"
   ]
  },
  {
   "cell_type": "markdown",
   "metadata": {},
   "source": [
    "***Support list methods***"
   ]
  },
  {
   "cell_type": "code",
   "execution_count": null,
   "metadata": {
    "collapsed": false,
    "run_control": {
     "frozen": false,
     "read_only": false
    }
   },
   "outputs": [],
   "source": [
    "s = pd.Series({'A':0.21, 'T':0.24, 'C':0.27, 'G':0.25})\n",
    "\n",
    "# Concat 2 series\n",
    "s2 = pd.Series({'Y':0.01, 'N':0.03})\n",
    "s3 = s.append(s2)\n",
    "print(s3)\n",
    "\n",
    "# Slicing\n",
    "print(s[2:4])\n",
    "\n",
    "# Extraction\n",
    "print(s[2])\n",
    "\n",
    "# the \"for\" loop works as for a list \n",
    "for i in s:\n",
    "    print (i)\n"
   ]
  },
  {
   "cell_type": "markdown",
   "metadata": {
    "collapsed": false,
    "run_control": {
     "frozen": false,
     "read_only": false
    }
   },
   "source": [
    "***Support dictionary methods***"
   ]
  },
  {
   "cell_type": "code",
   "execution_count": null,
   "metadata": {
    "collapsed": false,
    "run_control": {
     "frozen": false,
     "read_only": false
    }
   },
   "outputs": [],
   "source": [
    "s = pd.Series({'A':21.0, 'T':24.0, 'C':27.0, 'G':25.0, 'N':3.0}, name=\"Percent\", dtype=int)\n",
    "\n",
    "# Update value\n",
    "s[\"A\"] = 22\n",
    "print(s)\n",
    "\n",
    "# Named indexing\n",
    "print(s[\"A\"])\n",
    "\n",
    "# Test for existence\n",
    "print (\"A\" in s)\n",
    "print (\"V\" in s)"
   ]
  },
  {
   "cell_type": "markdown",
   "metadata": {
    "collapsed": true,
    "run_control": {
     "frozen": false,
     "read_only": false
    }
   },
   "source": [
    "***Support a wide range of mathematic operations (thanks to numpy)***"
   ]
  },
  {
   "cell_type": "code",
   "execution_count": null,
   "metadata": {
    "collapsed": false,
    "run_control": {
     "frozen": false,
     "read_only": false
    }
   },
   "outputs": [],
   "source": [
    "s = pd.Series({'A':21, 'T':24, 'C':27, 'G':25, 'N':3}, name=\"Percent\")\n",
    "\n",
    "print(s.max())\n",
    "print(s.mean())\n",
    "print(s.all()>20)\n",
    "print(s.sem())\n",
    "\n",
    "# Addition of 2 series will return a results for all values in the 2 series\n",
    "s2 = pd.Series({'A':0.2, 'T':0.7, 'C':0.4, 'G':1.5, 'N':-3}, name=\"Percent\")\n",
    "\n",
    "print (s + s2)"
   ]
  },
  {
   "cell_type": "markdown",
   "metadata": {
    "collapsed": true,
    "run_control": {
     "frozen": false,
     "read_only": false
    }
   },
   "source": [
    "## Introduction to Dataframes"
   ]
  },
  {
   "cell_type": "markdown",
   "metadata": {
    "collapsed": true,
    "run_control": {
     "frozen": false,
     "read_only": false
    }
   },
   "source": [
    "* **2-dimensional labeled data structure with columns of potentially different types**\n",
    "* **HTML rendering in jupyter**"
   ]
  },
  {
   "cell_type": "markdown",
   "metadata": {},
   "source": [
    "### Create dataframe"
   ]
  },
  {
   "cell_type": "markdown",
   "metadata": {},
   "source": [
    "***You can optionally pass index (row labels) and columns (column labels) arguments***"
   ]
  },
  {
   "cell_type": "markdown",
   "metadata": {},
   "source": [
    "***From a pandas Series***"
   ]
  },
  {
   "cell_type": "code",
   "execution_count": null,
   "metadata": {
    "collapsed": false,
    "run_control": {
     "frozen": false,
     "read_only": false
    }
   },
   "outputs": [],
   "source": [
    "s = pd.Series({'A':21.0, 'T':24.0, 'C':27.0, 'G':25.0, 'N':3.0})\n",
    "pd.DataFrame(s, columns=[\"Percent\"])"
   ]
  },
  {
   "cell_type": "markdown",
   "metadata": {},
   "source": [
    "***From a list of pandas Series***"
   ]
  },
  {
   "cell_type": "code",
   "execution_count": null,
   "metadata": {
    "collapsed": false,
    "run_control": {
     "frozen": false,
     "read_only": false
    }
   },
   "outputs": [],
   "source": [
    "series_list = [\n",
    "    pd.Series({'A':21.0, 'T':24.0, 'C':27.0, 'G':25.0, 'N':3.0}, name=\"Percent\"),\n",
    "    pd.Series({'A':331.2, 'T':322.2, 'C':307.2, 'G':347.2, 'N':None}, name=\"MolecularWeight\"),\n",
    "    pd.Series({'A':259, 'T':267, 'C':271, 'G':253, 'N':None}, name=\"AbsorbanceMax\")]\n",
    "\n",
    "pd.DataFrame(series_list)"
   ]
  },
  {
   "cell_type": "markdown",
   "metadata": {},
   "source": [
    "**From a simple list of list** "
   ]
  },
  {
   "cell_type": "code",
   "execution_count": null,
   "metadata": {
    "collapsed": false,
    "run_control": {
     "frozen": false,
     "read_only": false
    },
    "scrolled": true
   },
   "outputs": [],
   "source": [
    "list_list = [[21.0, 24.0, 27.0, 25.0, 3.0], [331.2, 322.2, 307.2, 347.2, None], [259, 267, 271, 253, None]]\n",
    "column_list = ['A', 'T', 'C', 'G', 'N']\n",
    "index_list = [\"Percent\", \"MolecularWeight\", \"AbsorbanceMax\"]\n",
    "\n",
    "pd.DataFrame(list_list, index=index_list, columns=column_list)"
   ]
  },
  {
   "cell_type": "markdown",
   "metadata": {},
   "source": [
    "***The Dataframe creation is very versatile and can also be done from Dictionaries of lists, dicts, or Series and from numpy.ndarray...***\n",
    "\n",
    "***The orientation may differ depending on the source data (columns or index orientation)***"
   ]
  },
  {
   "cell_type": "code",
   "execution_count": null,
   "metadata": {
    "collapsed": false,
    "scrolled": true
   },
   "outputs": [],
   "source": [
    "dict_list = { \"Percent\":[21.0, 24.0, 27.0, 25.0, 3.0], \"MolecularWeight\":[331.2, 322.2, 307.2, 347.2, None], \"AbsorbanceMax\":[259, 267, 271, 253, None]}\n",
    "\n",
    "pd.DataFrame(dict_list, )"
   ]
  },
  {
   "cell_type": "markdown",
   "metadata": {
    "collapsed": true,
    "run_control": {
     "frozen": false,
     "read_only": false
    }
   },
   "source": [
    "***One of the major strength of Pandas is its ability to perform complex files parsing into a comprehensive dataframe format***"
   ]
  },
  {
   "cell_type": "markdown",
   "metadata": {},
   "source": [
    "### [Brief aside on general file parsing strategy]"
   ]
  },
  {
   "cell_type": "markdown",
   "metadata": {},
   "source": [
    "* **Read the first line of the file and try to understand the structure and determine the length of the file**"
   ]
  },
  {
   "cell_type": "code",
   "execution_count": null,
   "metadata": {
    "collapsed": false,
    "scrolled": true
   },
   "outputs": [],
   "source": [
    "# In Python\n",
    "\n",
    "file = \"../data/gencode_random.gff3\"\n",
    "\n",
    "# Read the first 2 lines\n",
    "with open (file, \"r\") as fp:\n",
    "    for _ in range (2):\n",
    "        print (next(fp))\n",
    "\n",
    "# Count all the lines\n",
    "i = 0\n",
    "with open (file, \"r\") as fp:\n",
    "    for line in fp:\n",
    "        i += 1\n",
    "print (i, \"lines found\")"
   ]
  },
  {
   "cell_type": "code",
   "execution_count": null,
   "metadata": {
    "collapsed": false
   },
   "outputs": [],
   "source": [
    "# In Bash\n",
    "\n",
    "!head \"../data/gencode_random.gff3\" -n 2\n",
    "!echo `wc -l \"../data/gencode_random.gff3\"` lines found"
   ]
  },
  {
   "cell_type": "markdown",
   "metadata": {},
   "source": [
    "* **If the file is a standard genomic/proteomic format, read the documentation**\n",
    "\n",
    ">[gff3 documentation](http://gmod.org/wiki/GFF3)\n",
    "\n",
    ">In this case the gff3 format consists of 9 tab delimited fields\n",
    "\n",
    ">The standard fields are named \"seqid\", \"source\", \"type\", \"start\", \"end\", \"score\", \"strand\", \"phase\", \"attributes\""
   ]
  },
  {
   "cell_type": "markdown",
   "metadata": {},
   "source": [
    "* **Try to parse the file according to this information** (it will works here but you will frequently have to deal with exceptions...)"
   ]
  },
  {
   "cell_type": "markdown",
   "metadata": {},
   "source": [
    "***The hard way with a list of dictionaries... But you control everything and you can parse very complex structured files***"
   ]
  },
  {
   "cell_type": "code",
   "execution_count": 37,
   "metadata": {
    "collapsed": true
   },
   "outputs": [
    {
     "name": "stdout",
     "output_type": "stream",
     "text": [
      "[OrderedDict([('start', '12452255'),\n",
      "              ('attributes',\n",
      "               'ID=CDS:ENST00000410092.7;Parent=ENST00000410092.7;gene_id=ENSG00000134278.15;transcript_id=ENST00000410092.7;gene_type=protein_coding;gene_status=KNOWN;gene_name=SPIRE1;transcript_type=protein_coding;transcript_status=KNOWN;transcript_name=SPIRE1-002;exon_number=15;exon_id=ENSE00003523361.1;level=2;protein_id=ENSP00000387226.3;transcript_support_level=1;tag=basic,appris_principal_3,CCDS;ccdsid=CCDS32790.2;havana_gene=OTTHUMG00000153940.4;havana_transcript=OTTHUMT00000333110.2\\n'),\n",
      "              ('seqid', 'chr18'),\n",
      "              ('end', '12452391'),\n",
      "              ('type', 'CDS'),\n",
      "              ('phase', '0'),\n",
      "              ('score', '.'),\n",
      "              ('strand', '-'),\n",
      "              ('source', 'HAVANA')]),\n",
      " OrderedDict([('start', '9995879'),\n",
      "              ('attributes',\n",
      "               'ID=UTR5:ENST00000480736.1;Parent=ENST00000480736.1;gene_id=ENSG00000134317.17;transcript_id=ENST00000480736.1;gene_type=protein_coding;gene_status=KNOWN;gene_name=GRHL1;transcript_type=protein_coding;transcript_status=KNOWN;transcript_name=GRHL1-005;exon_number=2;exon_id=ENSE00003609524.1;level=2;protein_id=ENSP00000419831.1;transcript_support_level=4;tag=basic;havana_gene=OTTHUMG00000151704.6;havana_transcript=OTTHUMT00000352825.1\\n'),\n",
      "              ('seqid', 'chr2'),\n",
      "              ('end', '9995970'),\n",
      "              ('type', 'five_prime_UTR'),\n",
      "              ('phase', '.'),\n",
      "              ('score', '.'),\n",
      "              ('strand', '+'),\n",
      "              ('source', 'HAVANA')]),\n",
      " OrderedDict([('start', '159886420'),\n",
      "              ('attributes',\n",
      "               'ID=CDS:ENST00000504764.5;Parent=ENST00000504764.5;gene_id=ENSG00000248672.5;transcript_id=ENST00000504764.5;gene_type=protein_coding;gene_status=KNOWN;gene_name=LY75-CD302;transcript_type=protein_coding;transcript_status=KNOWN;transcript_name=LY75-CD302-001;exon_number=5;exon_id=ENSE00003684793.1;level=1;protein_id=ENSP00000423463.1;transcript_support_level=2;tag=basic,appris_principal_4,readthrough_transcript,exp_conf,CCDS;ccdsid=CCDS56141.1;havana_gene=OTTHUMG00000161661.2;havana_transcript=OTTHUMT00000365654.2\\n'),\n",
      "              ('seqid', 'chr2'),\n",
      "              ('end', '159886530'),\n",
      "              ('type', 'CDS'),\n",
      "              ('phase', '2'),\n",
      "              ('score', '.'),\n",
      "              ('strand', '-'),\n",
      "              ('source', 'HAVANA')]),\n",
      " OrderedDict([('start', '87097937'),\n",
      "              ('attributes',\n",
      "               'ID=stop_codon:ENST00000370551.8;Parent=ENST00000370551.8;gene_id=ENSG00000153936.16;transcript_id=ENST00000370551.8;gene_type=protein_coding;gene_status=KNOWN;gene_name=HS2ST1;transcript_type=protein_coding;transcript_status=KNOWN;transcript_name=HS2ST1-002;exon_number=5;exon_id=ENSE00001452996.4;level=2;protein_id=ENSP00000359582.3;transcript_support_level=1;tag=basic,CCDS;ccdsid=CCDS44171.1;havana_gene=OTTHUMG00000010255.4;havana_transcript=OTTHUMT00000457514.1\\n'),\n",
      "              ('seqid', 'chr1'),\n",
      "              ('end', '87097939'),\n",
      "              ('type', 'stop_codon'),\n",
      "              ('phase', '0'),\n",
      "              ('score', '.'),\n",
      "              ('strand', '+'),\n",
      "              ('source', 'HAVANA')]),\n",
      " OrderedDict([('start', '208217920'),\n",
      "              ('attributes',\n",
      "               'ID=start_codon:ENST00000367033.3;Parent=ENST00000367033.3;gene_id=ENSG00000076356.6;transcript_id=ENST00000367033.3;gene_type=protein_coding;gene_status=KNOWN;gene_name=PLXNA2;transcript_type=protein_coding;transcript_status=KNOWN;transcript_name=PLXNA2-001;exon_number=2;exon_id=ENSE00001443300.1;level=2;protein_id=ENSP00000356000.3;transcript_support_level=1;tag=basic,appris_principal_1,CCDS;ccdsid=CCDS31013.1;havana_gene=OTTHUMG00000036564.6;havana_transcript=OTTHUMT00000088932.6\\n'),\n",
      "              ('seqid', 'chr1'),\n",
      "              ('end', '208217922'),\n",
      "              ('type', 'start_codon'),\n",
      "              ('phase', '0'),\n",
      "              ('score', '.'),\n",
      "              ('strand', '-'),\n",
      "              ('source', 'HAVANA')])]\n"
     ]
    }
   ],
   "source": [
    "file = \"../data/gencode_random.gff3\"\n",
    "\n",
    "#Empty list to collect each lines \n",
    "l=[]\n",
    "\n",
    "with open (file, \"r\") as fp:\n",
    "    for line in fp:\n",
    "        \n",
    "        # Split the line by tabulations \n",
    "        sl = line.split(\"\\t\")\n",
    "        \n",
    "        # Using an ordered dictionary because we want to retain the order in the file\n",
    "        line_dict = OrderedDict({\n",
    "            \"seqid\":sl[0],  \n",
    "            \"source\":sl[1],  \n",
    "            \"type\":sl[2],  \n",
    "            \"start\":sl[3],  \n",
    "            \"end\":sl[4],  \n",
    "            \"score\":sl[5],  \n",
    "            \"strand\":sl[6],  \n",
    "            \"phase\":sl[7],  \n",
    "            \"attributes\":sl[8]})\n",
    "        \n",
    "        # Add the line to the general list\n",
    "        l.append(line_dict)\n",
    "\n",
    "# print only the 5 first lines of the list (because 10000 lines of dictionaries is a bit long)\n",
    "pprint (l[0:5])"
   ]
  },
  {
   "cell_type": "code",
   "execution_count": 39,
   "metadata": {
    "collapsed": false
   },
   "outputs": [
    {
     "data": {
      "text/plain": [
       "'chr18'"
      ]
     },
     "execution_count": 39,
     "metadata": {},
     "output_type": "execute_result"
    }
   ],
   "source": [
    "# Acces element\n",
    "l[0][\"seqid\"]"
   ]
  },
  {
   "cell_type": "code",
   "execution_count": 40,
   "metadata": {
    "collapsed": true
   },
   "outputs": [
    {
     "data": {
      "text/html": [
       "<div>\n",
       "<table border=\"1\" class=\"dataframe\">\n",
       "  <thead>\n",
       "    <tr style=\"text-align: right;\">\n",
       "      <th></th>\n",
       "      <th>attributes</th>\n",
       "      <th>end</th>\n",
       "      <th>phase</th>\n",
       "      <th>score</th>\n",
       "      <th>seqid</th>\n",
       "      <th>source</th>\n",
       "      <th>start</th>\n",
       "      <th>strand</th>\n",
       "      <th>type</th>\n",
       "    </tr>\n",
       "  </thead>\n",
       "  <tbody>\n",
       "    <tr>\n",
       "      <th>0</th>\n",
       "      <td>ID=CDS:ENST00000410092.7;Parent=ENST0000041009...</td>\n",
       "      <td>12452391</td>\n",
       "      <td>0</td>\n",
       "      <td>.</td>\n",
       "      <td>chr18</td>\n",
       "      <td>HAVANA</td>\n",
       "      <td>12452255</td>\n",
       "      <td>-</td>\n",
       "      <td>CDS</td>\n",
       "    </tr>\n",
       "    <tr>\n",
       "      <th>1</th>\n",
       "      <td>ID=UTR5:ENST00000480736.1;Parent=ENST000004807...</td>\n",
       "      <td>9995970</td>\n",
       "      <td>.</td>\n",
       "      <td>.</td>\n",
       "      <td>chr2</td>\n",
       "      <td>HAVANA</td>\n",
       "      <td>9995879</td>\n",
       "      <td>+</td>\n",
       "      <td>five_prime_UTR</td>\n",
       "    </tr>\n",
       "    <tr>\n",
       "      <th>2</th>\n",
       "      <td>ID=CDS:ENST00000504764.5;Parent=ENST0000050476...</td>\n",
       "      <td>159886530</td>\n",
       "      <td>2</td>\n",
       "      <td>.</td>\n",
       "      <td>chr2</td>\n",
       "      <td>HAVANA</td>\n",
       "      <td>159886420</td>\n",
       "      <td>-</td>\n",
       "      <td>CDS</td>\n",
       "    </tr>\n",
       "    <tr>\n",
       "      <th>3</th>\n",
       "      <td>ID=stop_codon:ENST00000370551.8;Parent=ENST000...</td>\n",
       "      <td>87097939</td>\n",
       "      <td>0</td>\n",
       "      <td>.</td>\n",
       "      <td>chr1</td>\n",
       "      <td>HAVANA</td>\n",
       "      <td>87097937</td>\n",
       "      <td>+</td>\n",
       "      <td>stop_codon</td>\n",
       "    </tr>\n",
       "    <tr>\n",
       "      <th>4</th>\n",
       "      <td>ID=start_codon:ENST00000367033.3;Parent=ENST00...</td>\n",
       "      <td>208217922</td>\n",
       "      <td>0</td>\n",
       "      <td>.</td>\n",
       "      <td>chr1</td>\n",
       "      <td>HAVANA</td>\n",
       "      <td>208217920</td>\n",
       "      <td>-</td>\n",
       "      <td>start_codon</td>\n",
       "    </tr>\n",
       "    <tr>\n",
       "      <th>5</th>\n",
       "      <td>ID=CDS:ENST00000610372.4;Parent=ENST0000061037...</td>\n",
       "      <td>24876715</td>\n",
       "      <td>2</td>\n",
       "      <td>.</td>\n",
       "      <td>chr22</td>\n",
       "      <td>ENSEMBL</td>\n",
       "      <td>24876577</td>\n",
       "      <td>+</td>\n",
       "      <td>CDS</td>\n",
       "    </tr>\n",
       "    <tr>\n",
       "      <th>6</th>\n",
       "      <td>ID=exon:ENST00000555069.1:2;Parent=ENST0000055...</td>\n",
       "      <td>52646287</td>\n",
       "      <td>.</td>\n",
       "      <td>.</td>\n",
       "      <td>chr14</td>\n",
       "      <td>HAVANA</td>\n",
       "      <td>52646192</td>\n",
       "      <td>-</td>\n",
       "      <td>exon</td>\n",
       "    </tr>\n",
       "    <tr>\n",
       "      <th>7</th>\n",
       "      <td>ID=UTR5:ENST00000235933.10;Parent=ENST00000235...</td>\n",
       "      <td>145728327</td>\n",
       "      <td>.</td>\n",
       "      <td>.</td>\n",
       "      <td>chr1</td>\n",
       "      <td>ENSEMBL</td>\n",
       "      <td>145728244</td>\n",
       "      <td>+</td>\n",
       "      <td>five_prime_UTR</td>\n",
       "    </tr>\n",
       "    <tr>\n",
       "      <th>8</th>\n",
       "      <td>ID=exon:ENST00000367265.7:21;Parent=ENST000003...</td>\n",
       "      <td>202736392</td>\n",
       "      <td>.</td>\n",
       "      <td>.</td>\n",
       "      <td>chr1</td>\n",
       "      <td>HAVANA</td>\n",
       "      <td>202736213</td>\n",
       "      <td>-</td>\n",
       "      <td>exon</td>\n",
       "    </tr>\n",
       "    <tr>\n",
       "      <th>9</th>\n",
       "      <td>ID=UTR5:ENST00000352445.10;Parent=ENST00000352...</td>\n",
       "      <td>179082128</td>\n",
       "      <td>.</td>\n",
       "      <td>.</td>\n",
       "      <td>chr1</td>\n",
       "      <td>HAVANA</td>\n",
       "      <td>179082086</td>\n",
       "      <td>+</td>\n",
       "      <td>five_prime_UTR</td>\n",
       "    </tr>\n",
       "  </tbody>\n",
       "</table>\n",
       "</div>"
      ],
      "text/plain": [
       "                                          attributes        end phase score  \\\n",
       "0  ID=CDS:ENST00000410092.7;Parent=ENST0000041009...   12452391     0     .   \n",
       "1  ID=UTR5:ENST00000480736.1;Parent=ENST000004807...    9995970     .     .   \n",
       "2  ID=CDS:ENST00000504764.5;Parent=ENST0000050476...  159886530     2     .   \n",
       "3  ID=stop_codon:ENST00000370551.8;Parent=ENST000...   87097939     0     .   \n",
       "4  ID=start_codon:ENST00000367033.3;Parent=ENST00...  208217922     0     .   \n",
       "5  ID=CDS:ENST00000610372.4;Parent=ENST0000061037...   24876715     2     .   \n",
       "6  ID=exon:ENST00000555069.1:2;Parent=ENST0000055...   52646287     .     .   \n",
       "7  ID=UTR5:ENST00000235933.10;Parent=ENST00000235...  145728327     .     .   \n",
       "8  ID=exon:ENST00000367265.7:21;Parent=ENST000003...  202736392     .     .   \n",
       "9  ID=UTR5:ENST00000352445.10;Parent=ENST00000352...  179082128     .     .   \n",
       "\n",
       "   seqid   source      start strand            type  \n",
       "0  chr18   HAVANA   12452255      -             CDS  \n",
       "1   chr2   HAVANA    9995879      +  five_prime_UTR  \n",
       "2   chr2   HAVANA  159886420      -             CDS  \n",
       "3   chr1   HAVANA   87097937      +      stop_codon  \n",
       "4   chr1   HAVANA  208217920      -     start_codon  \n",
       "5  chr22  ENSEMBL   24876577      +             CDS  \n",
       "6  chr14   HAVANA   52646192      -            exon  \n",
       "7   chr1  ENSEMBL  145728244      +  five_prime_UTR  \n",
       "8   chr1   HAVANA  202736213      -            exon  \n",
       "9   chr1   HAVANA  179082086      +  five_prime_UTR  "
      ]
     },
     "execution_count": 40,
     "metadata": {},
     "output_type": "execute_result"
    }
   ],
   "source": [
    "# Cast in a dataframe\n",
    "df = pd.DataFrame(l)\n",
    "# print only the 10 first rows of the table (yes 10000 lines is still a bit long even in a dataframe)\n",
    "df.head(10)"
   ]
  },
  {
   "cell_type": "markdown",
   "metadata": {},
   "source": [
    "***The easy way with a pandas Dataframe... Works most of the time for standard formats***"
   ]
  },
  {
   "cell_type": "code",
   "execution_count": 173,
   "metadata": {
    "collapsed": true,
    "run_control": {
     "frozen": false,
     "read_only": false
    }
   },
   "outputs": [
    {
     "data": {
      "text/html": [
       "<div>\n",
       "<table border=\"1\" class=\"dataframe\">\n",
       "  <thead>\n",
       "    <tr style=\"text-align: right;\">\n",
       "      <th></th>\n",
       "      <th>seqid</th>\n",
       "      <th>source</th>\n",
       "      <th>type</th>\n",
       "      <th>start</th>\n",
       "      <th>end</th>\n",
       "      <th>score</th>\n",
       "      <th>strand</th>\n",
       "      <th>phase</th>\n",
       "      <th>attributes</th>\n",
       "    </tr>\n",
       "  </thead>\n",
       "  <tbody>\n",
       "    <tr>\n",
       "      <th>0</th>\n",
       "      <td>chr18</td>\n",
       "      <td>HAVANA</td>\n",
       "      <td>CDS</td>\n",
       "      <td>12452255</td>\n",
       "      <td>12452391</td>\n",
       "      <td>.</td>\n",
       "      <td>-</td>\n",
       "      <td>0</td>\n",
       "      <td>ID=CDS:ENST00000410092.7;Parent=ENST0000041009...</td>\n",
       "    </tr>\n",
       "    <tr>\n",
       "      <th>1</th>\n",
       "      <td>chr2</td>\n",
       "      <td>HAVANA</td>\n",
       "      <td>five_prime_UTR</td>\n",
       "      <td>9995879</td>\n",
       "      <td>9995970</td>\n",
       "      <td>.</td>\n",
       "      <td>+</td>\n",
       "      <td>.</td>\n",
       "      <td>ID=UTR5:ENST00000480736.1;Parent=ENST000004807...</td>\n",
       "    </tr>\n",
       "    <tr>\n",
       "      <th>2</th>\n",
       "      <td>chr2</td>\n",
       "      <td>HAVANA</td>\n",
       "      <td>CDS</td>\n",
       "      <td>159886420</td>\n",
       "      <td>159886530</td>\n",
       "      <td>.</td>\n",
       "      <td>-</td>\n",
       "      <td>2</td>\n",
       "      <td>ID=CDS:ENST00000504764.5;Parent=ENST0000050476...</td>\n",
       "    </tr>\n",
       "    <tr>\n",
       "      <th>3</th>\n",
       "      <td>chr1</td>\n",
       "      <td>HAVANA</td>\n",
       "      <td>stop_codon</td>\n",
       "      <td>87097937</td>\n",
       "      <td>87097939</td>\n",
       "      <td>.</td>\n",
       "      <td>+</td>\n",
       "      <td>0</td>\n",
       "      <td>ID=stop_codon:ENST00000370551.8;Parent=ENST000...</td>\n",
       "    </tr>\n",
       "    <tr>\n",
       "      <th>4</th>\n",
       "      <td>chr1</td>\n",
       "      <td>HAVANA</td>\n",
       "      <td>start_codon</td>\n",
       "      <td>208217920</td>\n",
       "      <td>208217922</td>\n",
       "      <td>.</td>\n",
       "      <td>-</td>\n",
       "      <td>0</td>\n",
       "      <td>ID=start_codon:ENST00000367033.3;Parent=ENST00...</td>\n",
       "    </tr>\n",
       "    <tr>\n",
       "      <th>5</th>\n",
       "      <td>chr22</td>\n",
       "      <td>ENSEMBL</td>\n",
       "      <td>CDS</td>\n",
       "      <td>24876577</td>\n",
       "      <td>24876715</td>\n",
       "      <td>.</td>\n",
       "      <td>+</td>\n",
       "      <td>2</td>\n",
       "      <td>ID=CDS:ENST00000610372.4;Parent=ENST0000061037...</td>\n",
       "    </tr>\n",
       "    <tr>\n",
       "      <th>6</th>\n",
       "      <td>chr14</td>\n",
       "      <td>HAVANA</td>\n",
       "      <td>exon</td>\n",
       "      <td>52646192</td>\n",
       "      <td>52646287</td>\n",
       "      <td>.</td>\n",
       "      <td>-</td>\n",
       "      <td>.</td>\n",
       "      <td>ID=exon:ENST00000555069.1:2;Parent=ENST0000055...</td>\n",
       "    </tr>\n",
       "    <tr>\n",
       "      <th>7</th>\n",
       "      <td>chr1</td>\n",
       "      <td>ENSEMBL</td>\n",
       "      <td>five_prime_UTR</td>\n",
       "      <td>145728244</td>\n",
       "      <td>145728327</td>\n",
       "      <td>.</td>\n",
       "      <td>+</td>\n",
       "      <td>.</td>\n",
       "      <td>ID=UTR5:ENST00000235933.10;Parent=ENST00000235...</td>\n",
       "    </tr>\n",
       "    <tr>\n",
       "      <th>8</th>\n",
       "      <td>chr1</td>\n",
       "      <td>HAVANA</td>\n",
       "      <td>exon</td>\n",
       "      <td>202736213</td>\n",
       "      <td>202736392</td>\n",
       "      <td>.</td>\n",
       "      <td>-</td>\n",
       "      <td>.</td>\n",
       "      <td>ID=exon:ENST00000367265.7:21;Parent=ENST000003...</td>\n",
       "    </tr>\n",
       "    <tr>\n",
       "      <th>9</th>\n",
       "      <td>chr1</td>\n",
       "      <td>HAVANA</td>\n",
       "      <td>five_prime_UTR</td>\n",
       "      <td>179082086</td>\n",
       "      <td>179082128</td>\n",
       "      <td>.</td>\n",
       "      <td>+</td>\n",
       "      <td>.</td>\n",
       "      <td>ID=UTR5:ENST00000352445.10;Parent=ENST00000352...</td>\n",
       "    </tr>\n",
       "  </tbody>\n",
       "</table>\n",
       "</div>"
      ],
      "text/plain": [
       "   seqid   source            type      start        end score strand phase  \\\n",
       "0  chr18   HAVANA             CDS   12452255   12452391     .      -     0   \n",
       "1   chr2   HAVANA  five_prime_UTR    9995879    9995970     .      +     .   \n",
       "2   chr2   HAVANA             CDS  159886420  159886530     .      -     2   \n",
       "3   chr1   HAVANA      stop_codon   87097937   87097939     .      +     0   \n",
       "4   chr1   HAVANA     start_codon  208217920  208217922     .      -     0   \n",
       "5  chr22  ENSEMBL             CDS   24876577   24876715     .      +     2   \n",
       "6  chr14   HAVANA            exon   52646192   52646287     .      -     .   \n",
       "7   chr1  ENSEMBL  five_prime_UTR  145728244  145728327     .      +     .   \n",
       "8   chr1   HAVANA            exon  202736213  202736392     .      -     .   \n",
       "9   chr1   HAVANA  five_prime_UTR  179082086  179082128     .      +     .   \n",
       "\n",
       "                                          attributes  \n",
       "0  ID=CDS:ENST00000410092.7;Parent=ENST0000041009...  \n",
       "1  ID=UTR5:ENST00000480736.1;Parent=ENST000004807...  \n",
       "2  ID=CDS:ENST00000504764.5;Parent=ENST0000050476...  \n",
       "3  ID=stop_codon:ENST00000370551.8;Parent=ENST000...  \n",
       "4  ID=start_codon:ENST00000367033.3;Parent=ENST00...  \n",
       "5  ID=CDS:ENST00000610372.4;Parent=ENST0000061037...  \n",
       "6  ID=exon:ENST00000555069.1:2;Parent=ENST0000055...  \n",
       "7  ID=UTR5:ENST00000235933.10;Parent=ENST00000235...  \n",
       "8  ID=exon:ENST00000367265.7:21;Parent=ENST000003...  \n",
       "9  ID=UTR5:ENST00000352445.10;Parent=ENST00000352...  "
      ]
     },
     "execution_count": 173,
     "metadata": {},
     "output_type": "execute_result"
    }
   ],
   "source": [
    "# Parse all the line with pandas\n",
    "file = \"../data/gencode_random.gff3\"\n",
    "df = pd.read_table(file, sep=\"\\t\", names =[\"seqid\", \"source\", \"type\", \"start\", \"end\", \"score\", \"strand\", \"phase\", \"attributes\"])\n",
    "\n",
    "# print only the 10 first rows of the table (well, you know why now...)\n",
    "df.head(10)"
   ]
  },
  {
   "cell_type": "markdown",
   "metadata": {},
   "source": [
    "### Viewing Data in a Dataframe"
   ]
  },
  {
   "cell_type": "markdown",
   "metadata": {},
   "source": [
    "***See the top & bottom rows of the frame***"
   ]
  },
  {
   "cell_type": "code",
   "execution_count": 130,
   "metadata": {
    "collapsed": false,
    "scrolled": true
   },
   "outputs": [
    {
     "data": {
      "text/html": [
       "<div>\n",
       "<table border=\"1\" class=\"dataframe\">\n",
       "  <thead>\n",
       "    <tr style=\"text-align: right;\">\n",
       "      <th></th>\n",
       "      <th>seqid</th>\n",
       "      <th>source</th>\n",
       "      <th>type</th>\n",
       "      <th>start</th>\n",
       "      <th>end</th>\n",
       "      <th>score</th>\n",
       "      <th>strand</th>\n",
       "      <th>phase</th>\n",
       "      <th>attributes</th>\n",
       "    </tr>\n",
       "  </thead>\n",
       "  <tbody>\n",
       "    <tr>\n",
       "      <th>0</th>\n",
       "      <td>chr18</td>\n",
       "      <td>HAVANA</td>\n",
       "      <td>CDS</td>\n",
       "      <td>12452255</td>\n",
       "      <td>12452391</td>\n",
       "      <td>.</td>\n",
       "      <td>-</td>\n",
       "      <td>0</td>\n",
       "      <td>ID=CDS:ENST00000410092.7;Parent=ENST0000041009...</td>\n",
       "    </tr>\n",
       "    <tr>\n",
       "      <th>1</th>\n",
       "      <td>chr2</td>\n",
       "      <td>HAVANA</td>\n",
       "      <td>five_prime_UTR</td>\n",
       "      <td>9995879</td>\n",
       "      <td>9995970</td>\n",
       "      <td>.</td>\n",
       "      <td>+</td>\n",
       "      <td>.</td>\n",
       "      <td>ID=UTR5:ENST00000480736.1;Parent=ENST000004807...</td>\n",
       "    </tr>\n",
       "  </tbody>\n",
       "</table>\n",
       "</div>"
      ],
      "text/plain": [
       "   seqid  source            type     start       end score strand phase  \\\n",
       "0  chr18  HAVANA             CDS  12452255  12452391     .      -     0   \n",
       "1   chr2  HAVANA  five_prime_UTR   9995879   9995970     .      +     .   \n",
       "\n",
       "                                          attributes  \n",
       "0  ID=CDS:ENST00000410092.7;Parent=ENST0000041009...  \n",
       "1  ID=UTR5:ENST00000480736.1;Parent=ENST000004807...  "
      ]
     },
     "execution_count": 130,
     "metadata": {},
     "output_type": "execute_result"
    }
   ],
   "source": [
    "df.head(2)"
   ]
  },
  {
   "cell_type": "code",
   "execution_count": 129,
   "metadata": {
    "collapsed": false
   },
   "outputs": [
    {
     "data": {
      "text/html": [
       "<div>\n",
       "<table border=\"1\" class=\"dataframe\">\n",
       "  <thead>\n",
       "    <tr style=\"text-align: right;\">\n",
       "      <th></th>\n",
       "      <th>seqid</th>\n",
       "      <th>source</th>\n",
       "      <th>type</th>\n",
       "      <th>start</th>\n",
       "      <th>end</th>\n",
       "      <th>score</th>\n",
       "      <th>strand</th>\n",
       "      <th>phase</th>\n",
       "      <th>attributes</th>\n",
       "    </tr>\n",
       "  </thead>\n",
       "  <tbody>\n",
       "    <tr>\n",
       "      <th>9998</th>\n",
       "      <td>chr10</td>\n",
       "      <td>HAVANA</td>\n",
       "      <td>exon</td>\n",
       "      <td>133398435</td>\n",
       "      <td>133398515</td>\n",
       "      <td>.</td>\n",
       "      <td>+</td>\n",
       "      <td>.</td>\n",
       "      <td>ID=exon:ENST00000477902.6:4;Parent=ENST0000047...</td>\n",
       "    </tr>\n",
       "    <tr>\n",
       "      <th>9999</th>\n",
       "      <td>chr4</td>\n",
       "      <td>HAVANA</td>\n",
       "      <td>exon</td>\n",
       "      <td>70704204</td>\n",
       "      <td>70704348</td>\n",
       "      <td>.</td>\n",
       "      <td>+</td>\n",
       "      <td>.</td>\n",
       "      <td>ID=exon:ENST00000514898.1:1;Parent=ENST0000051...</td>\n",
       "    </tr>\n",
       "  </tbody>\n",
       "</table>\n",
       "</div>"
      ],
      "text/plain": [
       "      seqid  source  type      start        end score strand phase  \\\n",
       "9998  chr10  HAVANA  exon  133398435  133398515     .      +     .   \n",
       "9999   chr4  HAVANA  exon   70704204   70704348     .      +     .   \n",
       "\n",
       "                                             attributes  \n",
       "9998  ID=exon:ENST00000477902.6:4;Parent=ENST0000047...  \n",
       "9999  ID=exon:ENST00000514898.1:1;Parent=ENST0000051...  "
      ]
     },
     "execution_count": 129,
     "metadata": {},
     "output_type": "execute_result"
    }
   ],
   "source": [
    "df.tail(2)"
   ]
  },
  {
   "cell_type": "markdown",
   "metadata": {},
   "source": [
    "***Transposing your data***"
   ]
  },
  {
   "cell_type": "code",
   "execution_count": 143,
   "metadata": {
    "collapsed": false
   },
   "outputs": [
    {
     "data": {
      "text/html": [
       "<div>\n",
       "<table border=\"1\" class=\"dataframe\">\n",
       "  <thead>\n",
       "    <tr style=\"text-align: right;\">\n",
       "      <th></th>\n",
       "      <th>0</th>\n",
       "      <th>1</th>\n",
       "      <th>2</th>\n",
       "      <th>3</th>\n",
       "      <th>4</th>\n",
       "      <th>5</th>\n",
       "      <th>6</th>\n",
       "      <th>7</th>\n",
       "      <th>8</th>\n",
       "      <th>9</th>\n",
       "      <th>...</th>\n",
       "      <th>9990</th>\n",
       "      <th>9991</th>\n",
       "      <th>9992</th>\n",
       "      <th>9993</th>\n",
       "      <th>9994</th>\n",
       "      <th>9995</th>\n",
       "      <th>9996</th>\n",
       "      <th>9997</th>\n",
       "      <th>9998</th>\n",
       "      <th>9999</th>\n",
       "    </tr>\n",
       "  </thead>\n",
       "  <tbody>\n",
       "    <tr>\n",
       "      <th>seqid</th>\n",
       "      <td>chr18</td>\n",
       "      <td>chr2</td>\n",
       "      <td>chr2</td>\n",
       "      <td>chr1</td>\n",
       "      <td>chr1</td>\n",
       "      <td>chr22</td>\n",
       "      <td>chr14</td>\n",
       "      <td>chr1</td>\n",
       "      <td>chr1</td>\n",
       "      <td>chr1</td>\n",
       "      <td>...</td>\n",
       "      <td>chr14</td>\n",
       "      <td>chr6</td>\n",
       "      <td>chr7</td>\n",
       "      <td>chr20</td>\n",
       "      <td>chr5</td>\n",
       "      <td>chr16</td>\n",
       "      <td>chr15</td>\n",
       "      <td>chr3</td>\n",
       "      <td>chr10</td>\n",
       "      <td>chr4</td>\n",
       "    </tr>\n",
       "    <tr>\n",
       "      <th>source</th>\n",
       "      <td>HAVANA</td>\n",
       "      <td>HAVANA</td>\n",
       "      <td>HAVANA</td>\n",
       "      <td>HAVANA</td>\n",
       "      <td>HAVANA</td>\n",
       "      <td>ENSEMBL</td>\n",
       "      <td>HAVANA</td>\n",
       "      <td>ENSEMBL</td>\n",
       "      <td>HAVANA</td>\n",
       "      <td>HAVANA</td>\n",
       "      <td>...</td>\n",
       "      <td>HAVANA</td>\n",
       "      <td>HAVANA</td>\n",
       "      <td>HAVANA</td>\n",
       "      <td>HAVANA</td>\n",
       "      <td>HAVANA</td>\n",
       "      <td>HAVANA</td>\n",
       "      <td>HAVANA</td>\n",
       "      <td>HAVANA</td>\n",
       "      <td>HAVANA</td>\n",
       "      <td>HAVANA</td>\n",
       "    </tr>\n",
       "    <tr>\n",
       "      <th>type</th>\n",
       "      <td>CDS</td>\n",
       "      <td>five_prime_UTR</td>\n",
       "      <td>CDS</td>\n",
       "      <td>stop_codon</td>\n",
       "      <td>start_codon</td>\n",
       "      <td>CDS</td>\n",
       "      <td>exon</td>\n",
       "      <td>five_prime_UTR</td>\n",
       "      <td>exon</td>\n",
       "      <td>five_prime_UTR</td>\n",
       "      <td>...</td>\n",
       "      <td>three_prime_UTR</td>\n",
       "      <td>three_prime_UTR</td>\n",
       "      <td>exon</td>\n",
       "      <td>CDS</td>\n",
       "      <td>exon</td>\n",
       "      <td>five_prime_UTR</td>\n",
       "      <td>three_prime_UTR</td>\n",
       "      <td>CDS</td>\n",
       "      <td>exon</td>\n",
       "      <td>exon</td>\n",
       "    </tr>\n",
       "    <tr>\n",
       "      <th>start</th>\n",
       "      <td>12452255</td>\n",
       "      <td>9995879</td>\n",
       "      <td>159886420</td>\n",
       "      <td>87097937</td>\n",
       "      <td>208217920</td>\n",
       "      <td>24876577</td>\n",
       "      <td>52646192</td>\n",
       "      <td>145728244</td>\n",
       "      <td>202736213</td>\n",
       "      <td>179082086</td>\n",
       "      <td>...</td>\n",
       "      <td>100342050</td>\n",
       "      <td>10397915</td>\n",
       "      <td>120973205</td>\n",
       "      <td>18315069</td>\n",
       "      <td>145817894</td>\n",
       "      <td>71546277</td>\n",
       "      <td>74628604</td>\n",
       "      <td>123089168</td>\n",
       "      <td>133398435</td>\n",
       "      <td>70704204</td>\n",
       "    </tr>\n",
       "    <tr>\n",
       "      <th>end</th>\n",
       "      <td>12452391</td>\n",
       "      <td>9995970</td>\n",
       "      <td>159886530</td>\n",
       "      <td>87097939</td>\n",
       "      <td>208217922</td>\n",
       "      <td>24876715</td>\n",
       "      <td>52646287</td>\n",
       "      <td>145728327</td>\n",
       "      <td>202736392</td>\n",
       "      <td>179082128</td>\n",
       "      <td>...</td>\n",
       "      <td>100342211</td>\n",
       "      <td>10398416</td>\n",
       "      <td>120973243</td>\n",
       "      <td>18315388</td>\n",
       "      <td>145818054</td>\n",
       "      <td>71546335</td>\n",
       "      <td>74628683</td>\n",
       "      <td>123089294</td>\n",
       "      <td>133398515</td>\n",
       "      <td>70704348</td>\n",
       "    </tr>\n",
       "  </tbody>\n",
       "</table>\n",
       "<p>5 rows × 10000 columns</p>\n",
       "</div>"
      ],
      "text/plain": [
       "            0               1          2           3            4     \\\n",
       "seqid      chr18            chr2       chr2        chr1         chr1   \n",
       "source    HAVANA          HAVANA     HAVANA      HAVANA       HAVANA   \n",
       "type         CDS  five_prime_UTR        CDS  stop_codon  start_codon   \n",
       "start   12452255         9995879  159886420    87097937    208217920   \n",
       "end     12452391         9995970  159886530    87097939    208217922   \n",
       "\n",
       "            5         6               7          8               9     \\\n",
       "seqid      chr22     chr14            chr1       chr1            chr1   \n",
       "source   ENSEMBL    HAVANA         ENSEMBL     HAVANA          HAVANA   \n",
       "type         CDS      exon  five_prime_UTR       exon  five_prime_UTR   \n",
       "start   24876577  52646192       145728244  202736213       179082086   \n",
       "end     24876715  52646287       145728327  202736392       179082128   \n",
       "\n",
       "          ...                9990             9991       9992      9993  \\\n",
       "seqid     ...               chr14             chr6       chr7     chr20   \n",
       "source    ...              HAVANA           HAVANA     HAVANA    HAVANA   \n",
       "type      ...     three_prime_UTR  three_prime_UTR       exon       CDS   \n",
       "start     ...           100342050         10397915  120973205  18315069   \n",
       "end       ...           100342211         10398416  120973243  18315388   \n",
       "\n",
       "             9994            9995             9996       9997       9998  \\\n",
       "seqid        chr5           chr16            chr15       chr3      chr10   \n",
       "source     HAVANA          HAVANA           HAVANA     HAVANA     HAVANA   \n",
       "type         exon  five_prime_UTR  three_prime_UTR        CDS       exon   \n",
       "start   145817894        71546277         74628604  123089168  133398435   \n",
       "end     145818054        71546335         74628683  123089294  133398515   \n",
       "\n",
       "            9999  \n",
       "seqid       chr4  \n",
       "source    HAVANA  \n",
       "type        exon  \n",
       "start   70704204  \n",
       "end     70704348  \n",
       "\n",
       "[5 rows x 10000 columns]"
      ]
     },
     "execution_count": 143,
     "metadata": {},
     "output_type": "execute_result"
    }
   ],
   "source": [
    "df.transpose().head()"
   ]
  },
  {
   "cell_type": "markdown",
   "metadata": {},
   "source": [
    "***Sorting data***"
   ]
  },
  {
   "cell_type": "code",
   "execution_count": 142,
   "metadata": {
    "collapsed": false,
    "scrolled": false
   },
   "outputs": [
    {
     "data": {
      "text/html": [
       "<div>\n",
       "<table border=\"1\" class=\"dataframe\">\n",
       "  <thead>\n",
       "    <tr style=\"text-align: right;\">\n",
       "      <th></th>\n",
       "      <th>seqid</th>\n",
       "      <th>source</th>\n",
       "      <th>type</th>\n",
       "      <th>start</th>\n",
       "      <th>end</th>\n",
       "      <th>score</th>\n",
       "      <th>strand</th>\n",
       "      <th>phase</th>\n",
       "      <th>attributes</th>\n",
       "    </tr>\n",
       "  </thead>\n",
       "  <tbody>\n",
       "    <tr>\n",
       "      <th>4999</th>\n",
       "      <td>chr1</td>\n",
       "      <td>HAVANA</td>\n",
       "      <td>five_prime_UTR</td>\n",
       "      <td>174999733</td>\n",
       "      <td>175000180</td>\n",
       "      <td>.</td>\n",
       "      <td>+</td>\n",
       "      <td>.</td>\n",
       "      <td>ID=UTR5:ENST00000367679.6;Parent=ENST000003676...</td>\n",
       "    </tr>\n",
       "    <tr>\n",
       "      <th>2055</th>\n",
       "      <td>chr1</td>\n",
       "      <td>HAVANA</td>\n",
       "      <td>exon</td>\n",
       "      <td>37880085</td>\n",
       "      <td>37880194</td>\n",
       "      <td>.</td>\n",
       "      <td>-</td>\n",
       "      <td>.</td>\n",
       "      <td>ID=exon:ENST00000373024.7:15;Parent=ENST000003...</td>\n",
       "    </tr>\n",
       "    <tr>\n",
       "      <th>7497</th>\n",
       "      <td>chr1</td>\n",
       "      <td>HAVANA</td>\n",
       "      <td>exon</td>\n",
       "      <td>8360112</td>\n",
       "      <td>8361490</td>\n",
       "      <td>.</td>\n",
       "      <td>-</td>\n",
       "      <td>.</td>\n",
       "      <td>ID=exon:ENST00000400908.6:18;Parent=ENST000004...</td>\n",
       "    </tr>\n",
       "    <tr>\n",
       "      <th>2050</th>\n",
       "      <td>chr1</td>\n",
       "      <td>HAVANA</td>\n",
       "      <td>transcript</td>\n",
       "      <td>110943467</td>\n",
       "      <td>110952848</td>\n",
       "      <td>.</td>\n",
       "      <td>+</td>\n",
       "      <td>.</td>\n",
       "      <td>ID=ENST00000440689.1;Parent=ENSG00000232811.1;...</td>\n",
       "    </tr>\n",
       "    <tr>\n",
       "      <th>2046</th>\n",
       "      <td>chr1</td>\n",
       "      <td>HAVANA</td>\n",
       "      <td>transcript</td>\n",
       "      <td>61406672</td>\n",
       "      <td>61455874</td>\n",
       "      <td>.</td>\n",
       "      <td>+</td>\n",
       "      <td>.</td>\n",
       "      <td>ID=ENST00000493627.1;Parent=ENSG00000162599.15...</td>\n",
       "    </tr>\n",
       "  </tbody>\n",
       "</table>\n",
       "</div>"
      ],
      "text/plain": [
       "     seqid  source            type      start        end score strand phase  \\\n",
       "4999  chr1  HAVANA  five_prime_UTR  174999733  175000180     .      +     .   \n",
       "2055  chr1  HAVANA            exon   37880085   37880194     .      -     .   \n",
       "7497  chr1  HAVANA            exon    8360112    8361490     .      -     .   \n",
       "2050  chr1  HAVANA      transcript  110943467  110952848     .      +     .   \n",
       "2046  chr1  HAVANA      transcript   61406672   61455874     .      +     .   \n",
       "\n",
       "                                             attributes  \n",
       "4999  ID=UTR5:ENST00000367679.6;Parent=ENST000003676...  \n",
       "2055  ID=exon:ENST00000373024.7:15;Parent=ENST000003...  \n",
       "7497  ID=exon:ENST00000400908.6:18;Parent=ENST000004...  \n",
       "2050  ID=ENST00000440689.1;Parent=ENSG00000232811.1;...  \n",
       "2046  ID=ENST00000493627.1;Parent=ENSG00000162599.15...  "
      ]
     },
     "execution_count": 142,
     "metadata": {},
     "output_type": "execute_result"
    }
   ],
   "source": [
    "df.sort_values(by=\"seqid\").head()"
   ]
  },
  {
   "cell_type": "markdown",
   "metadata": {},
   "source": [
    "***sampling random rows or column: Awesomeness level +++***"
   ]
  },
  {
   "cell_type": "code",
   "execution_count": 208,
   "metadata": {
    "collapsed": false
   },
   "outputs": [
    {
     "data": {
      "text/html": [
       "<div>\n",
       "<table border=\"1\" class=\"dataframe\">\n",
       "  <thead>\n",
       "    <tr style=\"text-align: right;\">\n",
       "      <th></th>\n",
       "      <th>phase</th>\n",
       "      <th>attributes</th>\n",
       "    </tr>\n",
       "  </thead>\n",
       "  <tbody>\n",
       "    <tr>\n",
       "      <th>5065</th>\n",
       "      <td>.</td>\n",
       "      <td>ID=exon:ENST00000539345.6:19;Parent=ENST000005...</td>\n",
       "    </tr>\n",
       "    <tr>\n",
       "      <th>9318</th>\n",
       "      <td>.</td>\n",
       "      <td>ID=exon:ENST00000574510.1:1;Parent=ENST0000057...</td>\n",
       "    </tr>\n",
       "    <tr>\n",
       "      <th>2460</th>\n",
       "      <td>.</td>\n",
       "      <td>ID=exon:ENST00000599305.1:1;Parent=ENST0000059...</td>\n",
       "    </tr>\n",
       "    <tr>\n",
       "      <th>6849</th>\n",
       "      <td>.</td>\n",
       "      <td>ID=ENSG00000233058.1;gene_id=ENSG00000233058.1...</td>\n",
       "    </tr>\n",
       "    <tr>\n",
       "      <th>454</th>\n",
       "      <td>.</td>\n",
       "      <td>ID=exon:ENST00000451928.6:6;Parent=ENST0000045...</td>\n",
       "    </tr>\n",
       "    <tr>\n",
       "      <th>888</th>\n",
       "      <td>.</td>\n",
       "      <td>ID=exon:ENST00000409020.5:1;Parent=ENST0000040...</td>\n",
       "    </tr>\n",
       "    <tr>\n",
       "      <th>7799</th>\n",
       "      <td>.</td>\n",
       "      <td>ID=UTR5:ENST00000512785.5;Parent=ENST000005127...</td>\n",
       "    </tr>\n",
       "    <tr>\n",
       "      <th>6456</th>\n",
       "      <td>.</td>\n",
       "      <td>ID=exon:ENST00000460137.6:11;Parent=ENST000004...</td>\n",
       "    </tr>\n",
       "    <tr>\n",
       "      <th>5713</th>\n",
       "      <td>.</td>\n",
       "      <td>ID=exon:ENST00000533723.1:1;Parent=ENST0000053...</td>\n",
       "    </tr>\n",
       "    <tr>\n",
       "      <th>8993</th>\n",
       "      <td>.</td>\n",
       "      <td>ID=exon:ENST00000409798.5:5;Parent=ENST0000040...</td>\n",
       "    </tr>\n",
       "  </tbody>\n",
       "</table>\n",
       "</div>"
      ],
      "text/plain": [
       "     phase                                         attributes\n",
       "5065     .  ID=exon:ENST00000539345.6:19;Parent=ENST000005...\n",
       "9318     .  ID=exon:ENST00000574510.1:1;Parent=ENST0000057...\n",
       "2460     .  ID=exon:ENST00000599305.1:1;Parent=ENST0000059...\n",
       "6849     .  ID=ENSG00000233058.1;gene_id=ENSG00000233058.1...\n",
       "454      .  ID=exon:ENST00000451928.6:6;Parent=ENST0000045...\n",
       "888      .  ID=exon:ENST00000409020.5:1;Parent=ENST0000040...\n",
       "7799     .  ID=UTR5:ENST00000512785.5;Parent=ENST000005127...\n",
       "6456     .  ID=exon:ENST00000460137.6:11;Parent=ENST000004...\n",
       "5713     .  ID=exon:ENST00000533723.1:1;Parent=ENST0000053...\n",
       "8993     .  ID=exon:ENST00000409798.5:5;Parent=ENST0000040..."
      ]
     },
     "execution_count": 208,
     "metadata": {},
     "output_type": "execute_result"
    }
   ],
   "source": [
    "df.sample(n=10, axis=0).sample(n=2, axis=1)"
   ]
  },
  {
   "cell_type": "markdown",
   "metadata": {},
   "source": [
    "### Descriptive statistics of a dataframe\n",
    "\n",
    "**Similar to Series, many basic statistics are available.**\n",
    "\n",
    "The results will only contain the relevant columns (for example *mean()* will be applied only to numeric columns.\n",
    " \n",
    "| Function \t| Description                                \t|\n",
    "|----------\t|--------------------------------------------\t|\n",
    "| count    \t| Number of non-null observations            \t|\n",
    "| sum      \t| Sum of values                              \t|\n",
    "| mean     \t| Mean of values                             \t|\n",
    "| mad      \t| Mean absolute deviation                    \t|\n",
    "| median   \t| Arithmetic median of values                \t|\n",
    "| min      \t| Minimum                                    \t|\n",
    "| max      \t| Maximum                                    \t|\n",
    "| mode     \t| Mode                                       \t|\n",
    "| abs      \t| Absolute Value                             \t|\n",
    "| prod     \t| Product of values                          \t|\n",
    "| std      \t| Bessel-corrected sample standard deviation \t|\n",
    "| var      \t| Unbiased variance                          \t|\n",
    "| sem      \t| Standard error of the mean                 \t|\n",
    "| skew     \t| Sample skewness (3rd moment)               \t|\n",
    "| kurt     \t| Sample kurtosis (4th moment)               \t|\n",
    "| quantile \t| Sample quantile (value at %)               \t|\n",
    "| cumsum   \t| Cumulative sum                             \t|\n",
    "| cumprod  \t| Cumulative product                         \t|\n",
    "| cummax   \t| Cumulative maximum                         \t|\n",
    "| cummin   \t| Cumulative minimum                         \t|"
   ]
  },
  {
   "cell_type": "code",
   "execution_count": 48,
   "metadata": {
    "collapsed": true
   },
   "outputs": [
    {
     "data": {
      "text/plain": [
       "start    7.395575e+07\n",
       "end      7.395916e+07\n",
       "dtype: float64"
      ]
     },
     "execution_count": 48,
     "metadata": {},
     "output_type": "execute_result"
    }
   ],
   "source": [
    "df.mean()"
   ]
  },
  {
   "cell_type": "code",
   "execution_count": 49,
   "metadata": {
    "collapsed": true
   },
   "outputs": [
    {
     "data": {
      "text/plain": [
       "seqid         10000\n",
       "source        10000\n",
       "type          10000\n",
       "start         10000\n",
       "end           10000\n",
       "score         10000\n",
       "strand        10000\n",
       "phase         10000\n",
       "attributes    10000\n",
       "dtype: int64"
      ]
     },
     "execution_count": 49,
     "metadata": {},
     "output_type": "execute_result"
    }
   ],
   "source": [
    "df.count()"
   ]
  },
  {
   "cell_type": "markdown",
   "metadata": {},
   "source": [
    "**One can also use the *describe()* method to a simple table report of the dataframe**"
   ]
  },
  {
   "cell_type": "code",
   "execution_count": 58,
   "metadata": {
    "collapsed": true
   },
   "outputs": [
    {
     "data": {
      "text/html": [
       "<div>\n",
       "<table border=\"1\" class=\"dataframe\">\n",
       "  <thead>\n",
       "    <tr style=\"text-align: right;\">\n",
       "      <th></th>\n",
       "      <th>seqid</th>\n",
       "      <th>source</th>\n",
       "      <th>type</th>\n",
       "      <th>start</th>\n",
       "      <th>end</th>\n",
       "      <th>score</th>\n",
       "      <th>strand</th>\n",
       "      <th>phase</th>\n",
       "      <th>attributes</th>\n",
       "    </tr>\n",
       "  </thead>\n",
       "  <tbody>\n",
       "    <tr>\n",
       "      <th>count</th>\n",
       "      <td>10000</td>\n",
       "      <td>10000</td>\n",
       "      <td>10000</td>\n",
       "      <td>1.000000e+04</td>\n",
       "      <td>1.000000e+04</td>\n",
       "      <td>10000</td>\n",
       "      <td>10000</td>\n",
       "      <td>10000</td>\n",
       "      <td>10000</td>\n",
       "    </tr>\n",
       "    <tr>\n",
       "      <th>unique</th>\n",
       "      <td>24</td>\n",
       "      <td>2</td>\n",
       "      <td>8</td>\n",
       "      <td>NaN</td>\n",
       "      <td>NaN</td>\n",
       "      <td>1</td>\n",
       "      <td>2</td>\n",
       "      <td>4</td>\n",
       "      <td>10000</td>\n",
       "    </tr>\n",
       "    <tr>\n",
       "      <th>top</th>\n",
       "      <td>chr1</td>\n",
       "      <td>HAVANA</td>\n",
       "      <td>exon</td>\n",
       "      <td>NaN</td>\n",
       "      <td>NaN</td>\n",
       "      <td>.</td>\n",
       "      <td>+</td>\n",
       "      <td>.</td>\n",
       "      <td>ID=start_codon:ENST00000419219.1;Parent=ENST00...</td>\n",
       "    </tr>\n",
       "    <tr>\n",
       "      <th>freq</th>\n",
       "      <td>856</td>\n",
       "      <td>9002</td>\n",
       "      <td>4627</td>\n",
       "      <td>NaN</td>\n",
       "      <td>NaN</td>\n",
       "      <td>10000</td>\n",
       "      <td>5052</td>\n",
       "      <td>6690</td>\n",
       "      <td>1</td>\n",
       "    </tr>\n",
       "    <tr>\n",
       "      <th>mean</th>\n",
       "      <td>NaN</td>\n",
       "      <td>NaN</td>\n",
       "      <td>NaN</td>\n",
       "      <td>7.395575e+07</td>\n",
       "      <td>7.395916e+07</td>\n",
       "      <td>NaN</td>\n",
       "      <td>NaN</td>\n",
       "      <td>NaN</td>\n",
       "      <td>NaN</td>\n",
       "    </tr>\n",
       "    <tr>\n",
       "      <th>std</th>\n",
       "      <td>NaN</td>\n",
       "      <td>NaN</td>\n",
       "      <td>NaN</td>\n",
       "      <td>5.552991e+07</td>\n",
       "      <td>5.553003e+07</td>\n",
       "      <td>NaN</td>\n",
       "      <td>NaN</td>\n",
       "      <td>NaN</td>\n",
       "      <td>NaN</td>\n",
       "    </tr>\n",
       "    <tr>\n",
       "      <th>min</th>\n",
       "      <td>NaN</td>\n",
       "      <td>NaN</td>\n",
       "      <td>NaN</td>\n",
       "      <td>4.495200e+04</td>\n",
       "      <td>4.520400e+04</td>\n",
       "      <td>NaN</td>\n",
       "      <td>NaN</td>\n",
       "      <td>NaN</td>\n",
       "      <td>NaN</td>\n",
       "    </tr>\n",
       "    <tr>\n",
       "      <th>25%</th>\n",
       "      <td>NaN</td>\n",
       "      <td>NaN</td>\n",
       "      <td>NaN</td>\n",
       "      <td>3.155509e+07</td>\n",
       "      <td>3.155514e+07</td>\n",
       "      <td>NaN</td>\n",
       "      <td>NaN</td>\n",
       "      <td>NaN</td>\n",
       "      <td>NaN</td>\n",
       "    </tr>\n",
       "    <tr>\n",
       "      <th>50%</th>\n",
       "      <td>NaN</td>\n",
       "      <td>NaN</td>\n",
       "      <td>NaN</td>\n",
       "      <td>5.888400e+07</td>\n",
       "      <td>5.890378e+07</td>\n",
       "      <td>NaN</td>\n",
       "      <td>NaN</td>\n",
       "      <td>NaN</td>\n",
       "      <td>NaN</td>\n",
       "    </tr>\n",
       "    <tr>\n",
       "      <th>75%</th>\n",
       "      <td>NaN</td>\n",
       "      <td>NaN</td>\n",
       "      <td>NaN</td>\n",
       "      <td>1.106304e+08</td>\n",
       "      <td>1.106336e+08</td>\n",
       "      <td>NaN</td>\n",
       "      <td>NaN</td>\n",
       "      <td>NaN</td>\n",
       "      <td>NaN</td>\n",
       "    </tr>\n",
       "    <tr>\n",
       "      <th>max</th>\n",
       "      <td>NaN</td>\n",
       "      <td>NaN</td>\n",
       "      <td>NaN</td>\n",
       "      <td>2.488554e+08</td>\n",
       "      <td>2.488581e+08</td>\n",
       "      <td>NaN</td>\n",
       "      <td>NaN</td>\n",
       "      <td>NaN</td>\n",
       "      <td>NaN</td>\n",
       "    </tr>\n",
       "  </tbody>\n",
       "</table>\n",
       "</div>"
      ],
      "text/plain": [
       "        seqid  source   type         start           end  score strand  phase  \\\n",
       "count   10000   10000  10000  1.000000e+04  1.000000e+04  10000  10000  10000   \n",
       "unique     24       2      8           NaN           NaN      1      2      4   \n",
       "top      chr1  HAVANA   exon           NaN           NaN      .      +      .   \n",
       "freq      856    9002   4627           NaN           NaN  10000   5052   6690   \n",
       "mean      NaN     NaN    NaN  7.395575e+07  7.395916e+07    NaN    NaN    NaN   \n",
       "std       NaN     NaN    NaN  5.552991e+07  5.553003e+07    NaN    NaN    NaN   \n",
       "min       NaN     NaN    NaN  4.495200e+04  4.520400e+04    NaN    NaN    NaN   \n",
       "25%       NaN     NaN    NaN  3.155509e+07  3.155514e+07    NaN    NaN    NaN   \n",
       "50%       NaN     NaN    NaN  5.888400e+07  5.890378e+07    NaN    NaN    NaN   \n",
       "75%       NaN     NaN    NaN  1.106304e+08  1.106336e+08    NaN    NaN    NaN   \n",
       "max       NaN     NaN    NaN  2.488554e+08  2.488581e+08    NaN    NaN    NaN   \n",
       "\n",
       "                                               attributes  \n",
       "count                                               10000  \n",
       "unique                                              10000  \n",
       "top     ID=start_codon:ENST00000419219.1;Parent=ENST00...  \n",
       "freq                                                    1  \n",
       "mean                                                  NaN  \n",
       "std                                                   NaN  \n",
       "min                                                   NaN  \n",
       "25%                                                   NaN  \n",
       "50%                                                   NaN  \n",
       "75%                                                   NaN  \n",
       "max                                                   NaN  "
      ]
     },
     "execution_count": 58,
     "metadata": {},
     "output_type": "execute_result"
    }
   ],
   "source": [
    "df.describe(include=\"all\")"
   ]
  },
  {
   "cell_type": "markdown",
   "metadata": {},
   "source": [
    "### Access the  element in a Dataframe = Indexing and Selection"
   ]
  },
  {
   "cell_type": "markdown",
   "metadata": {},
   "source": [
    "| Operation                      \t| Syntax        \t| Result    \t|\n",
    "|--------------------------------\t|---------------\t|-----------\t|\n",
    "| Select column                  \t| df[col]       \t| Series    \t|\n",
    "| Select row by label            \t| df.loc[label] \t| Series    \t|\n",
    "| Select row by integer location \t| df.iloc[loc]  \t| Series    \t|\n",
    "| Slice rows                     \t| df[5:10]      \t| DataFrame \t|"
   ]
  },
  {
   "cell_type": "markdown",
   "metadata": {},
   "source": [
    "***Loading a new example file formated in SAM format***"
   ]
  },
  {
   "cell_type": "code",
   "execution_count": 115,
   "metadata": {
    "collapsed": true
   },
   "outputs": [
    {
     "name": "stdout",
     "output_type": "stream",
     "text": [
      "@SQ\tSN:SSV9K2-CMV-GFP-HygroTK-bGHpA\tLN:7003\r\n",
      "@PG\tID:bwa\tPN:bwa\tVN:0.7.10-r789\tCL:bwa-0.7.10 mem -t 12 ../bwa_index/SSV9K2-CMV-GFP-HygroTK-bGHpA.fa ../fastq/RUN2_S1_R1_1_filtered.fastq.gz ../fastq/RUN2_S1_R2_2_filtered.fastq.gz\r\n",
      "HWI-1KL149:87:HA58EADXX:1:1101:1531:2163\t163\tSSV9K2-CMV-GFP-HygroTK-bGHpA\t4862\t60\t101M\t=\t4950\t189\tCGCCCTCCTGTGCTACCCGGCCGCGCGGTACCTTATGGGCAGCATGACCCCCCAGGCCGTGCTGGCGTTCGTGGCCCTCATCCCGCCGACCTTGCCCGGCA\tCCCFFFFFGHHHHJJJJJJJJJJJJJJJGIJJJJJJHHHHHFFFEEEEEEDDDDBDDDDBBDDDDDDDDDDBDDDDDDDBDDDDDDDDDDDDDDDDDDDDB\r\n",
      "HWI-1KL149:87:HA58EADXX:1:1101:1744:2169\t141\t*\t0\t0\t*\t*\t0\t0\tTCGTAGATTTCTCTGGCGATTGAAGGGCTAAATTCTTCAACGCTAACTTTGAGAATTTTTGTAAGCAATGCGGCGTTATAAGCATTTAATGCATTGATGCC\tCCCFFFFFHHHHHJJJJJJJJJJJJJJJJJJJIJJJJJJJJJJJJJJJIJJJJJJJJJJJIHHHHHHHFFFFDDDDDDDEEDDDDDDEEDDDDEEDDEDDD\r\n",
      "HWI-1KL149:87:HA58EADXX:1:1101:1606:2189\t83\tSSV9K2-CMV-GFP-HygroTK-bGHpA\t4285\t60\t101M\t=\t4104\t-282\tAGGGTCGATGCGACGCAATCGTCCGATCCGGAGCCGGGACTGTCGGGCGTACACAAATCGCCCGCAGAAGCGCGGCCGTCTGGACCGATGGCTGTGTAGAA\tDDDDDDDDDDDDDDDDDDDDDDDDDDDDDDDDDDDDDDDDDDDDDDDDEEDDDDDDDDDDFHJIJJJJJJJJJJJIIJJJJJIGIJJJHHHFHFFFFFCCC\r\n"
     ]
    }
   ],
   "source": [
    "!head -n 5 \"../data/sample_alignment.sam\""
   ]
  },
  {
   "cell_type": "markdown",
   "metadata": {},
   "source": [
    "[SAM format documentation](http://genome.sph.umich.edu/wiki/SAM)"
   ]
  },
  {
   "cell_type": "code",
   "execution_count": 210,
   "metadata": {
    "collapsed": false,
    "scrolled": true
   },
   "outputs": [
    {
     "data": {
      "text/html": [
       "<div>\n",
       "<table border=\"1\" class=\"dataframe\">\n",
       "  <thead>\n",
       "    <tr style=\"text-align: right;\">\n",
       "      <th></th>\n",
       "      <th>FLAG</th>\n",
       "      <th>RNAME</th>\n",
       "      <th>POS</th>\n",
       "      <th>MAPQ</th>\n",
       "      <th>CIGAR</th>\n",
       "      <th>RNEXT</th>\n",
       "      <th>PNEXT</th>\n",
       "      <th>TLEN</th>\n",
       "      <th>SEQ</th>\n",
       "      <th>QUAL</th>\n",
       "    </tr>\n",
       "    <tr>\n",
       "      <th>QNAME</th>\n",
       "      <th></th>\n",
       "      <th></th>\n",
       "      <th></th>\n",
       "      <th></th>\n",
       "      <th></th>\n",
       "      <th></th>\n",
       "      <th></th>\n",
       "      <th></th>\n",
       "      <th></th>\n",
       "      <th></th>\n",
       "    </tr>\n",
       "  </thead>\n",
       "  <tbody>\n",
       "    <tr>\n",
       "      <th>HWI-1KL149:87:HA58EADXX:1:1101:1531:2163</th>\n",
       "      <td>163</td>\n",
       "      <td>SSV9K2-CMV-GFP-HygroTK-bGHpA</td>\n",
       "      <td>4862</td>\n",
       "      <td>60</td>\n",
       "      <td>101M</td>\n",
       "      <td>=</td>\n",
       "      <td>4950</td>\n",
       "      <td>189</td>\n",
       "      <td>CGCCCTCCTGTGCTACCCGGCCGCGCGGTACCTTATGGGCAGCATG...</td>\n",
       "      <td>CCCFFFFFGHHHHJJJJJJJJJJJJJJJGIJJJJJJHHHHHFFFEE...</td>\n",
       "    </tr>\n",
       "    <tr>\n",
       "      <th>HWI-1KL149:87:HA58EADXX:1:1101:1744:2169</th>\n",
       "      <td>141</td>\n",
       "      <td>*</td>\n",
       "      <td>0</td>\n",
       "      <td>0</td>\n",
       "      <td>*</td>\n",
       "      <td>*</td>\n",
       "      <td>0</td>\n",
       "      <td>0</td>\n",
       "      <td>TCGTAGATTTCTCTGGCGATTGAAGGGCTAAATTCTTCAACGCTAA...</td>\n",
       "      <td>CCCFFFFFHHHHHJJJJJJJJJJJJJJJJJJJIJJJJJJJJJJJJJ...</td>\n",
       "    </tr>\n",
       "    <tr>\n",
       "      <th>HWI-1KL149:87:HA58EADXX:1:1101:1606:2189</th>\n",
       "      <td>83</td>\n",
       "      <td>SSV9K2-CMV-GFP-HygroTK-bGHpA</td>\n",
       "      <td>4285</td>\n",
       "      <td>60</td>\n",
       "      <td>101M</td>\n",
       "      <td>=</td>\n",
       "      <td>4104</td>\n",
       "      <td>-282</td>\n",
       "      <td>AGGGTCGATGCGACGCAATCGTCCGATCCGGAGCCGGGACTGTCGG...</td>\n",
       "      <td>DDDDDDDDDDDDDDDDDDDDDDDDDDDDDDDDDDDDDDDDDDDDDD...</td>\n",
       "    </tr>\n",
       "    <tr>\n",
       "      <th>HWI-1KL149:87:HA58EADXX:1:1101:1752:2238</th>\n",
       "      <td>83</td>\n",
       "      <td>SSV9K2-CMV-GFP-HygroTK-bGHpA</td>\n",
       "      <td>3032</td>\n",
       "      <td>60</td>\n",
       "      <td>101M</td>\n",
       "      <td>=</td>\n",
       "      <td>2809</td>\n",
       "      <td>-324</td>\n",
       "      <td>CTGTTGAATGTCGTGAAGGAAGCAGTTCCTCTGGAAGCTTCTTGAA...</td>\n",
       "      <td>DDDEEDDDDDDDDDDDDDDDDDDDDDDDDDDDDDDDDDDDDDEDDD...</td>\n",
       "    </tr>\n",
       "    <tr>\n",
       "      <th>HWI-1KL149:87:HA58EADXX:1:1101:1752:2238</th>\n",
       "      <td>163</td>\n",
       "      <td>SSV9K2-CMV-GFP-HygroTK-bGHpA</td>\n",
       "      <td>2809</td>\n",
       "      <td>60</td>\n",
       "      <td>101M</td>\n",
       "      <td>=</td>\n",
       "      <td>3032</td>\n",
       "      <td>324</td>\n",
       "      <td>CTATAGGGAGACCACAACGGTTTCCCTCTAGCGGGATCAATTCCGC...</td>\n",
       "      <td>CCCFFFFFHHHHHJJIJJJJIIJJJJJJJJJJJJJHJJIJJJIIIJ...</td>\n",
       "    </tr>\n",
       "    <tr>\n",
       "      <th>HWI-1KL149:87:HA58EADXX:1:1101:1813:2228</th>\n",
       "      <td>2115</td>\n",
       "      <td>SSV9K2-CMV-GFP-HygroTK-bGHpA</td>\n",
       "      <td>5466</td>\n",
       "      <td>60</td>\n",
       "      <td>39M62H</td>\n",
       "      <td>=</td>\n",
       "      <td>4511</td>\n",
       "      <td>-956</td>\n",
       "      <td>GCCCGGGAGATGGGGGAGGCTAACTGAAAATCGATGGAT</td>\n",
       "      <td>CCCFFFFFHHHHHJJJJJJJJJJJJJJJJJJJJHJJJJJ</td>\n",
       "    </tr>\n",
       "    <tr>\n",
       "      <th>HWI-1KL149:87:HA58EADXX:1:1101:2031:2119</th>\n",
       "      <td>99</td>\n",
       "      <td>SSV9K2-CMV-GFP-HygroTK-bGHpA</td>\n",
       "      <td>1392</td>\n",
       "      <td>60</td>\n",
       "      <td>101M</td>\n",
       "      <td>=</td>\n",
       "      <td>1503</td>\n",
       "      <td>212</td>\n",
       "      <td>NCATTGATTATTGACTAGTTATTAATAGTAATCAATTACGGGGTCA...</td>\n",
       "      <td>#1=DDFFFHHHHHJJJJJJJJJJJJIJJIJJJJJJJJJJJJJJGHI...</td>\n",
       "    </tr>\n",
       "    <tr>\n",
       "      <th>HWI-1KL149:87:HA58EADXX:1:1101:2133:2244</th>\n",
       "      <td>163</td>\n",
       "      <td>SSV9K2-CMV-GFP-HygroTK-bGHpA</td>\n",
       "      <td>4828</td>\n",
       "      <td>60</td>\n",
       "      <td>101M</td>\n",
       "      <td>=</td>\n",
       "      <td>4925</td>\n",
       "      <td>198</td>\n",
       "      <td>CCCTCACCCTAATCTTCGACCGCCATCCCATCGCCGCCCTCCTGTG...</td>\n",
       "      <td>CCCFFFFFHHHHHJJJJJJJJJJJJJJJJJJJJJJJJJJJHHHHHF...</td>\n",
       "    </tr>\n",
       "    <tr>\n",
       "      <th>HWI-1KL149:87:HA58EADXX:1:1101:2228:2222</th>\n",
       "      <td>141</td>\n",
       "      <td>*</td>\n",
       "      <td>0</td>\n",
       "      <td>0</td>\n",
       "      <td>*</td>\n",
       "      <td>*</td>\n",
       "      <td>0</td>\n",
       "      <td>0</td>\n",
       "      <td>ACAGTTTGATGAGTATAGAAATGGATCCACTCGTTATTCTCGGACG...</td>\n",
       "      <td>CCCFFFFFHHHHHHIIJJJJJJJJJJJJJJJJJJJJJJJJJJJJJJ...</td>\n",
       "    </tr>\n",
       "    <tr>\n",
       "      <th>HWI-1KL149:87:HA58EADXX:1:1101:2344:2177</th>\n",
       "      <td>83</td>\n",
       "      <td>SSV9K2-CMV-GFP-HygroTK-bGHpA</td>\n",
       "      <td>4321</td>\n",
       "      <td>60</td>\n",
       "      <td>101M</td>\n",
       "      <td>=</td>\n",
       "      <td>4198</td>\n",
       "      <td>-224</td>\n",
       "      <td>GGACTGTCGGGCGTACACAAATCGCCCGCAGAAGCGCGGCCGTCTG...</td>\n",
       "      <td>DDDDDDDDDDDDEDDDEDDDDDDDDDDDDDDDDDDDDDDDDDDDDD...</td>\n",
       "    </tr>\n",
       "    <tr>\n",
       "      <th>HWI-1KL149:87:HA58EADXX:1:1101:2645:2113</th>\n",
       "      <td>163</td>\n",
       "      <td>SSV9K2-CMV-GFP-HygroTK-bGHpA</td>\n",
       "      <td>5493</td>\n",
       "      <td>60</td>\n",
       "      <td>101M</td>\n",
       "      <td>=</td>\n",
       "      <td>5559</td>\n",
       "      <td>167</td>\n",
       "      <td>AAATCGATGGATCCACTAGTTCTAGAGGGCCCTATTCTATAGTGTC...</td>\n",
       "      <td>CCCFFFFFHHHHHJJJJJJIIJJJJJJJJJJJJIJJJJIJJJHGII...</td>\n",
       "    </tr>\n",
       "    <tr>\n",
       "      <th>HWI-1KL149:87:HA58EADXX:1:1101:2485:2160</th>\n",
       "      <td>163</td>\n",
       "      <td>SSV9K2-CMV-GFP-HygroTK-bGHpA</td>\n",
       "      <td>3756</td>\n",
       "      <td>60</td>\n",
       "      <td>101M</td>\n",
       "      <td>=</td>\n",
       "      <td>3829</td>\n",
       "      <td>174</td>\n",
       "      <td>CCGGTCGCGGAGGCCATGGATGCGATCGCTGCGGCCGATCTTAGCC...</td>\n",
       "      <td>CCCFFFFFHHHHHJJJJJJJJJJJJJJJJJJJJHHFDDDDDDEDDD...</td>\n",
       "    </tr>\n",
       "    <tr>\n",
       "      <th>HWI-1KL149:87:HA58EADXX:1:1101:2647:2140</th>\n",
       "      <td>83</td>\n",
       "      <td>SSV9K2-CMV-GFP-HygroTK-bGHpA</td>\n",
       "      <td>4552</td>\n",
       "      <td>60</td>\n",
       "      <td>101M</td>\n",
       "      <td>=</td>\n",
       "      <td>4437</td>\n",
       "      <td>-216</td>\n",
       "      <td>CCACCACGCAACTGCTGGTGGCCCTGGGTTCGCGCGACGATATCGT...</td>\n",
       "      <td>@&lt;2DB&lt;BC&gt;CABCDB?DB@B?DBA?DDDBB&gt;@&gt;;8?98@==?;;C=...</td>\n",
       "    </tr>\n",
       "    <tr>\n",
       "      <th>HWI-1KL149:87:HA58EADXX:1:1101:2813:2174</th>\n",
       "      <td>99</td>\n",
       "      <td>SSV9K2-CMV-GFP-HygroTK-bGHpA</td>\n",
       "      <td>5279</td>\n",
       "      <td>60</td>\n",
       "      <td>101M</td>\n",
       "      <td>=</td>\n",
       "      <td>5457</td>\n",
       "      <td>279</td>\n",
       "      <td>CGTGTTTGCCTGGGCCTTGGACGTCTTGGCCAAACGCCTCCGTTCC...</td>\n",
       "      <td>CCCFFFFFHHHHGIJJJJJJJJJJJJJJJJJJJJJJJJJJJJJJJJ...</td>\n",
       "    </tr>\n",
       "    <tr>\n",
       "      <th>HWI-1KL149:87:HA58EADXX:1:1101:2953:2177</th>\n",
       "      <td>147</td>\n",
       "      <td>SSV9K2-CMV-GFP-HygroTK-bGHpA</td>\n",
       "      <td>3530</td>\n",
       "      <td>60</td>\n",
       "      <td>101M</td>\n",
       "      <td>=</td>\n",
       "      <td>3440</td>\n",
       "      <td>-191</td>\n",
       "      <td>CTTCGATGTAGGAGGGCGTGGATATGTCCTGCGGGTAAATAGCTGC...</td>\n",
       "      <td>DDDDDDDDDDDDDDDDDDDEDEDDCDDDDDDDDDEEEDDDDDDDDD...</td>\n",
       "    </tr>\n",
       "    <tr>\n",
       "      <th>HWI-1KL149:87:HA58EADXX:1:1101:2854:2200</th>\n",
       "      <td>99</td>\n",
       "      <td>SSV9K2-CMV-GFP-HygroTK-bGHpA</td>\n",
       "      <td>5128</td>\n",
       "      <td>60</td>\n",
       "      <td>101M</td>\n",
       "      <td>=</td>\n",
       "      <td>5206</td>\n",
       "      <td>179</td>\n",
       "      <td>GGGAGGACTGGGGACAGCTTTCGGGGACGGCCGTGCCGCCCCAGGG...</td>\n",
       "      <td>CCCFFFFFHHHHHIJIJJJJJJJJJJJJJJJJJJJHHHFDDDDDDD...</td>\n",
       "    </tr>\n",
       "  </tbody>\n",
       "</table>\n",
       "</div>"
      ],
      "text/plain": [
       "                                          FLAG                         RNAME  \\\n",
       "QNAME                                                                          \n",
       "HWI-1KL149:87:HA58EADXX:1:1101:1531:2163   163  SSV9K2-CMV-GFP-HygroTK-bGHpA   \n",
       "HWI-1KL149:87:HA58EADXX:1:1101:1744:2169   141                             *   \n",
       "HWI-1KL149:87:HA58EADXX:1:1101:1606:2189    83  SSV9K2-CMV-GFP-HygroTK-bGHpA   \n",
       "HWI-1KL149:87:HA58EADXX:1:1101:1752:2238    83  SSV9K2-CMV-GFP-HygroTK-bGHpA   \n",
       "HWI-1KL149:87:HA58EADXX:1:1101:1752:2238   163  SSV9K2-CMV-GFP-HygroTK-bGHpA   \n",
       "HWI-1KL149:87:HA58EADXX:1:1101:1813:2228  2115  SSV9K2-CMV-GFP-HygroTK-bGHpA   \n",
       "HWI-1KL149:87:HA58EADXX:1:1101:2031:2119    99  SSV9K2-CMV-GFP-HygroTK-bGHpA   \n",
       "HWI-1KL149:87:HA58EADXX:1:1101:2133:2244   163  SSV9K2-CMV-GFP-HygroTK-bGHpA   \n",
       "HWI-1KL149:87:HA58EADXX:1:1101:2228:2222   141                             *   \n",
       "HWI-1KL149:87:HA58EADXX:1:1101:2344:2177    83  SSV9K2-CMV-GFP-HygroTK-bGHpA   \n",
       "HWI-1KL149:87:HA58EADXX:1:1101:2645:2113   163  SSV9K2-CMV-GFP-HygroTK-bGHpA   \n",
       "HWI-1KL149:87:HA58EADXX:1:1101:2485:2160   163  SSV9K2-CMV-GFP-HygroTK-bGHpA   \n",
       "HWI-1KL149:87:HA58EADXX:1:1101:2647:2140    83  SSV9K2-CMV-GFP-HygroTK-bGHpA   \n",
       "HWI-1KL149:87:HA58EADXX:1:1101:2813:2174    99  SSV9K2-CMV-GFP-HygroTK-bGHpA   \n",
       "HWI-1KL149:87:HA58EADXX:1:1101:2953:2177   147  SSV9K2-CMV-GFP-HygroTK-bGHpA   \n",
       "HWI-1KL149:87:HA58EADXX:1:1101:2854:2200    99  SSV9K2-CMV-GFP-HygroTK-bGHpA   \n",
       "\n",
       "                                           POS  MAPQ   CIGAR RNEXT  PNEXT  \\\n",
       "QNAME                                                                       \n",
       "HWI-1KL149:87:HA58EADXX:1:1101:1531:2163  4862    60    101M     =   4950   \n",
       "HWI-1KL149:87:HA58EADXX:1:1101:1744:2169     0     0       *     *      0   \n",
       "HWI-1KL149:87:HA58EADXX:1:1101:1606:2189  4285    60    101M     =   4104   \n",
       "HWI-1KL149:87:HA58EADXX:1:1101:1752:2238  3032    60    101M     =   2809   \n",
       "HWI-1KL149:87:HA58EADXX:1:1101:1752:2238  2809    60    101M     =   3032   \n",
       "HWI-1KL149:87:HA58EADXX:1:1101:1813:2228  5466    60  39M62H     =   4511   \n",
       "HWI-1KL149:87:HA58EADXX:1:1101:2031:2119  1392    60    101M     =   1503   \n",
       "HWI-1KL149:87:HA58EADXX:1:1101:2133:2244  4828    60    101M     =   4925   \n",
       "HWI-1KL149:87:HA58EADXX:1:1101:2228:2222     0     0       *     *      0   \n",
       "HWI-1KL149:87:HA58EADXX:1:1101:2344:2177  4321    60    101M     =   4198   \n",
       "HWI-1KL149:87:HA58EADXX:1:1101:2645:2113  5493    60    101M     =   5559   \n",
       "HWI-1KL149:87:HA58EADXX:1:1101:2485:2160  3756    60    101M     =   3829   \n",
       "HWI-1KL149:87:HA58EADXX:1:1101:2647:2140  4552    60    101M     =   4437   \n",
       "HWI-1KL149:87:HA58EADXX:1:1101:2813:2174  5279    60    101M     =   5457   \n",
       "HWI-1KL149:87:HA58EADXX:1:1101:2953:2177  3530    60    101M     =   3440   \n",
       "HWI-1KL149:87:HA58EADXX:1:1101:2854:2200  5128    60    101M     =   5206   \n",
       "\n",
       "                                          TLEN  \\\n",
       "QNAME                                            \n",
       "HWI-1KL149:87:HA58EADXX:1:1101:1531:2163   189   \n",
       "HWI-1KL149:87:HA58EADXX:1:1101:1744:2169     0   \n",
       "HWI-1KL149:87:HA58EADXX:1:1101:1606:2189  -282   \n",
       "HWI-1KL149:87:HA58EADXX:1:1101:1752:2238  -324   \n",
       "HWI-1KL149:87:HA58EADXX:1:1101:1752:2238   324   \n",
       "HWI-1KL149:87:HA58EADXX:1:1101:1813:2228  -956   \n",
       "HWI-1KL149:87:HA58EADXX:1:1101:2031:2119   212   \n",
       "HWI-1KL149:87:HA58EADXX:1:1101:2133:2244   198   \n",
       "HWI-1KL149:87:HA58EADXX:1:1101:2228:2222     0   \n",
       "HWI-1KL149:87:HA58EADXX:1:1101:2344:2177  -224   \n",
       "HWI-1KL149:87:HA58EADXX:1:1101:2645:2113   167   \n",
       "HWI-1KL149:87:HA58EADXX:1:1101:2485:2160   174   \n",
       "HWI-1KL149:87:HA58EADXX:1:1101:2647:2140  -216   \n",
       "HWI-1KL149:87:HA58EADXX:1:1101:2813:2174   279   \n",
       "HWI-1KL149:87:HA58EADXX:1:1101:2953:2177  -191   \n",
       "HWI-1KL149:87:HA58EADXX:1:1101:2854:2200   179   \n",
       "\n",
       "                                                                                        SEQ  \\\n",
       "QNAME                                                                                         \n",
       "HWI-1KL149:87:HA58EADXX:1:1101:1531:2163  CGCCCTCCTGTGCTACCCGGCCGCGCGGTACCTTATGGGCAGCATG...   \n",
       "HWI-1KL149:87:HA58EADXX:1:1101:1744:2169  TCGTAGATTTCTCTGGCGATTGAAGGGCTAAATTCTTCAACGCTAA...   \n",
       "HWI-1KL149:87:HA58EADXX:1:1101:1606:2189  AGGGTCGATGCGACGCAATCGTCCGATCCGGAGCCGGGACTGTCGG...   \n",
       "HWI-1KL149:87:HA58EADXX:1:1101:1752:2238  CTGTTGAATGTCGTGAAGGAAGCAGTTCCTCTGGAAGCTTCTTGAA...   \n",
       "HWI-1KL149:87:HA58EADXX:1:1101:1752:2238  CTATAGGGAGACCACAACGGTTTCCCTCTAGCGGGATCAATTCCGC...   \n",
       "HWI-1KL149:87:HA58EADXX:1:1101:1813:2228            GCCCGGGAGATGGGGGAGGCTAACTGAAAATCGATGGAT   \n",
       "HWI-1KL149:87:HA58EADXX:1:1101:2031:2119  NCATTGATTATTGACTAGTTATTAATAGTAATCAATTACGGGGTCA...   \n",
       "HWI-1KL149:87:HA58EADXX:1:1101:2133:2244  CCCTCACCCTAATCTTCGACCGCCATCCCATCGCCGCCCTCCTGTG...   \n",
       "HWI-1KL149:87:HA58EADXX:1:1101:2228:2222  ACAGTTTGATGAGTATAGAAATGGATCCACTCGTTATTCTCGGACG...   \n",
       "HWI-1KL149:87:HA58EADXX:1:1101:2344:2177  GGACTGTCGGGCGTACACAAATCGCCCGCAGAAGCGCGGCCGTCTG...   \n",
       "HWI-1KL149:87:HA58EADXX:1:1101:2645:2113  AAATCGATGGATCCACTAGTTCTAGAGGGCCCTATTCTATAGTGTC...   \n",
       "HWI-1KL149:87:HA58EADXX:1:1101:2485:2160  CCGGTCGCGGAGGCCATGGATGCGATCGCTGCGGCCGATCTTAGCC...   \n",
       "HWI-1KL149:87:HA58EADXX:1:1101:2647:2140  CCACCACGCAACTGCTGGTGGCCCTGGGTTCGCGCGACGATATCGT...   \n",
       "HWI-1KL149:87:HA58EADXX:1:1101:2813:2174  CGTGTTTGCCTGGGCCTTGGACGTCTTGGCCAAACGCCTCCGTTCC...   \n",
       "HWI-1KL149:87:HA58EADXX:1:1101:2953:2177  CTTCGATGTAGGAGGGCGTGGATATGTCCTGCGGGTAAATAGCTGC...   \n",
       "HWI-1KL149:87:HA58EADXX:1:1101:2854:2200  GGGAGGACTGGGGACAGCTTTCGGGGACGGCCGTGCCGCCCCAGGG...   \n",
       "\n",
       "                                                                                       QUAL  \n",
       "QNAME                                                                                        \n",
       "HWI-1KL149:87:HA58EADXX:1:1101:1531:2163  CCCFFFFFGHHHHJJJJJJJJJJJJJJJGIJJJJJJHHHHHFFFEE...  \n",
       "HWI-1KL149:87:HA58EADXX:1:1101:1744:2169  CCCFFFFFHHHHHJJJJJJJJJJJJJJJJJJJIJJJJJJJJJJJJJ...  \n",
       "HWI-1KL149:87:HA58EADXX:1:1101:1606:2189  DDDDDDDDDDDDDDDDDDDDDDDDDDDDDDDDDDDDDDDDDDDDDD...  \n",
       "HWI-1KL149:87:HA58EADXX:1:1101:1752:2238  DDDEEDDDDDDDDDDDDDDDDDDDDDDDDDDDDDDDDDDDDDEDDD...  \n",
       "HWI-1KL149:87:HA58EADXX:1:1101:1752:2238  CCCFFFFFHHHHHJJIJJJJIIJJJJJJJJJJJJJHJJIJJJIIIJ...  \n",
       "HWI-1KL149:87:HA58EADXX:1:1101:1813:2228            CCCFFFFFHHHHHJJJJJJJJJJJJJJJJJJJJHJJJJJ  \n",
       "HWI-1KL149:87:HA58EADXX:1:1101:2031:2119  #1=DDFFFHHHHHJJJJJJJJJJJJIJJIJJJJJJJJJJJJJJGHI...  \n",
       "HWI-1KL149:87:HA58EADXX:1:1101:2133:2244  CCCFFFFFHHHHHJJJJJJJJJJJJJJJJJJJJJJJJJJJHHHHHF...  \n",
       "HWI-1KL149:87:HA58EADXX:1:1101:2228:2222  CCCFFFFFHHHHHHIIJJJJJJJJJJJJJJJJJJJJJJJJJJJJJJ...  \n",
       "HWI-1KL149:87:HA58EADXX:1:1101:2344:2177  DDDDDDDDDDDDEDDDEDDDDDDDDDDDDDDDDDDDDDDDDDDDDD...  \n",
       "HWI-1KL149:87:HA58EADXX:1:1101:2645:2113  CCCFFFFFHHHHHJJJJJJIIJJJJJJJJJJJJIJJJJIJJJHGII...  \n",
       "HWI-1KL149:87:HA58EADXX:1:1101:2485:2160  CCCFFFFFHHHHHJJJJJJJJJJJJJJJJJJJJHHFDDDDDDEDDD...  \n",
       "HWI-1KL149:87:HA58EADXX:1:1101:2647:2140  @<2DB<BC>CABCDB?DB@B?DBA?DDDBB>@>;8?98@==?;;C=...  \n",
       "HWI-1KL149:87:HA58EADXX:1:1101:2813:2174  CCCFFFFFHHHHGIJJJJJJJJJJJJJJJJJJJJJJJJJJJJJJJJ...  \n",
       "HWI-1KL149:87:HA58EADXX:1:1101:2953:2177  DDDDDDDDDDDDDDDDDDDEDEDDCDDDDDDDDDEEEDDDDDDDDD...  \n",
       "HWI-1KL149:87:HA58EADXX:1:1101:2854:2200  CCCFFFFFHHHHHIJIJJJJJJJJJJJJJJJJJJJHHHFDDDDDDD...  "
      ]
     },
     "execution_count": 210,
     "metadata": {},
     "output_type": "execute_result"
    }
   ],
   "source": [
    "file = \"../data/sample_alignment.sam\"\n",
    "columns_names = ['QNAME', 'FLAG', 'RNAME', 'POS', 'MAPQ', 'CIGAR', 'RNEXT', 'PNEXT', 'TLEN', 'SEQ', 'QUAL']\n",
    "\n",
    "df = pd.read_table(file, sep=\"\\t\", names = columns_names, skiprows=[0,1], index_col=0)\n",
    "df"
   ]
  },
  {
   "cell_type": "markdown",
   "metadata": {},
   "source": [
    "***Examples of column slicing***"
   ]
  },
  {
   "cell_type": "code",
   "execution_count": 116,
   "metadata": {
    "collapsed": true
   },
   "outputs": [
    {
     "data": {
      "text/plain": [
       "QNAME\n",
       "HWI-1KL149:87:HA58EADXX:1:1101:1531:2163     163\n",
       "HWI-1KL149:87:HA58EADXX:1:1101:1744:2169     141\n",
       "HWI-1KL149:87:HA58EADXX:1:1101:1606:2189      83\n",
       "HWI-1KL149:87:HA58EADXX:1:1101:1752:2238      83\n",
       "HWI-1KL149:87:HA58EADXX:1:1101:1752:2238     163\n",
       "HWI-1KL149:87:HA58EADXX:1:1101:1813:2228    2115\n",
       "HWI-1KL149:87:HA58EADXX:1:1101:2031:2119      99\n",
       "HWI-1KL149:87:HA58EADXX:1:1101:2133:2244     163\n",
       "HWI-1KL149:87:HA58EADXX:1:1101:2228:2222     141\n",
       "HWI-1KL149:87:HA58EADXX:1:1101:2344:2177      83\n",
       "HWI-1KL149:87:HA58EADXX:1:1101:2645:2113     163\n",
       "HWI-1KL149:87:HA58EADXX:1:1101:2485:2160     163\n",
       "HWI-1KL149:87:HA58EADXX:1:1101:2647:2140      83\n",
       "HWI-1KL149:87:HA58EADXX:1:1101:2813:2174      99\n",
       "HWI-1KL149:87:HA58EADXX:1:1101:2953:2177     147\n",
       "HWI-1KL149:87:HA58EADXX:1:1101:2854:2200      99\n",
       "Name: FLAG, dtype: int64"
      ]
     },
     "execution_count": 116,
     "metadata": {},
     "output_type": "execute_result"
    }
   ],
   "source": [
    "df[\"FLAG\"]"
   ]
  },
  {
   "cell_type": "code",
   "execution_count": 117,
   "metadata": {
    "collapsed": true
   },
   "outputs": [
    {
     "data": {
      "text/plain": [
       "QNAME\n",
       "HWI-1KL149:87:HA58EADXX:1:1101:1531:2163     163\n",
       "HWI-1KL149:87:HA58EADXX:1:1101:1744:2169     141\n",
       "HWI-1KL149:87:HA58EADXX:1:1101:1606:2189      83\n",
       "HWI-1KL149:87:HA58EADXX:1:1101:1752:2238      83\n",
       "HWI-1KL149:87:HA58EADXX:1:1101:1752:2238     163\n",
       "HWI-1KL149:87:HA58EADXX:1:1101:1813:2228    2115\n",
       "HWI-1KL149:87:HA58EADXX:1:1101:2031:2119      99\n",
       "HWI-1KL149:87:HA58EADXX:1:1101:2133:2244     163\n",
       "HWI-1KL149:87:HA58EADXX:1:1101:2228:2222     141\n",
       "HWI-1KL149:87:HA58EADXX:1:1101:2344:2177      83\n",
       "HWI-1KL149:87:HA58EADXX:1:1101:2645:2113     163\n",
       "HWI-1KL149:87:HA58EADXX:1:1101:2485:2160     163\n",
       "HWI-1KL149:87:HA58EADXX:1:1101:2647:2140      83\n",
       "HWI-1KL149:87:HA58EADXX:1:1101:2813:2174      99\n",
       "HWI-1KL149:87:HA58EADXX:1:1101:2953:2177     147\n",
       "HWI-1KL149:87:HA58EADXX:1:1101:2854:2200      99\n",
       "Name: FLAG, dtype: int64"
      ]
     },
     "execution_count": 117,
     "metadata": {},
     "output_type": "execute_result"
    }
   ],
   "source": [
    "df.FLAG"
   ]
  },
  {
   "cell_type": "code",
   "execution_count": 125,
   "metadata": {
    "collapsed": true
   },
   "outputs": [
    {
     "data": {
      "text/html": [
       "<div>\n",
       "<table border=\"1\" class=\"dataframe\">\n",
       "  <thead>\n",
       "    <tr style=\"text-align: right;\">\n",
       "      <th></th>\n",
       "      <th>FLAG</th>\n",
       "      <th>POS</th>\n",
       "    </tr>\n",
       "    <tr>\n",
       "      <th>QNAME</th>\n",
       "      <th></th>\n",
       "      <th></th>\n",
       "    </tr>\n",
       "  </thead>\n",
       "  <tbody>\n",
       "    <tr>\n",
       "      <th>HWI-1KL149:87:HA58EADXX:1:1101:1531:2163</th>\n",
       "      <td>163</td>\n",
       "      <td>4862</td>\n",
       "    </tr>\n",
       "    <tr>\n",
       "      <th>HWI-1KL149:87:HA58EADXX:1:1101:1744:2169</th>\n",
       "      <td>141</td>\n",
       "      <td>0</td>\n",
       "    </tr>\n",
       "    <tr>\n",
       "      <th>HWI-1KL149:87:HA58EADXX:1:1101:1606:2189</th>\n",
       "      <td>83</td>\n",
       "      <td>4285</td>\n",
       "    </tr>\n",
       "    <tr>\n",
       "      <th>HWI-1KL149:87:HA58EADXX:1:1101:1752:2238</th>\n",
       "      <td>83</td>\n",
       "      <td>3032</td>\n",
       "    </tr>\n",
       "    <tr>\n",
       "      <th>HWI-1KL149:87:HA58EADXX:1:1101:1752:2238</th>\n",
       "      <td>163</td>\n",
       "      <td>2809</td>\n",
       "    </tr>\n",
       "    <tr>\n",
       "      <th>HWI-1KL149:87:HA58EADXX:1:1101:1813:2228</th>\n",
       "      <td>2115</td>\n",
       "      <td>5466</td>\n",
       "    </tr>\n",
       "    <tr>\n",
       "      <th>HWI-1KL149:87:HA58EADXX:1:1101:2031:2119</th>\n",
       "      <td>99</td>\n",
       "      <td>1392</td>\n",
       "    </tr>\n",
       "    <tr>\n",
       "      <th>HWI-1KL149:87:HA58EADXX:1:1101:2133:2244</th>\n",
       "      <td>163</td>\n",
       "      <td>4828</td>\n",
       "    </tr>\n",
       "    <tr>\n",
       "      <th>HWI-1KL149:87:HA58EADXX:1:1101:2228:2222</th>\n",
       "      <td>141</td>\n",
       "      <td>0</td>\n",
       "    </tr>\n",
       "    <tr>\n",
       "      <th>HWI-1KL149:87:HA58EADXX:1:1101:2344:2177</th>\n",
       "      <td>83</td>\n",
       "      <td>4321</td>\n",
       "    </tr>\n",
       "    <tr>\n",
       "      <th>HWI-1KL149:87:HA58EADXX:1:1101:2645:2113</th>\n",
       "      <td>163</td>\n",
       "      <td>5493</td>\n",
       "    </tr>\n",
       "    <tr>\n",
       "      <th>HWI-1KL149:87:HA58EADXX:1:1101:2485:2160</th>\n",
       "      <td>163</td>\n",
       "      <td>3756</td>\n",
       "    </tr>\n",
       "    <tr>\n",
       "      <th>HWI-1KL149:87:HA58EADXX:1:1101:2647:2140</th>\n",
       "      <td>83</td>\n",
       "      <td>4552</td>\n",
       "    </tr>\n",
       "    <tr>\n",
       "      <th>HWI-1KL149:87:HA58EADXX:1:1101:2813:2174</th>\n",
       "      <td>99</td>\n",
       "      <td>5279</td>\n",
       "    </tr>\n",
       "    <tr>\n",
       "      <th>HWI-1KL149:87:HA58EADXX:1:1101:2953:2177</th>\n",
       "      <td>147</td>\n",
       "      <td>3530</td>\n",
       "    </tr>\n",
       "    <tr>\n",
       "      <th>HWI-1KL149:87:HA58EADXX:1:1101:2854:2200</th>\n",
       "      <td>99</td>\n",
       "      <td>5128</td>\n",
       "    </tr>\n",
       "  </tbody>\n",
       "</table>\n",
       "</div>"
      ],
      "text/plain": [
       "                                          FLAG   POS\n",
       "QNAME                                               \n",
       "HWI-1KL149:87:HA58EADXX:1:1101:1531:2163   163  4862\n",
       "HWI-1KL149:87:HA58EADXX:1:1101:1744:2169   141     0\n",
       "HWI-1KL149:87:HA58EADXX:1:1101:1606:2189    83  4285\n",
       "HWI-1KL149:87:HA58EADXX:1:1101:1752:2238    83  3032\n",
       "HWI-1KL149:87:HA58EADXX:1:1101:1752:2238   163  2809\n",
       "HWI-1KL149:87:HA58EADXX:1:1101:1813:2228  2115  5466\n",
       "HWI-1KL149:87:HA58EADXX:1:1101:2031:2119    99  1392\n",
       "HWI-1KL149:87:HA58EADXX:1:1101:2133:2244   163  4828\n",
       "HWI-1KL149:87:HA58EADXX:1:1101:2228:2222   141     0\n",
       "HWI-1KL149:87:HA58EADXX:1:1101:2344:2177    83  4321\n",
       "HWI-1KL149:87:HA58EADXX:1:1101:2645:2113   163  5493\n",
       "HWI-1KL149:87:HA58EADXX:1:1101:2485:2160   163  3756\n",
       "HWI-1KL149:87:HA58EADXX:1:1101:2647:2140    83  4552\n",
       "HWI-1KL149:87:HA58EADXX:1:1101:2813:2174    99  5279\n",
       "HWI-1KL149:87:HA58EADXX:1:1101:2953:2177   147  3530\n",
       "HWI-1KL149:87:HA58EADXX:1:1101:2854:2200    99  5128"
      ]
     },
     "execution_count": 125,
     "metadata": {},
     "output_type": "execute_result"
    }
   ],
   "source": [
    "df[[\"FLAG\", \"POS\"]]"
   ]
  },
  {
   "cell_type": "markdown",
   "metadata": {},
   "source": [
    "***Examples of index slicing***"
   ]
  },
  {
   "cell_type": "code",
   "execution_count": 118,
   "metadata": {
    "collapsed": true
   },
   "outputs": [
    {
     "data": {
      "text/plain": [
       "FLAG                                                   163\n",
       "RNAME                         SSV9K2-CMV-GFP-HygroTK-bGHpA\n",
       "POS                                                   4862\n",
       "MAPQ                                                    60\n",
       "CIGAR                                                 101M\n",
       "RNEXT                                                    =\n",
       "PNEXT                                                 4950\n",
       "TLEN                                                   189\n",
       "SEQ      CGCCCTCCTGTGCTACCCGGCCGCGCGGTACCTTATGGGCAGCATG...\n",
       "QUAL     CCCFFFFFGHHHHJJJJJJJJJJJJJJJGIJJJJJJHHHHHFFFEE...\n",
       "Name: HWI-1KL149:87:HA58EADXX:1:1101:1531:2163, dtype: object"
      ]
     },
     "execution_count": 118,
     "metadata": {},
     "output_type": "execute_result"
    }
   ],
   "source": [
    "df.loc[\"HWI-1KL149:87:HA58EADXX:1:1101:1531:2163\"]"
   ]
  },
  {
   "cell_type": "code",
   "execution_count": 165,
   "metadata": {
    "collapsed": true
   },
   "outputs": [
    {
     "data": {
      "text/html": [
       "<div>\n",
       "<table border=\"1\" class=\"dataframe\">\n",
       "  <thead>\n",
       "    <tr style=\"text-align: right;\">\n",
       "      <th></th>\n",
       "      <th>FLAG</th>\n",
       "      <th>RNAME</th>\n",
       "      <th>POS</th>\n",
       "      <th>MAPQ</th>\n",
       "      <th>CIGAR</th>\n",
       "      <th>RNEXT</th>\n",
       "      <th>PNEXT</th>\n",
       "      <th>TLEN</th>\n",
       "      <th>SEQ</th>\n",
       "      <th>QUAL</th>\n",
       "    </tr>\n",
       "    <tr>\n",
       "      <th>QNAME</th>\n",
       "      <th></th>\n",
       "      <th></th>\n",
       "      <th></th>\n",
       "      <th></th>\n",
       "      <th></th>\n",
       "      <th></th>\n",
       "      <th></th>\n",
       "      <th></th>\n",
       "      <th></th>\n",
       "      <th></th>\n",
       "    </tr>\n",
       "  </thead>\n",
       "  <tbody>\n",
       "    <tr>\n",
       "      <th>HWI-1KL149:87:HA58EADXX:1:1101:1531:2163</th>\n",
       "      <td>163</td>\n",
       "      <td>SSV9K2-CMV-GFP-HygroTK-bGHpA</td>\n",
       "      <td>4862</td>\n",
       "      <td>60</td>\n",
       "      <td>101M</td>\n",
       "      <td>=</td>\n",
       "      <td>4950</td>\n",
       "      <td>189</td>\n",
       "      <td>CGCCCTCCTGTGCTACCCGGCCGCGCGGTACCTTATGGGCAGCATG...</td>\n",
       "      <td>CCCFFFFFGHHHHJJJJJJJJJJJJJJJGIJJJJJJHHHHHFFFEE...</td>\n",
       "    </tr>\n",
       "    <tr>\n",
       "      <th>HWI-1KL149:87:HA58EADXX:1:1101:1744:2169</th>\n",
       "      <td>141</td>\n",
       "      <td>*</td>\n",
       "      <td>0</td>\n",
       "      <td>0</td>\n",
       "      <td>*</td>\n",
       "      <td>*</td>\n",
       "      <td>0</td>\n",
       "      <td>0</td>\n",
       "      <td>TCGTAGATTTCTCTGGCGATTGAAGGGCTAAATTCTTCAACGCTAA...</td>\n",
       "      <td>CCCFFFFFHHHHHJJJJJJJJJJJJJJJJJJJIJJJJJJJJJJJJJ...</td>\n",
       "    </tr>\n",
       "  </tbody>\n",
       "</table>\n",
       "</div>"
      ],
      "text/plain": [
       "                                          FLAG                         RNAME  \\\n",
       "QNAME                                                                          \n",
       "HWI-1KL149:87:HA58EADXX:1:1101:1531:2163   163  SSV9K2-CMV-GFP-HygroTK-bGHpA   \n",
       "HWI-1KL149:87:HA58EADXX:1:1101:1744:2169   141                             *   \n",
       "\n",
       "                                           POS  MAPQ CIGAR RNEXT  PNEXT  TLEN  \\\n",
       "QNAME                                                                           \n",
       "HWI-1KL149:87:HA58EADXX:1:1101:1531:2163  4862    60  101M     =   4950   189   \n",
       "HWI-1KL149:87:HA58EADXX:1:1101:1744:2169     0     0     *     *      0     0   \n",
       "\n",
       "                                                                                        SEQ  \\\n",
       "QNAME                                                                                         \n",
       "HWI-1KL149:87:HA58EADXX:1:1101:1531:2163  CGCCCTCCTGTGCTACCCGGCCGCGCGGTACCTTATGGGCAGCATG...   \n",
       "HWI-1KL149:87:HA58EADXX:1:1101:1744:2169  TCGTAGATTTCTCTGGCGATTGAAGGGCTAAATTCTTCAACGCTAA...   \n",
       "\n",
       "                                                                                       QUAL  \n",
       "QNAME                                                                                        \n",
       "HWI-1KL149:87:HA58EADXX:1:1101:1531:2163  CCCFFFFFGHHHHJJJJJJJJJJJJJJJGIJJJJJJHHHHHFFFEE...  \n",
       "HWI-1KL149:87:HA58EADXX:1:1101:1744:2169  CCCFFFFFHHHHHJJJJJJJJJJJJJJJJJJJIJJJJJJJJJJJJJ...  "
      ]
     },
     "execution_count": 165,
     "metadata": {},
     "output_type": "execute_result"
    }
   ],
   "source": [
    "df.loc[\"HWI-1KL149:87:HA58EADXX:1:1101:1531:2163\":\"HWI-1KL149:87:HA58EADXX:1:1101:1744:2169\"]"
   ]
  },
  {
   "cell_type": "code",
   "execution_count": 120,
   "metadata": {
    "collapsed": true
   },
   "outputs": [
    {
     "data": {
      "text/plain": [
       "FLAG                                                   163\n",
       "RNAME                         SSV9K2-CMV-GFP-HygroTK-bGHpA\n",
       "POS                                                   4862\n",
       "MAPQ                                                    60\n",
       "CIGAR                                                 101M\n",
       "RNEXT                                                    =\n",
       "PNEXT                                                 4950\n",
       "TLEN                                                   189\n",
       "SEQ      CGCCCTCCTGTGCTACCCGGCCGCGCGGTACCTTATGGGCAGCATG...\n",
       "QUAL     CCCFFFFFGHHHHJJJJJJJJJJJJJJJGIJJJJJJHHHHHFFFEE...\n",
       "Name: HWI-1KL149:87:HA58EADXX:1:1101:1531:2163, dtype: object"
      ]
     },
     "execution_count": 120,
     "metadata": {},
     "output_type": "execute_result"
    }
   ],
   "source": [
    "df.iloc[0]"
   ]
  },
  {
   "cell_type": "code",
   "execution_count": 121,
   "metadata": {
    "collapsed": true
   },
   "outputs": [
    {
     "data": {
      "text/html": [
       "<div>\n",
       "<table border=\"1\" class=\"dataframe\">\n",
       "  <thead>\n",
       "    <tr style=\"text-align: right;\">\n",
       "      <th></th>\n",
       "      <th>FLAG</th>\n",
       "      <th>RNAME</th>\n",
       "      <th>POS</th>\n",
       "      <th>MAPQ</th>\n",
       "      <th>CIGAR</th>\n",
       "      <th>RNEXT</th>\n",
       "      <th>PNEXT</th>\n",
       "      <th>TLEN</th>\n",
       "      <th>SEQ</th>\n",
       "      <th>QUAL</th>\n",
       "    </tr>\n",
       "    <tr>\n",
       "      <th>QNAME</th>\n",
       "      <th></th>\n",
       "      <th></th>\n",
       "      <th></th>\n",
       "      <th></th>\n",
       "      <th></th>\n",
       "      <th></th>\n",
       "      <th></th>\n",
       "      <th></th>\n",
       "      <th></th>\n",
       "      <th></th>\n",
       "    </tr>\n",
       "  </thead>\n",
       "  <tbody>\n",
       "    <tr>\n",
       "      <th>HWI-1KL149:87:HA58EADXX:1:1101:2645:2113</th>\n",
       "      <td>163</td>\n",
       "      <td>SSV9K2-CMV-GFP-HygroTK-bGHpA</td>\n",
       "      <td>5493</td>\n",
       "      <td>60</td>\n",
       "      <td>101M</td>\n",
       "      <td>=</td>\n",
       "      <td>5559</td>\n",
       "      <td>167</td>\n",
       "      <td>AAATCGATGGATCCACTAGTTCTAGAGGGCCCTATTCTATAGTGTC...</td>\n",
       "      <td>CCCFFFFFHHHHHJJJJJJIIJJJJJJJJJJJJIJJJJIJJJHGII...</td>\n",
       "    </tr>\n",
       "    <tr>\n",
       "      <th>HWI-1KL149:87:HA58EADXX:1:1101:2485:2160</th>\n",
       "      <td>163</td>\n",
       "      <td>SSV9K2-CMV-GFP-HygroTK-bGHpA</td>\n",
       "      <td>3756</td>\n",
       "      <td>60</td>\n",
       "      <td>101M</td>\n",
       "      <td>=</td>\n",
       "      <td>3829</td>\n",
       "      <td>174</td>\n",
       "      <td>CCGGTCGCGGAGGCCATGGATGCGATCGCTGCGGCCGATCTTAGCC...</td>\n",
       "      <td>CCCFFFFFHHHHHJJJJJJJJJJJJJJJJJJJJHHFDDDDDDEDDD...</td>\n",
       "    </tr>\n",
       "  </tbody>\n",
       "</table>\n",
       "</div>"
      ],
      "text/plain": [
       "                                          FLAG                         RNAME  \\\n",
       "QNAME                                                                          \n",
       "HWI-1KL149:87:HA58EADXX:1:1101:2645:2113   163  SSV9K2-CMV-GFP-HygroTK-bGHpA   \n",
       "HWI-1KL149:87:HA58EADXX:1:1101:2485:2160   163  SSV9K2-CMV-GFP-HygroTK-bGHpA   \n",
       "\n",
       "                                           POS  MAPQ CIGAR RNEXT  PNEXT  TLEN  \\\n",
       "QNAME                                                                           \n",
       "HWI-1KL149:87:HA58EADXX:1:1101:2645:2113  5493    60  101M     =   5559   167   \n",
       "HWI-1KL149:87:HA58EADXX:1:1101:2485:2160  3756    60  101M     =   3829   174   \n",
       "\n",
       "                                                                                        SEQ  \\\n",
       "QNAME                                                                                         \n",
       "HWI-1KL149:87:HA58EADXX:1:1101:2645:2113  AAATCGATGGATCCACTAGTTCTAGAGGGCCCTATTCTATAGTGTC...   \n",
       "HWI-1KL149:87:HA58EADXX:1:1101:2485:2160  CCGGTCGCGGAGGCCATGGATGCGATCGCTGCGGCCGATCTTAGCC...   \n",
       "\n",
       "                                                                                       QUAL  \n",
       "QNAME                                                                                        \n",
       "HWI-1KL149:87:HA58EADXX:1:1101:2645:2113  CCCFFFFFHHHHHJJJJJJIIJJJJJJJJJJJJIJJJJIJJJHGII...  \n",
       "HWI-1KL149:87:HA58EADXX:1:1101:2485:2160  CCCFFFFFHHHHHJJJJJJJJJJJJJJJJJJJJHHFDDDDDDEDDD...  "
      ]
     },
     "execution_count": 121,
     "metadata": {},
     "output_type": "execute_result"
    }
   ],
   "source": [
    "df.iloc[10:12]"
   ]
  },
  {
   "cell_type": "markdown",
   "metadata": {},
   "source": [
    "***Examples of combination of column and index slicing to select a specific item or a range of items***"
   ]
  },
  {
   "cell_type": "code",
   "execution_count": 164,
   "metadata": {
    "collapsed": false
   },
   "outputs": [
    {
     "data": {
      "text/plain": [
       "QNAME\n",
       "HWI-1KL149:87:HA58EADXX:1:1101:1531:2163    163\n",
       "HWI-1KL149:87:HA58EADXX:1:1101:1744:2169    141\n",
       "Name: FLAG, dtype: int64"
      ]
     },
     "execution_count": 164,
     "metadata": {},
     "output_type": "execute_result"
    }
   ],
   "source": [
    "df.loc[\"HWI-1KL149:87:HA58EADXX:1:1101:1531:2163\":\"HWI-1KL149:87:HA58EADXX:1:1101:1744:2169\", \"FLAG\"]"
   ]
  },
  {
   "cell_type": "code",
   "execution_count": 159,
   "metadata": {
    "collapsed": false,
    "scrolled": true
   },
   "outputs": [
    {
     "data": {
      "text/plain": [
       "163"
      ]
     },
     "execution_count": 159,
     "metadata": {},
     "output_type": "execute_result"
    }
   ],
   "source": [
    "df.loc[\"HWI-1KL149:87:HA58EADXX:1:1101:1531:2163\"][\"FLAG\"]"
   ]
  },
  {
   "cell_type": "code",
   "execution_count": 163,
   "metadata": {
    "collapsed": false
   },
   "outputs": [
    {
     "data": {
      "text/plain": [
       "163"
      ]
     },
     "execution_count": 163,
     "metadata": {},
     "output_type": "execute_result"
    }
   ],
   "source": [
    "df.iloc[0,0]"
   ]
  },
  {
   "cell_type": "code",
   "execution_count": 160,
   "metadata": {
    "collapsed": false
   },
   "outputs": [
    {
     "data": {
      "text/plain": [
       "163"
      ]
     },
     "execution_count": 160,
     "metadata": {},
     "output_type": "execute_result"
    }
   ],
   "source": [
    "df.iloc[0][0]"
   ]
  },
  {
   "cell_type": "markdown",
   "metadata": {},
   "source": [
    "### Select specific elements based on their values = Boolean Indexing"
   ]
  },
  {
   "cell_type": "markdown",
   "metadata": {},
   "source": [
    "***With a single condition***"
   ]
  },
  {
   "cell_type": "code",
   "execution_count": 215,
   "metadata": {
    "collapsed": true
   },
   "outputs": [
    {
     "data": {
      "text/html": [
       "<div>\n",
       "<table border=\"1\" class=\"dataframe\">\n",
       "  <thead>\n",
       "    <tr style=\"text-align: right;\">\n",
       "      <th></th>\n",
       "      <th>FLAG</th>\n",
       "      <th>RNAME</th>\n",
       "      <th>POS</th>\n",
       "      <th>MAPQ</th>\n",
       "      <th>CIGAR</th>\n",
       "      <th>RNEXT</th>\n",
       "      <th>PNEXT</th>\n",
       "      <th>TLEN</th>\n",
       "      <th>SEQ</th>\n",
       "      <th>QUAL</th>\n",
       "    </tr>\n",
       "    <tr>\n",
       "      <th>QNAME</th>\n",
       "      <th></th>\n",
       "      <th></th>\n",
       "      <th></th>\n",
       "      <th></th>\n",
       "      <th></th>\n",
       "      <th></th>\n",
       "      <th></th>\n",
       "      <th></th>\n",
       "      <th></th>\n",
       "      <th></th>\n",
       "    </tr>\n",
       "  </thead>\n",
       "  <tbody>\n",
       "    <tr>\n",
       "      <th>HWI-1KL149:87:HA58EADXX:1:1101:1531:2163</th>\n",
       "      <td>163</td>\n",
       "      <td>SSV9K2-CMV-GFP-HygroTK-bGHpA</td>\n",
       "      <td>4862</td>\n",
       "      <td>60</td>\n",
       "      <td>101M</td>\n",
       "      <td>=</td>\n",
       "      <td>4950</td>\n",
       "      <td>189</td>\n",
       "      <td>CGCCCTCCTGTGCTACCCGGCCGCGCGGTACCTTATGGGCAGCATG...</td>\n",
       "      <td>CCCFFFFFGHHHHJJJJJJJJJJJJJJJGIJJJJJJHHHHHFFFEE...</td>\n",
       "    </tr>\n",
       "    <tr>\n",
       "      <th>HWI-1KL149:87:HA58EADXX:1:1101:1752:2238</th>\n",
       "      <td>163</td>\n",
       "      <td>SSV9K2-CMV-GFP-HygroTK-bGHpA</td>\n",
       "      <td>2809</td>\n",
       "      <td>60</td>\n",
       "      <td>101M</td>\n",
       "      <td>=</td>\n",
       "      <td>3032</td>\n",
       "      <td>324</td>\n",
       "      <td>CTATAGGGAGACCACAACGGTTTCCCTCTAGCGGGATCAATTCCGC...</td>\n",
       "      <td>CCCFFFFFHHHHHJJIJJJJIIJJJJJJJJJJJJJHJJIJJJIIIJ...</td>\n",
       "    </tr>\n",
       "    <tr>\n",
       "      <th>HWI-1KL149:87:HA58EADXX:1:1101:2133:2244</th>\n",
       "      <td>163</td>\n",
       "      <td>SSV9K2-CMV-GFP-HygroTK-bGHpA</td>\n",
       "      <td>4828</td>\n",
       "      <td>60</td>\n",
       "      <td>101M</td>\n",
       "      <td>=</td>\n",
       "      <td>4925</td>\n",
       "      <td>198</td>\n",
       "      <td>CCCTCACCCTAATCTTCGACCGCCATCCCATCGCCGCCCTCCTGTG...</td>\n",
       "      <td>CCCFFFFFHHHHHJJJJJJJJJJJJJJJJJJJJJJJJJJJHHHHHF...</td>\n",
       "    </tr>\n",
       "    <tr>\n",
       "      <th>HWI-1KL149:87:HA58EADXX:1:1101:2645:2113</th>\n",
       "      <td>163</td>\n",
       "      <td>SSV9K2-CMV-GFP-HygroTK-bGHpA</td>\n",
       "      <td>5493</td>\n",
       "      <td>60</td>\n",
       "      <td>101M</td>\n",
       "      <td>=</td>\n",
       "      <td>5559</td>\n",
       "      <td>167</td>\n",
       "      <td>AAATCGATGGATCCACTAGTTCTAGAGGGCCCTATTCTATAGTGTC...</td>\n",
       "      <td>CCCFFFFFHHHHHJJJJJJIIJJJJJJJJJJJJIJJJJIJJJHGII...</td>\n",
       "    </tr>\n",
       "    <tr>\n",
       "      <th>HWI-1KL149:87:HA58EADXX:1:1101:2485:2160</th>\n",
       "      <td>163</td>\n",
       "      <td>SSV9K2-CMV-GFP-HygroTK-bGHpA</td>\n",
       "      <td>3756</td>\n",
       "      <td>60</td>\n",
       "      <td>101M</td>\n",
       "      <td>=</td>\n",
       "      <td>3829</td>\n",
       "      <td>174</td>\n",
       "      <td>CCGGTCGCGGAGGCCATGGATGCGATCGCTGCGGCCGATCTTAGCC...</td>\n",
       "      <td>CCCFFFFFHHHHHJJJJJJJJJJJJJJJJJJJJHHFDDDDDDEDDD...</td>\n",
       "    </tr>\n",
       "  </tbody>\n",
       "</table>\n",
       "</div>"
      ],
      "text/plain": [
       "                                          FLAG                         RNAME  \\\n",
       "QNAME                                                                          \n",
       "HWI-1KL149:87:HA58EADXX:1:1101:1531:2163   163  SSV9K2-CMV-GFP-HygroTK-bGHpA   \n",
       "HWI-1KL149:87:HA58EADXX:1:1101:1752:2238   163  SSV9K2-CMV-GFP-HygroTK-bGHpA   \n",
       "HWI-1KL149:87:HA58EADXX:1:1101:2133:2244   163  SSV9K2-CMV-GFP-HygroTK-bGHpA   \n",
       "HWI-1KL149:87:HA58EADXX:1:1101:2645:2113   163  SSV9K2-CMV-GFP-HygroTK-bGHpA   \n",
       "HWI-1KL149:87:HA58EADXX:1:1101:2485:2160   163  SSV9K2-CMV-GFP-HygroTK-bGHpA   \n",
       "\n",
       "                                           POS  MAPQ CIGAR RNEXT  PNEXT  TLEN  \\\n",
       "QNAME                                                                           \n",
       "HWI-1KL149:87:HA58EADXX:1:1101:1531:2163  4862    60  101M     =   4950   189   \n",
       "HWI-1KL149:87:HA58EADXX:1:1101:1752:2238  2809    60  101M     =   3032   324   \n",
       "HWI-1KL149:87:HA58EADXX:1:1101:2133:2244  4828    60  101M     =   4925   198   \n",
       "HWI-1KL149:87:HA58EADXX:1:1101:2645:2113  5493    60  101M     =   5559   167   \n",
       "HWI-1KL149:87:HA58EADXX:1:1101:2485:2160  3756    60  101M     =   3829   174   \n",
       "\n",
       "                                                                                        SEQ  \\\n",
       "QNAME                                                                                         \n",
       "HWI-1KL149:87:HA58EADXX:1:1101:1531:2163  CGCCCTCCTGTGCTACCCGGCCGCGCGGTACCTTATGGGCAGCATG...   \n",
       "HWI-1KL149:87:HA58EADXX:1:1101:1752:2238  CTATAGGGAGACCACAACGGTTTCCCTCTAGCGGGATCAATTCCGC...   \n",
       "HWI-1KL149:87:HA58EADXX:1:1101:2133:2244  CCCTCACCCTAATCTTCGACCGCCATCCCATCGCCGCCCTCCTGTG...   \n",
       "HWI-1KL149:87:HA58EADXX:1:1101:2645:2113  AAATCGATGGATCCACTAGTTCTAGAGGGCCCTATTCTATAGTGTC...   \n",
       "HWI-1KL149:87:HA58EADXX:1:1101:2485:2160  CCGGTCGCGGAGGCCATGGATGCGATCGCTGCGGCCGATCTTAGCC...   \n",
       "\n",
       "                                                                                       QUAL  \n",
       "QNAME                                                                                        \n",
       "HWI-1KL149:87:HA58EADXX:1:1101:1531:2163  CCCFFFFFGHHHHJJJJJJJJJJJJJJJGIJJJJJJHHHHHFFFEE...  \n",
       "HWI-1KL149:87:HA58EADXX:1:1101:1752:2238  CCCFFFFFHHHHHJJIJJJJIIJJJJJJJJJJJJJHJJIJJJIIIJ...  \n",
       "HWI-1KL149:87:HA58EADXX:1:1101:2133:2244  CCCFFFFFHHHHHJJJJJJJJJJJJJJJJJJJJJJJJJJJHHHHHF...  \n",
       "HWI-1KL149:87:HA58EADXX:1:1101:2645:2113  CCCFFFFFHHHHHJJJJJJIIJJJJJJJJJJJJIJJJJIJJJHGII...  \n",
       "HWI-1KL149:87:HA58EADXX:1:1101:2485:2160  CCCFFFFFHHHHHJJJJJJJJJJJJJJJJJJJJHHFDDDDDDEDDD...  "
      ]
     },
     "execution_count": 215,
     "metadata": {},
     "output_type": "execute_result"
    }
   ],
   "source": [
    "df[df.FLAG == 163]"
   ]
  },
  {
   "cell_type": "code",
   "execution_count": 211,
   "metadata": {
    "collapsed": true
   },
   "outputs": [
    {
     "data": {
      "text/html": [
       "<div>\n",
       "<table border=\"1\" class=\"dataframe\">\n",
       "  <thead>\n",
       "    <tr style=\"text-align: right;\">\n",
       "      <th></th>\n",
       "      <th>FLAG</th>\n",
       "      <th>RNAME</th>\n",
       "      <th>POS</th>\n",
       "      <th>MAPQ</th>\n",
       "      <th>CIGAR</th>\n",
       "      <th>RNEXT</th>\n",
       "      <th>PNEXT</th>\n",
       "      <th>TLEN</th>\n",
       "      <th>SEQ</th>\n",
       "      <th>QUAL</th>\n",
       "    </tr>\n",
       "    <tr>\n",
       "      <th>QNAME</th>\n",
       "      <th></th>\n",
       "      <th></th>\n",
       "      <th></th>\n",
       "      <th></th>\n",
       "      <th></th>\n",
       "      <th></th>\n",
       "      <th></th>\n",
       "      <th></th>\n",
       "      <th></th>\n",
       "      <th></th>\n",
       "    </tr>\n",
       "  </thead>\n",
       "  <tbody>\n",
       "    <tr>\n",
       "      <th>HWI-1KL149:87:HA58EADXX:1:1101:2031:2119</th>\n",
       "      <td>99</td>\n",
       "      <td>SSV9K2-CMV-GFP-HygroTK-bGHpA</td>\n",
       "      <td>1392</td>\n",
       "      <td>60</td>\n",
       "      <td>101M</td>\n",
       "      <td>=</td>\n",
       "      <td>1503</td>\n",
       "      <td>212</td>\n",
       "      <td>NCATTGATTATTGACTAGTTATTAATAGTAATCAATTACGGGGTCA...</td>\n",
       "      <td>#1=DDFFFHHHHHJJJJJJJJJJJJIJJIJJJJJJJJJJJJJJGHI...</td>\n",
       "    </tr>\n",
       "    <tr>\n",
       "      <th>HWI-1KL149:87:HA58EADXX:1:1101:2813:2174</th>\n",
       "      <td>99</td>\n",
       "      <td>SSV9K2-CMV-GFP-HygroTK-bGHpA</td>\n",
       "      <td>5279</td>\n",
       "      <td>60</td>\n",
       "      <td>101M</td>\n",
       "      <td>=</td>\n",
       "      <td>5457</td>\n",
       "      <td>279</td>\n",
       "      <td>CGTGTTTGCCTGGGCCTTGGACGTCTTGGCCAAACGCCTCCGTTCC...</td>\n",
       "      <td>CCCFFFFFHHHHGIJJJJJJJJJJJJJJJJJJJJJJJJJJJJJJJJ...</td>\n",
       "    </tr>\n",
       "    <tr>\n",
       "      <th>HWI-1KL149:87:HA58EADXX:1:1101:2953:2177</th>\n",
       "      <td>147</td>\n",
       "      <td>SSV9K2-CMV-GFP-HygroTK-bGHpA</td>\n",
       "      <td>3530</td>\n",
       "      <td>60</td>\n",
       "      <td>101M</td>\n",
       "      <td>=</td>\n",
       "      <td>3440</td>\n",
       "      <td>-191</td>\n",
       "      <td>CTTCGATGTAGGAGGGCGTGGATATGTCCTGCGGGTAAATAGCTGC...</td>\n",
       "      <td>DDDDDDDDDDDDDDDDDDDEDEDDCDDDDDDDDDEEEDDDDDDDDD...</td>\n",
       "    </tr>\n",
       "    <tr>\n",
       "      <th>HWI-1KL149:87:HA58EADXX:1:1101:2854:2200</th>\n",
       "      <td>99</td>\n",
       "      <td>SSV9K2-CMV-GFP-HygroTK-bGHpA</td>\n",
       "      <td>5128</td>\n",
       "      <td>60</td>\n",
       "      <td>101M</td>\n",
       "      <td>=</td>\n",
       "      <td>5206</td>\n",
       "      <td>179</td>\n",
       "      <td>GGGAGGACTGGGGACAGCTTTCGGGGACGGCCGTGCCGCCCCAGGG...</td>\n",
       "      <td>CCCFFFFFHHHHHIJIJJJJJJJJJJJJJJJJJJJHHHFDDDDDDD...</td>\n",
       "    </tr>\n",
       "  </tbody>\n",
       "</table>\n",
       "</div>"
      ],
      "text/plain": [
       "                                          FLAG                         RNAME  \\\n",
       "QNAME                                                                          \n",
       "HWI-1KL149:87:HA58EADXX:1:1101:2031:2119    99  SSV9K2-CMV-GFP-HygroTK-bGHpA   \n",
       "HWI-1KL149:87:HA58EADXX:1:1101:2813:2174    99  SSV9K2-CMV-GFP-HygroTK-bGHpA   \n",
       "HWI-1KL149:87:HA58EADXX:1:1101:2953:2177   147  SSV9K2-CMV-GFP-HygroTK-bGHpA   \n",
       "HWI-1KL149:87:HA58EADXX:1:1101:2854:2200    99  SSV9K2-CMV-GFP-HygroTK-bGHpA   \n",
       "\n",
       "                                           POS  MAPQ CIGAR RNEXT  PNEXT  TLEN  \\\n",
       "QNAME                                                                           \n",
       "HWI-1KL149:87:HA58EADXX:1:1101:2031:2119  1392    60  101M     =   1503   212   \n",
       "HWI-1KL149:87:HA58EADXX:1:1101:2813:2174  5279    60  101M     =   5457   279   \n",
       "HWI-1KL149:87:HA58EADXX:1:1101:2953:2177  3530    60  101M     =   3440  -191   \n",
       "HWI-1KL149:87:HA58EADXX:1:1101:2854:2200  5128    60  101M     =   5206   179   \n",
       "\n",
       "                                                                                        SEQ  \\\n",
       "QNAME                                                                                         \n",
       "HWI-1KL149:87:HA58EADXX:1:1101:2031:2119  NCATTGATTATTGACTAGTTATTAATAGTAATCAATTACGGGGTCA...   \n",
       "HWI-1KL149:87:HA58EADXX:1:1101:2813:2174  CGTGTTTGCCTGGGCCTTGGACGTCTTGGCCAAACGCCTCCGTTCC...   \n",
       "HWI-1KL149:87:HA58EADXX:1:1101:2953:2177  CTTCGATGTAGGAGGGCGTGGATATGTCCTGCGGGTAAATAGCTGC...   \n",
       "HWI-1KL149:87:HA58EADXX:1:1101:2854:2200  GGGAGGACTGGGGACAGCTTTCGGGGACGGCCGTGCCGCCCCAGGG...   \n",
       "\n",
       "                                                                                       QUAL  \n",
       "QNAME                                                                                        \n",
       "HWI-1KL149:87:HA58EADXX:1:1101:2031:2119  #1=DDFFFHHHHHJJJJJJJJJJJJIJJIJJJJJJJJJJJJJJGHI...  \n",
       "HWI-1KL149:87:HA58EADXX:1:1101:2813:2174  CCCFFFFFHHHHGIJJJJJJJJJJJJJJJJJJJJJJJJJJJJJJJJ...  \n",
       "HWI-1KL149:87:HA58EADXX:1:1101:2953:2177  DDDDDDDDDDDDDDDDDDDEDEDDCDDDDDDDDDEEEDDDDDDDDD...  \n",
       "HWI-1KL149:87:HA58EADXX:1:1101:2854:2200  CCCFFFFFHHHHHIJIJJJJJJJJJJJJJJJJJJJHHHFDDDDDDD...  "
      ]
     },
     "execution_count": 211,
     "metadata": {},
     "output_type": "execute_result"
    }
   ],
   "source": [
    "df[df.FLAG.isin([99,147])]"
   ]
  },
  {
   "cell_type": "code",
   "execution_count": 212,
   "metadata": {
    "collapsed": true
   },
   "outputs": [
    {
     "data": {
      "text/html": [
       "<div>\n",
       "<table border=\"1\" class=\"dataframe\">\n",
       "  <thead>\n",
       "    <tr style=\"text-align: right;\">\n",
       "      <th></th>\n",
       "      <th>FLAG</th>\n",
       "      <th>RNAME</th>\n",
       "      <th>POS</th>\n",
       "      <th>MAPQ</th>\n",
       "      <th>CIGAR</th>\n",
       "      <th>RNEXT</th>\n",
       "      <th>PNEXT</th>\n",
       "      <th>TLEN</th>\n",
       "      <th>SEQ</th>\n",
       "      <th>QUAL</th>\n",
       "    </tr>\n",
       "    <tr>\n",
       "      <th>QNAME</th>\n",
       "      <th></th>\n",
       "      <th></th>\n",
       "      <th></th>\n",
       "      <th></th>\n",
       "      <th></th>\n",
       "      <th></th>\n",
       "      <th></th>\n",
       "      <th></th>\n",
       "      <th></th>\n",
       "      <th></th>\n",
       "    </tr>\n",
       "  </thead>\n",
       "  <tbody>\n",
       "    <tr>\n",
       "      <th>HWI-1KL149:87:HA58EADXX:1:1101:1744:2169</th>\n",
       "      <td>141</td>\n",
       "      <td>*</td>\n",
       "      <td>0</td>\n",
       "      <td>0</td>\n",
       "      <td>*</td>\n",
       "      <td>*</td>\n",
       "      <td>0</td>\n",
       "      <td>0</td>\n",
       "      <td>TCGTAGATTTCTCTGGCGATTGAAGGGCTAAATTCTTCAACGCTAA...</td>\n",
       "      <td>CCCFFFFFHHHHHJJJJJJJJJJJJJJJJJJJIJJJJJJJJJJJJJ...</td>\n",
       "    </tr>\n",
       "    <tr>\n",
       "      <th>HWI-1KL149:87:HA58EADXX:1:1101:2228:2222</th>\n",
       "      <td>141</td>\n",
       "      <td>*</td>\n",
       "      <td>0</td>\n",
       "      <td>0</td>\n",
       "      <td>*</td>\n",
       "      <td>*</td>\n",
       "      <td>0</td>\n",
       "      <td>0</td>\n",
       "      <td>ACAGTTTGATGAGTATAGAAATGGATCCACTCGTTATTCTCGGACG...</td>\n",
       "      <td>CCCFFFFFHHHHHHIIJJJJJJJJJJJJJJJJJJJJJJJJJJJJJJ...</td>\n",
       "    </tr>\n",
       "  </tbody>\n",
       "</table>\n",
       "</div>"
      ],
      "text/plain": [
       "                                          FLAG RNAME  POS  MAPQ CIGAR RNEXT  \\\n",
       "QNAME                                                                         \n",
       "HWI-1KL149:87:HA58EADXX:1:1101:1744:2169   141     *    0     0     *     *   \n",
       "HWI-1KL149:87:HA58EADXX:1:1101:2228:2222   141     *    0     0     *     *   \n",
       "\n",
       "                                          PNEXT  TLEN  \\\n",
       "QNAME                                                   \n",
       "HWI-1KL149:87:HA58EADXX:1:1101:1744:2169      0     0   \n",
       "HWI-1KL149:87:HA58EADXX:1:1101:2228:2222      0     0   \n",
       "\n",
       "                                                                                        SEQ  \\\n",
       "QNAME                                                                                         \n",
       "HWI-1KL149:87:HA58EADXX:1:1101:1744:2169  TCGTAGATTTCTCTGGCGATTGAAGGGCTAAATTCTTCAACGCTAA...   \n",
       "HWI-1KL149:87:HA58EADXX:1:1101:2228:2222  ACAGTTTGATGAGTATAGAAATGGATCCACTCGTTATTCTCGGACG...   \n",
       "\n",
       "                                                                                       QUAL  \n",
       "QNAME                                                                                        \n",
       "HWI-1KL149:87:HA58EADXX:1:1101:1744:2169  CCCFFFFFHHHHHJJJJJJJJJJJJJJJJJJJIJJJJJJJJJJJJJ...  \n",
       "HWI-1KL149:87:HA58EADXX:1:1101:2228:2222  CCCFFFFFHHHHHHIIJJJJJJJJJJJJJJJJJJJJJJJJJJJJJJ...  "
      ]
     },
     "execution_count": 212,
     "metadata": {},
     "output_type": "execute_result"
    }
   ],
   "source": [
    "df.query('FLAG == 141')"
   ]
  },
  {
   "cell_type": "markdown",
   "metadata": {},
   "source": [
    "***With a multiple conditions***"
   ]
  },
  {
   "cell_type": "code",
   "execution_count": 216,
   "metadata": {
    "collapsed": true
   },
   "outputs": [
    {
     "data": {
      "text/html": [
       "<div>\n",
       "<table border=\"1\" class=\"dataframe\">\n",
       "  <thead>\n",
       "    <tr style=\"text-align: right;\">\n",
       "      <th></th>\n",
       "      <th>FLAG</th>\n",
       "      <th>RNAME</th>\n",
       "      <th>POS</th>\n",
       "      <th>MAPQ</th>\n",
       "      <th>CIGAR</th>\n",
       "      <th>RNEXT</th>\n",
       "      <th>PNEXT</th>\n",
       "      <th>TLEN</th>\n",
       "      <th>SEQ</th>\n",
       "      <th>QUAL</th>\n",
       "    </tr>\n",
       "    <tr>\n",
       "      <th>QNAME</th>\n",
       "      <th></th>\n",
       "      <th></th>\n",
       "      <th></th>\n",
       "      <th></th>\n",
       "      <th></th>\n",
       "      <th></th>\n",
       "      <th></th>\n",
       "      <th></th>\n",
       "      <th></th>\n",
       "      <th></th>\n",
       "    </tr>\n",
       "  </thead>\n",
       "  <tbody>\n",
       "    <tr>\n",
       "      <th>HWI-1KL149:87:HA58EADXX:1:1101:1531:2163</th>\n",
       "      <td>163</td>\n",
       "      <td>SSV9K2-CMV-GFP-HygroTK-bGHpA</td>\n",
       "      <td>4862</td>\n",
       "      <td>60</td>\n",
       "      <td>101M</td>\n",
       "      <td>=</td>\n",
       "      <td>4950</td>\n",
       "      <td>189</td>\n",
       "      <td>CGCCCTCCTGTGCTACCCGGCCGCGCGGTACCTTATGGGCAGCATG...</td>\n",
       "      <td>CCCFFFFFGHHHHJJJJJJJJJJJJJJJGIJJJJJJHHHHHFFFEE...</td>\n",
       "    </tr>\n",
       "    <tr>\n",
       "      <th>HWI-1KL149:87:HA58EADXX:1:1101:1752:2238</th>\n",
       "      <td>163</td>\n",
       "      <td>SSV9K2-CMV-GFP-HygroTK-bGHpA</td>\n",
       "      <td>2809</td>\n",
       "      <td>60</td>\n",
       "      <td>101M</td>\n",
       "      <td>=</td>\n",
       "      <td>3032</td>\n",
       "      <td>324</td>\n",
       "      <td>CTATAGGGAGACCACAACGGTTTCCCTCTAGCGGGATCAATTCCGC...</td>\n",
       "      <td>CCCFFFFFHHHHHJJIJJJJIIJJJJJJJJJJJJJHJJIJJJIIIJ...</td>\n",
       "    </tr>\n",
       "    <tr>\n",
       "      <th>HWI-1KL149:87:HA58EADXX:1:1101:2133:2244</th>\n",
       "      <td>163</td>\n",
       "      <td>SSV9K2-CMV-GFP-HygroTK-bGHpA</td>\n",
       "      <td>4828</td>\n",
       "      <td>60</td>\n",
       "      <td>101M</td>\n",
       "      <td>=</td>\n",
       "      <td>4925</td>\n",
       "      <td>198</td>\n",
       "      <td>CCCTCACCCTAATCTTCGACCGCCATCCCATCGCCGCCCTCCTGTG...</td>\n",
       "      <td>CCCFFFFFHHHHHJJJJJJJJJJJJJJJJJJJJJJJJJJJHHHHHF...</td>\n",
       "    </tr>\n",
       "  </tbody>\n",
       "</table>\n",
       "</div>"
      ],
      "text/plain": [
       "                                          FLAG                         RNAME  \\\n",
       "QNAME                                                                          \n",
       "HWI-1KL149:87:HA58EADXX:1:1101:1531:2163   163  SSV9K2-CMV-GFP-HygroTK-bGHpA   \n",
       "HWI-1KL149:87:HA58EADXX:1:1101:1752:2238   163  SSV9K2-CMV-GFP-HygroTK-bGHpA   \n",
       "HWI-1KL149:87:HA58EADXX:1:1101:2133:2244   163  SSV9K2-CMV-GFP-HygroTK-bGHpA   \n",
       "\n",
       "                                           POS  MAPQ CIGAR RNEXT  PNEXT  TLEN  \\\n",
       "QNAME                                                                           \n",
       "HWI-1KL149:87:HA58EADXX:1:1101:1531:2163  4862    60  101M     =   4950   189   \n",
       "HWI-1KL149:87:HA58EADXX:1:1101:1752:2238  2809    60  101M     =   3032   324   \n",
       "HWI-1KL149:87:HA58EADXX:1:1101:2133:2244  4828    60  101M     =   4925   198   \n",
       "\n",
       "                                                                                        SEQ  \\\n",
       "QNAME                                                                                         \n",
       "HWI-1KL149:87:HA58EADXX:1:1101:1531:2163  CGCCCTCCTGTGCTACCCGGCCGCGCGGTACCTTATGGGCAGCATG...   \n",
       "HWI-1KL149:87:HA58EADXX:1:1101:1752:2238  CTATAGGGAGACCACAACGGTTTCCCTCTAGCGGGATCAATTCCGC...   \n",
       "HWI-1KL149:87:HA58EADXX:1:1101:2133:2244  CCCTCACCCTAATCTTCGACCGCCATCCCATCGCCGCCCTCCTGTG...   \n",
       "\n",
       "                                                                                       QUAL  \n",
       "QNAME                                                                                        \n",
       "HWI-1KL149:87:HA58EADXX:1:1101:1531:2163  CCCFFFFFGHHHHJJJJJJJJJJJJJJJGIJJJJJJHHHHHFFFEE...  \n",
       "HWI-1KL149:87:HA58EADXX:1:1101:1752:2238  CCCFFFFFHHHHHJJIJJJJIIJJJJJJJJJJJJJHJJIJJJIIIJ...  \n",
       "HWI-1KL149:87:HA58EADXX:1:1101:2133:2244  CCCFFFFFHHHHHJJJJJJJJJJJJJJJJJJJJJJJJJJJHHHHHF...  "
      ]
     },
     "execution_count": 216,
     "metadata": {},
     "output_type": "execute_result"
    }
   ],
   "source": [
    "df[(df.FLAG == 163) & (df.TLEN > 180)]"
   ]
  },
  {
   "cell_type": "code",
   "execution_count": 218,
   "metadata": {
    "collapsed": true,
    "run_control": {
     "frozen": false,
     "read_only": false
    }
   },
   "outputs": [
    {
     "data": {
      "text/html": [
       "<div>\n",
       "<table border=\"1\" class=\"dataframe\">\n",
       "  <thead>\n",
       "    <tr style=\"text-align: right;\">\n",
       "      <th></th>\n",
       "      <th>FLAG</th>\n",
       "      <th>RNAME</th>\n",
       "      <th>POS</th>\n",
       "      <th>MAPQ</th>\n",
       "      <th>CIGAR</th>\n",
       "      <th>RNEXT</th>\n",
       "      <th>PNEXT</th>\n",
       "      <th>TLEN</th>\n",
       "      <th>SEQ</th>\n",
       "      <th>QUAL</th>\n",
       "    </tr>\n",
       "    <tr>\n",
       "      <th>QNAME</th>\n",
       "      <th></th>\n",
       "      <th></th>\n",
       "      <th></th>\n",
       "      <th></th>\n",
       "      <th></th>\n",
       "      <th></th>\n",
       "      <th></th>\n",
       "      <th></th>\n",
       "      <th></th>\n",
       "      <th></th>\n",
       "    </tr>\n",
       "  </thead>\n",
       "  <tbody>\n",
       "    <tr>\n",
       "      <th>HWI-1KL149:87:HA58EADXX:1:1101:2031:2119</th>\n",
       "      <td>99</td>\n",
       "      <td>SSV9K2-CMV-GFP-HygroTK-bGHpA</td>\n",
       "      <td>1392</td>\n",
       "      <td>60</td>\n",
       "      <td>101M</td>\n",
       "      <td>=</td>\n",
       "      <td>1503</td>\n",
       "      <td>212</td>\n",
       "      <td>NCATTGATTATTGACTAGTTATTAATAGTAATCAATTACGGGGTCA...</td>\n",
       "      <td>#1=DDFFFHHHHHJJJJJJJJJJJJIJJIJJJJJJJJJJJJJJGHI...</td>\n",
       "    </tr>\n",
       "    <tr>\n",
       "      <th>HWI-1KL149:87:HA58EADXX:1:1101:2813:2174</th>\n",
       "      <td>99</td>\n",
       "      <td>SSV9K2-CMV-GFP-HygroTK-bGHpA</td>\n",
       "      <td>5279</td>\n",
       "      <td>60</td>\n",
       "      <td>101M</td>\n",
       "      <td>=</td>\n",
       "      <td>5457</td>\n",
       "      <td>279</td>\n",
       "      <td>CGTGTTTGCCTGGGCCTTGGACGTCTTGGCCAAACGCCTCCGTTCC...</td>\n",
       "      <td>CCCFFFFFHHHHGIJJJJJJJJJJJJJJJJJJJJJJJJJJJJJJJJ...</td>\n",
       "    </tr>\n",
       "  </tbody>\n",
       "</table>\n",
       "</div>"
      ],
      "text/plain": [
       "                                          FLAG                         RNAME  \\\n",
       "QNAME                                                                          \n",
       "HWI-1KL149:87:HA58EADXX:1:1101:2031:2119    99  SSV9K2-CMV-GFP-HygroTK-bGHpA   \n",
       "HWI-1KL149:87:HA58EADXX:1:1101:2813:2174    99  SSV9K2-CMV-GFP-HygroTK-bGHpA   \n",
       "\n",
       "                                           POS  MAPQ CIGAR RNEXT  PNEXT  TLEN  \\\n",
       "QNAME                                                                           \n",
       "HWI-1KL149:87:HA58EADXX:1:1101:2031:2119  1392    60  101M     =   1503   212   \n",
       "HWI-1KL149:87:HA58EADXX:1:1101:2813:2174  5279    60  101M     =   5457   279   \n",
       "\n",
       "                                                                                        SEQ  \\\n",
       "QNAME                                                                                         \n",
       "HWI-1KL149:87:HA58EADXX:1:1101:2031:2119  NCATTGATTATTGACTAGTTATTAATAGTAATCAATTACGGGGTCA...   \n",
       "HWI-1KL149:87:HA58EADXX:1:1101:2813:2174  CGTGTTTGCCTGGGCCTTGGACGTCTTGGCCAAACGCCTCCGTTCC...   \n",
       "\n",
       "                                                                                       QUAL  \n",
       "QNAME                                                                                        \n",
       "HWI-1KL149:87:HA58EADXX:1:1101:2031:2119  #1=DDFFFHHHHHJJJJJJJJJJJJIJJIJJJJJJJJJJJJJJGHI...  \n",
       "HWI-1KL149:87:HA58EADXX:1:1101:2813:2174  CCCFFFFFHHHHGIJJJJJJJJJJJJJJJJJJJJJJJJJJJJJJJJ...  "
      ]
     },
     "execution_count": 218,
     "metadata": {},
     "output_type": "execute_result"
    }
   ],
   "source": [
    "df.query('FLAG == 99 and TLEN > 200')"
   ]
  },
  {
   "cell_type": "markdown",
   "metadata": {},
   "source": [
    "### Iterate over a dataframe"
   ]
  },
  {
   "cell_type": "markdown",
   "metadata": {},
   "source": [
    "***Iterate row by row with \"iterrows\"***"
   ]
  },
  {
   "cell_type": "code",
   "execution_count": 226,
   "metadata": {
    "collapsed": false
   },
   "outputs": [
    {
     "name": "stdout",
     "output_type": "stream",
     "text": [
      "FLAG                                        2115\n",
      "RNAME               SSV9K2-CMV-GFP-HygroTK-bGHpA\n",
      "POS                                         5466\n",
      "MAPQ                                          60\n",
      "CIGAR                                     39M62H\n",
      "RNEXT                                          =\n",
      "PNEXT                                       4511\n",
      "TLEN                                        -956\n",
      "SEQ      GCCCGGGAGATGGGGGAGGCTAACTGAAAATCGATGGAT\n",
      "QUAL     CCCFFFFFHHHHHJJJJJJJJJJJJJJJJJJJJHJJJJJ\n",
      "Name: HWI-1KL149:87:HA58EADXX:1:1101:1813:2228, dtype: object\n"
     ]
    }
   ],
   "source": [
    "for index_name, row_values in df.iterrows():\n",
    "    if row_values.CIGAR != \"101M\" and row_values.RNAME!=\"*\":\n",
    "        print (row_values)"
   ]
  },
  {
   "cell_type": "markdown",
   "metadata": {},
   "source": [
    "***Iterate by group of value with \"groupby\"***"
   ]
  },
  {
   "cell_type": "code",
   "execution_count": 242,
   "metadata": {
    "collapsed": false,
    "scrolled": true
   },
   "outputs": [
    {
     "name": "stdout",
     "output_type": "stream",
     "text": [
      "\n",
      "Group with flag 83\n"
     ]
    },
    {
     "data": {
      "text/html": [
       "<div>\n",
       "<table border=\"1\" class=\"dataframe\">\n",
       "  <thead>\n",
       "    <tr style=\"text-align: right;\">\n",
       "      <th></th>\n",
       "      <th>FLAG</th>\n",
       "      <th>RNAME</th>\n",
       "      <th>POS</th>\n",
       "      <th>MAPQ</th>\n",
       "      <th>CIGAR</th>\n",
       "      <th>RNEXT</th>\n",
       "      <th>PNEXT</th>\n",
       "      <th>TLEN</th>\n",
       "      <th>SEQ</th>\n",
       "      <th>QUAL</th>\n",
       "    </tr>\n",
       "    <tr>\n",
       "      <th>QNAME</th>\n",
       "      <th></th>\n",
       "      <th></th>\n",
       "      <th></th>\n",
       "      <th></th>\n",
       "      <th></th>\n",
       "      <th></th>\n",
       "      <th></th>\n",
       "      <th></th>\n",
       "      <th></th>\n",
       "      <th></th>\n",
       "    </tr>\n",
       "  </thead>\n",
       "  <tbody>\n",
       "    <tr>\n",
       "      <th>HWI-1KL149:87:HA58EADXX:1:1101:1606:2189</th>\n",
       "      <td>83</td>\n",
       "      <td>SSV9K2-CMV-GFP-HygroTK-bGHpA</td>\n",
       "      <td>4285</td>\n",
       "      <td>60</td>\n",
       "      <td>101M</td>\n",
       "      <td>=</td>\n",
       "      <td>4104</td>\n",
       "      <td>-282</td>\n",
       "      <td>AGGGTCGATGCGACGCAATCGTCCGATCCGGAGCCGGGACTGTCGG...</td>\n",
       "      <td>DDDDDDDDDDDDDDDDDDDDDDDDDDDDDDDDDDDDDDDDDDDDDD...</td>\n",
       "    </tr>\n",
       "    <tr>\n",
       "      <th>HWI-1KL149:87:HA58EADXX:1:1101:1752:2238</th>\n",
       "      <td>83</td>\n",
       "      <td>SSV9K2-CMV-GFP-HygroTK-bGHpA</td>\n",
       "      <td>3032</td>\n",
       "      <td>60</td>\n",
       "      <td>101M</td>\n",
       "      <td>=</td>\n",
       "      <td>2809</td>\n",
       "      <td>-324</td>\n",
       "      <td>CTGTTGAATGTCGTGAAGGAAGCAGTTCCTCTGGAAGCTTCTTGAA...</td>\n",
       "      <td>DDDEEDDDDDDDDDDDDDDDDDDDDDDDDDDDDDDDDDDDDDEDDD...</td>\n",
       "    </tr>\n",
       "    <tr>\n",
       "      <th>HWI-1KL149:87:HA58EADXX:1:1101:2344:2177</th>\n",
       "      <td>83</td>\n",
       "      <td>SSV9K2-CMV-GFP-HygroTK-bGHpA</td>\n",
       "      <td>4321</td>\n",
       "      <td>60</td>\n",
       "      <td>101M</td>\n",
       "      <td>=</td>\n",
       "      <td>4198</td>\n",
       "      <td>-224</td>\n",
       "      <td>GGACTGTCGGGCGTACACAAATCGCCCGCAGAAGCGCGGCCGTCTG...</td>\n",
       "      <td>DDDDDDDDDDDDEDDDEDDDDDDDDDDDDDDDDDDDDDDDDDDDDD...</td>\n",
       "    </tr>\n",
       "    <tr>\n",
       "      <th>HWI-1KL149:87:HA58EADXX:1:1101:2647:2140</th>\n",
       "      <td>83</td>\n",
       "      <td>SSV9K2-CMV-GFP-HygroTK-bGHpA</td>\n",
       "      <td>4552</td>\n",
       "      <td>60</td>\n",
       "      <td>101M</td>\n",
       "      <td>=</td>\n",
       "      <td>4437</td>\n",
       "      <td>-216</td>\n",
       "      <td>CCACCACGCAACTGCTGGTGGCCCTGGGTTCGCGCGACGATATCGT...</td>\n",
       "      <td>@&lt;2DB&lt;BC&gt;CABCDB?DB@B?DBA?DDDBB&gt;@&gt;;8?98@==?;;C=...</td>\n",
       "    </tr>\n",
       "  </tbody>\n",
       "</table>\n",
       "</div>"
      ],
      "text/plain": [
       "                                          FLAG                         RNAME  \\\n",
       "QNAME                                                                          \n",
       "HWI-1KL149:87:HA58EADXX:1:1101:1606:2189    83  SSV9K2-CMV-GFP-HygroTK-bGHpA   \n",
       "HWI-1KL149:87:HA58EADXX:1:1101:1752:2238    83  SSV9K2-CMV-GFP-HygroTK-bGHpA   \n",
       "HWI-1KL149:87:HA58EADXX:1:1101:2344:2177    83  SSV9K2-CMV-GFP-HygroTK-bGHpA   \n",
       "HWI-1KL149:87:HA58EADXX:1:1101:2647:2140    83  SSV9K2-CMV-GFP-HygroTK-bGHpA   \n",
       "\n",
       "                                           POS  MAPQ CIGAR RNEXT  PNEXT  TLEN  \\\n",
       "QNAME                                                                           \n",
       "HWI-1KL149:87:HA58EADXX:1:1101:1606:2189  4285    60  101M     =   4104  -282   \n",
       "HWI-1KL149:87:HA58EADXX:1:1101:1752:2238  3032    60  101M     =   2809  -324   \n",
       "HWI-1KL149:87:HA58EADXX:1:1101:2344:2177  4321    60  101M     =   4198  -224   \n",
       "HWI-1KL149:87:HA58EADXX:1:1101:2647:2140  4552    60  101M     =   4437  -216   \n",
       "\n",
       "                                                                                        SEQ  \\\n",
       "QNAME                                                                                         \n",
       "HWI-1KL149:87:HA58EADXX:1:1101:1606:2189  AGGGTCGATGCGACGCAATCGTCCGATCCGGAGCCGGGACTGTCGG...   \n",
       "HWI-1KL149:87:HA58EADXX:1:1101:1752:2238  CTGTTGAATGTCGTGAAGGAAGCAGTTCCTCTGGAAGCTTCTTGAA...   \n",
       "HWI-1KL149:87:HA58EADXX:1:1101:2344:2177  GGACTGTCGGGCGTACACAAATCGCCCGCAGAAGCGCGGCCGTCTG...   \n",
       "HWI-1KL149:87:HA58EADXX:1:1101:2647:2140  CCACCACGCAACTGCTGGTGGCCCTGGGTTCGCGCGACGATATCGT...   \n",
       "\n",
       "                                                                                       QUAL  \n",
       "QNAME                                                                                        \n",
       "HWI-1KL149:87:HA58EADXX:1:1101:1606:2189  DDDDDDDDDDDDDDDDDDDDDDDDDDDDDDDDDDDDDDDDDDDDDD...  \n",
       "HWI-1KL149:87:HA58EADXX:1:1101:1752:2238  DDDEEDDDDDDDDDDDDDDDDDDDDDDDDDDDDDDDDDDDDDEDDD...  \n",
       "HWI-1KL149:87:HA58EADXX:1:1101:2344:2177  DDDDDDDDDDDDEDDDEDDDDDDDDDDDDDDDDDDDDDDDDDDDDD...  \n",
       "HWI-1KL149:87:HA58EADXX:1:1101:2647:2140  @<2DB<BC>CABCDB?DB@B?DBA?DDDBB>@>;8?98@==?;;C=...  "
      ]
     },
     "metadata": {},
     "output_type": "display_data"
    },
    {
     "name": "stdout",
     "output_type": "stream",
     "text": [
      "\n",
      "Group with flag 99\n"
     ]
    },
    {
     "data": {
      "text/html": [
       "<div>\n",
       "<table border=\"1\" class=\"dataframe\">\n",
       "  <thead>\n",
       "    <tr style=\"text-align: right;\">\n",
       "      <th></th>\n",
       "      <th>FLAG</th>\n",
       "      <th>RNAME</th>\n",
       "      <th>POS</th>\n",
       "      <th>MAPQ</th>\n",
       "      <th>CIGAR</th>\n",
       "      <th>RNEXT</th>\n",
       "      <th>PNEXT</th>\n",
       "      <th>TLEN</th>\n",
       "      <th>SEQ</th>\n",
       "      <th>QUAL</th>\n",
       "    </tr>\n",
       "    <tr>\n",
       "      <th>QNAME</th>\n",
       "      <th></th>\n",
       "      <th></th>\n",
       "      <th></th>\n",
       "      <th></th>\n",
       "      <th></th>\n",
       "      <th></th>\n",
       "      <th></th>\n",
       "      <th></th>\n",
       "      <th></th>\n",
       "      <th></th>\n",
       "    </tr>\n",
       "  </thead>\n",
       "  <tbody>\n",
       "    <tr>\n",
       "      <th>HWI-1KL149:87:HA58EADXX:1:1101:2031:2119</th>\n",
       "      <td>99</td>\n",
       "      <td>SSV9K2-CMV-GFP-HygroTK-bGHpA</td>\n",
       "      <td>1392</td>\n",
       "      <td>60</td>\n",
       "      <td>101M</td>\n",
       "      <td>=</td>\n",
       "      <td>1503</td>\n",
       "      <td>212</td>\n",
       "      <td>NCATTGATTATTGACTAGTTATTAATAGTAATCAATTACGGGGTCA...</td>\n",
       "      <td>#1=DDFFFHHHHHJJJJJJJJJJJJIJJIJJJJJJJJJJJJJJGHI...</td>\n",
       "    </tr>\n",
       "    <tr>\n",
       "      <th>HWI-1KL149:87:HA58EADXX:1:1101:2813:2174</th>\n",
       "      <td>99</td>\n",
       "      <td>SSV9K2-CMV-GFP-HygroTK-bGHpA</td>\n",
       "      <td>5279</td>\n",
       "      <td>60</td>\n",
       "      <td>101M</td>\n",
       "      <td>=</td>\n",
       "      <td>5457</td>\n",
       "      <td>279</td>\n",
       "      <td>CGTGTTTGCCTGGGCCTTGGACGTCTTGGCCAAACGCCTCCGTTCC...</td>\n",
       "      <td>CCCFFFFFHHHHGIJJJJJJJJJJJJJJJJJJJJJJJJJJJJJJJJ...</td>\n",
       "    </tr>\n",
       "    <tr>\n",
       "      <th>HWI-1KL149:87:HA58EADXX:1:1101:2854:2200</th>\n",
       "      <td>99</td>\n",
       "      <td>SSV9K2-CMV-GFP-HygroTK-bGHpA</td>\n",
       "      <td>5128</td>\n",
       "      <td>60</td>\n",
       "      <td>101M</td>\n",
       "      <td>=</td>\n",
       "      <td>5206</td>\n",
       "      <td>179</td>\n",
       "      <td>GGGAGGACTGGGGACAGCTTTCGGGGACGGCCGTGCCGCCCCAGGG...</td>\n",
       "      <td>CCCFFFFFHHHHHIJIJJJJJJJJJJJJJJJJJJJHHHFDDDDDDD...</td>\n",
       "    </tr>\n",
       "  </tbody>\n",
       "</table>\n",
       "</div>"
      ],
      "text/plain": [
       "                                          FLAG                         RNAME  \\\n",
       "QNAME                                                                          \n",
       "HWI-1KL149:87:HA58EADXX:1:1101:2031:2119    99  SSV9K2-CMV-GFP-HygroTK-bGHpA   \n",
       "HWI-1KL149:87:HA58EADXX:1:1101:2813:2174    99  SSV9K2-CMV-GFP-HygroTK-bGHpA   \n",
       "HWI-1KL149:87:HA58EADXX:1:1101:2854:2200    99  SSV9K2-CMV-GFP-HygroTK-bGHpA   \n",
       "\n",
       "                                           POS  MAPQ CIGAR RNEXT  PNEXT  TLEN  \\\n",
       "QNAME                                                                           \n",
       "HWI-1KL149:87:HA58EADXX:1:1101:2031:2119  1392    60  101M     =   1503   212   \n",
       "HWI-1KL149:87:HA58EADXX:1:1101:2813:2174  5279    60  101M     =   5457   279   \n",
       "HWI-1KL149:87:HA58EADXX:1:1101:2854:2200  5128    60  101M     =   5206   179   \n",
       "\n",
       "                                                                                        SEQ  \\\n",
       "QNAME                                                                                         \n",
       "HWI-1KL149:87:HA58EADXX:1:1101:2031:2119  NCATTGATTATTGACTAGTTATTAATAGTAATCAATTACGGGGTCA...   \n",
       "HWI-1KL149:87:HA58EADXX:1:1101:2813:2174  CGTGTTTGCCTGGGCCTTGGACGTCTTGGCCAAACGCCTCCGTTCC...   \n",
       "HWI-1KL149:87:HA58EADXX:1:1101:2854:2200  GGGAGGACTGGGGACAGCTTTCGGGGACGGCCGTGCCGCCCCAGGG...   \n",
       "\n",
       "                                                                                       QUAL  \n",
       "QNAME                                                                                        \n",
       "HWI-1KL149:87:HA58EADXX:1:1101:2031:2119  #1=DDFFFHHHHHJJJJJJJJJJJJIJJIJJJJJJJJJJJJJJGHI...  \n",
       "HWI-1KL149:87:HA58EADXX:1:1101:2813:2174  CCCFFFFFHHHHGIJJJJJJJJJJJJJJJJJJJJJJJJJJJJJJJJ...  \n",
       "HWI-1KL149:87:HA58EADXX:1:1101:2854:2200  CCCFFFFFHHHHHIJIJJJJJJJJJJJJJJJJJJJHHHFDDDDDDD...  "
      ]
     },
     "metadata": {},
     "output_type": "display_data"
    },
    {
     "name": "stdout",
     "output_type": "stream",
     "text": [
      "\n",
      "Group with flag 141\n"
     ]
    },
    {
     "data": {
      "text/html": [
       "<div>\n",
       "<table border=\"1\" class=\"dataframe\">\n",
       "  <thead>\n",
       "    <tr style=\"text-align: right;\">\n",
       "      <th></th>\n",
       "      <th>FLAG</th>\n",
       "      <th>RNAME</th>\n",
       "      <th>POS</th>\n",
       "      <th>MAPQ</th>\n",
       "      <th>CIGAR</th>\n",
       "      <th>RNEXT</th>\n",
       "      <th>PNEXT</th>\n",
       "      <th>TLEN</th>\n",
       "      <th>SEQ</th>\n",
       "      <th>QUAL</th>\n",
       "    </tr>\n",
       "    <tr>\n",
       "      <th>QNAME</th>\n",
       "      <th></th>\n",
       "      <th></th>\n",
       "      <th></th>\n",
       "      <th></th>\n",
       "      <th></th>\n",
       "      <th></th>\n",
       "      <th></th>\n",
       "      <th></th>\n",
       "      <th></th>\n",
       "      <th></th>\n",
       "    </tr>\n",
       "  </thead>\n",
       "  <tbody>\n",
       "    <tr>\n",
       "      <th>HWI-1KL149:87:HA58EADXX:1:1101:1744:2169</th>\n",
       "      <td>141</td>\n",
       "      <td>*</td>\n",
       "      <td>0</td>\n",
       "      <td>0</td>\n",
       "      <td>*</td>\n",
       "      <td>*</td>\n",
       "      <td>0</td>\n",
       "      <td>0</td>\n",
       "      <td>TCGTAGATTTCTCTGGCGATTGAAGGGCTAAATTCTTCAACGCTAA...</td>\n",
       "      <td>CCCFFFFFHHHHHJJJJJJJJJJJJJJJJJJJIJJJJJJJJJJJJJ...</td>\n",
       "    </tr>\n",
       "    <tr>\n",
       "      <th>HWI-1KL149:87:HA58EADXX:1:1101:2228:2222</th>\n",
       "      <td>141</td>\n",
       "      <td>*</td>\n",
       "      <td>0</td>\n",
       "      <td>0</td>\n",
       "      <td>*</td>\n",
       "      <td>*</td>\n",
       "      <td>0</td>\n",
       "      <td>0</td>\n",
       "      <td>ACAGTTTGATGAGTATAGAAATGGATCCACTCGTTATTCTCGGACG...</td>\n",
       "      <td>CCCFFFFFHHHHHHIIJJJJJJJJJJJJJJJJJJJJJJJJJJJJJJ...</td>\n",
       "    </tr>\n",
       "  </tbody>\n",
       "</table>\n",
       "</div>"
      ],
      "text/plain": [
       "                                          FLAG RNAME  POS  MAPQ CIGAR RNEXT  \\\n",
       "QNAME                                                                         \n",
       "HWI-1KL149:87:HA58EADXX:1:1101:1744:2169   141     *    0     0     *     *   \n",
       "HWI-1KL149:87:HA58EADXX:1:1101:2228:2222   141     *    0     0     *     *   \n",
       "\n",
       "                                          PNEXT  TLEN  \\\n",
       "QNAME                                                   \n",
       "HWI-1KL149:87:HA58EADXX:1:1101:1744:2169      0     0   \n",
       "HWI-1KL149:87:HA58EADXX:1:1101:2228:2222      0     0   \n",
       "\n",
       "                                                                                        SEQ  \\\n",
       "QNAME                                                                                         \n",
       "HWI-1KL149:87:HA58EADXX:1:1101:1744:2169  TCGTAGATTTCTCTGGCGATTGAAGGGCTAAATTCTTCAACGCTAA...   \n",
       "HWI-1KL149:87:HA58EADXX:1:1101:2228:2222  ACAGTTTGATGAGTATAGAAATGGATCCACTCGTTATTCTCGGACG...   \n",
       "\n",
       "                                                                                       QUAL  \n",
       "QNAME                                                                                        \n",
       "HWI-1KL149:87:HA58EADXX:1:1101:1744:2169  CCCFFFFFHHHHHJJJJJJJJJJJJJJJJJJJIJJJJJJJJJJJJJ...  \n",
       "HWI-1KL149:87:HA58EADXX:1:1101:2228:2222  CCCFFFFFHHHHHHIIJJJJJJJJJJJJJJJJJJJJJJJJJJJJJJ...  "
      ]
     },
     "metadata": {},
     "output_type": "display_data"
    },
    {
     "name": "stdout",
     "output_type": "stream",
     "text": [
      "\n",
      "Group with flag 147\n"
     ]
    },
    {
     "data": {
      "text/html": [
       "<div>\n",
       "<table border=\"1\" class=\"dataframe\">\n",
       "  <thead>\n",
       "    <tr style=\"text-align: right;\">\n",
       "      <th></th>\n",
       "      <th>FLAG</th>\n",
       "      <th>RNAME</th>\n",
       "      <th>POS</th>\n",
       "      <th>MAPQ</th>\n",
       "      <th>CIGAR</th>\n",
       "      <th>RNEXT</th>\n",
       "      <th>PNEXT</th>\n",
       "      <th>TLEN</th>\n",
       "      <th>SEQ</th>\n",
       "      <th>QUAL</th>\n",
       "    </tr>\n",
       "    <tr>\n",
       "      <th>QNAME</th>\n",
       "      <th></th>\n",
       "      <th></th>\n",
       "      <th></th>\n",
       "      <th></th>\n",
       "      <th></th>\n",
       "      <th></th>\n",
       "      <th></th>\n",
       "      <th></th>\n",
       "      <th></th>\n",
       "      <th></th>\n",
       "    </tr>\n",
       "  </thead>\n",
       "  <tbody>\n",
       "    <tr>\n",
       "      <th>HWI-1KL149:87:HA58EADXX:1:1101:2953:2177</th>\n",
       "      <td>147</td>\n",
       "      <td>SSV9K2-CMV-GFP-HygroTK-bGHpA</td>\n",
       "      <td>3530</td>\n",
       "      <td>60</td>\n",
       "      <td>101M</td>\n",
       "      <td>=</td>\n",
       "      <td>3440</td>\n",
       "      <td>-191</td>\n",
       "      <td>CTTCGATGTAGGAGGGCGTGGATATGTCCTGCGGGTAAATAGCTGC...</td>\n",
       "      <td>DDDDDDDDDDDDDDDDDDDEDEDDCDDDDDDDDDEEEDDDDDDDDD...</td>\n",
       "    </tr>\n",
       "  </tbody>\n",
       "</table>\n",
       "</div>"
      ],
      "text/plain": [
       "                                          FLAG                         RNAME  \\\n",
       "QNAME                                                                          \n",
       "HWI-1KL149:87:HA58EADXX:1:1101:2953:2177   147  SSV9K2-CMV-GFP-HygroTK-bGHpA   \n",
       "\n",
       "                                           POS  MAPQ CIGAR RNEXT  PNEXT  TLEN  \\\n",
       "QNAME                                                                           \n",
       "HWI-1KL149:87:HA58EADXX:1:1101:2953:2177  3530    60  101M     =   3440  -191   \n",
       "\n",
       "                                                                                        SEQ  \\\n",
       "QNAME                                                                                         \n",
       "HWI-1KL149:87:HA58EADXX:1:1101:2953:2177  CTTCGATGTAGGAGGGCGTGGATATGTCCTGCGGGTAAATAGCTGC...   \n",
       "\n",
       "                                                                                       QUAL  \n",
       "QNAME                                                                                        \n",
       "HWI-1KL149:87:HA58EADXX:1:1101:2953:2177  DDDDDDDDDDDDDDDDDDDEDEDDCDDDDDDDDDEEEDDDDDDDDD...  "
      ]
     },
     "metadata": {},
     "output_type": "display_data"
    },
    {
     "name": "stdout",
     "output_type": "stream",
     "text": [
      "\n",
      "Group with flag 163\n"
     ]
    },
    {
     "data": {
      "text/html": [
       "<div>\n",
       "<table border=\"1\" class=\"dataframe\">\n",
       "  <thead>\n",
       "    <tr style=\"text-align: right;\">\n",
       "      <th></th>\n",
       "      <th>FLAG</th>\n",
       "      <th>RNAME</th>\n",
       "      <th>POS</th>\n",
       "      <th>MAPQ</th>\n",
       "      <th>CIGAR</th>\n",
       "      <th>RNEXT</th>\n",
       "      <th>PNEXT</th>\n",
       "      <th>TLEN</th>\n",
       "      <th>SEQ</th>\n",
       "      <th>QUAL</th>\n",
       "    </tr>\n",
       "    <tr>\n",
       "      <th>QNAME</th>\n",
       "      <th></th>\n",
       "      <th></th>\n",
       "      <th></th>\n",
       "      <th></th>\n",
       "      <th></th>\n",
       "      <th></th>\n",
       "      <th></th>\n",
       "      <th></th>\n",
       "      <th></th>\n",
       "      <th></th>\n",
       "    </tr>\n",
       "  </thead>\n",
       "  <tbody>\n",
       "    <tr>\n",
       "      <th>HWI-1KL149:87:HA58EADXX:1:1101:1531:2163</th>\n",
       "      <td>163</td>\n",
       "      <td>SSV9K2-CMV-GFP-HygroTK-bGHpA</td>\n",
       "      <td>4862</td>\n",
       "      <td>60</td>\n",
       "      <td>101M</td>\n",
       "      <td>=</td>\n",
       "      <td>4950</td>\n",
       "      <td>189</td>\n",
       "      <td>CGCCCTCCTGTGCTACCCGGCCGCGCGGTACCTTATGGGCAGCATG...</td>\n",
       "      <td>CCCFFFFFGHHHHJJJJJJJJJJJJJJJGIJJJJJJHHHHHFFFEE...</td>\n",
       "    </tr>\n",
       "    <tr>\n",
       "      <th>HWI-1KL149:87:HA58EADXX:1:1101:1752:2238</th>\n",
       "      <td>163</td>\n",
       "      <td>SSV9K2-CMV-GFP-HygroTK-bGHpA</td>\n",
       "      <td>2809</td>\n",
       "      <td>60</td>\n",
       "      <td>101M</td>\n",
       "      <td>=</td>\n",
       "      <td>3032</td>\n",
       "      <td>324</td>\n",
       "      <td>CTATAGGGAGACCACAACGGTTTCCCTCTAGCGGGATCAATTCCGC...</td>\n",
       "      <td>CCCFFFFFHHHHHJJIJJJJIIJJJJJJJJJJJJJHJJIJJJIIIJ...</td>\n",
       "    </tr>\n",
       "    <tr>\n",
       "      <th>HWI-1KL149:87:HA58EADXX:1:1101:2133:2244</th>\n",
       "      <td>163</td>\n",
       "      <td>SSV9K2-CMV-GFP-HygroTK-bGHpA</td>\n",
       "      <td>4828</td>\n",
       "      <td>60</td>\n",
       "      <td>101M</td>\n",
       "      <td>=</td>\n",
       "      <td>4925</td>\n",
       "      <td>198</td>\n",
       "      <td>CCCTCACCCTAATCTTCGACCGCCATCCCATCGCCGCCCTCCTGTG...</td>\n",
       "      <td>CCCFFFFFHHHHHJJJJJJJJJJJJJJJJJJJJJJJJJJJHHHHHF...</td>\n",
       "    </tr>\n",
       "    <tr>\n",
       "      <th>HWI-1KL149:87:HA58EADXX:1:1101:2645:2113</th>\n",
       "      <td>163</td>\n",
       "      <td>SSV9K2-CMV-GFP-HygroTK-bGHpA</td>\n",
       "      <td>5493</td>\n",
       "      <td>60</td>\n",
       "      <td>101M</td>\n",
       "      <td>=</td>\n",
       "      <td>5559</td>\n",
       "      <td>167</td>\n",
       "      <td>AAATCGATGGATCCACTAGTTCTAGAGGGCCCTATTCTATAGTGTC...</td>\n",
       "      <td>CCCFFFFFHHHHHJJJJJJIIJJJJJJJJJJJJIJJJJIJJJHGII...</td>\n",
       "    </tr>\n",
       "    <tr>\n",
       "      <th>HWI-1KL149:87:HA58EADXX:1:1101:2485:2160</th>\n",
       "      <td>163</td>\n",
       "      <td>SSV9K2-CMV-GFP-HygroTK-bGHpA</td>\n",
       "      <td>3756</td>\n",
       "      <td>60</td>\n",
       "      <td>101M</td>\n",
       "      <td>=</td>\n",
       "      <td>3829</td>\n",
       "      <td>174</td>\n",
       "      <td>CCGGTCGCGGAGGCCATGGATGCGATCGCTGCGGCCGATCTTAGCC...</td>\n",
       "      <td>CCCFFFFFHHHHHJJJJJJJJJJJJJJJJJJJJHHFDDDDDDEDDD...</td>\n",
       "    </tr>\n",
       "  </tbody>\n",
       "</table>\n",
       "</div>"
      ],
      "text/plain": [
       "                                          FLAG                         RNAME  \\\n",
       "QNAME                                                                          \n",
       "HWI-1KL149:87:HA58EADXX:1:1101:1531:2163   163  SSV9K2-CMV-GFP-HygroTK-bGHpA   \n",
       "HWI-1KL149:87:HA58EADXX:1:1101:1752:2238   163  SSV9K2-CMV-GFP-HygroTK-bGHpA   \n",
       "HWI-1KL149:87:HA58EADXX:1:1101:2133:2244   163  SSV9K2-CMV-GFP-HygroTK-bGHpA   \n",
       "HWI-1KL149:87:HA58EADXX:1:1101:2645:2113   163  SSV9K2-CMV-GFP-HygroTK-bGHpA   \n",
       "HWI-1KL149:87:HA58EADXX:1:1101:2485:2160   163  SSV9K2-CMV-GFP-HygroTK-bGHpA   \n",
       "\n",
       "                                           POS  MAPQ CIGAR RNEXT  PNEXT  TLEN  \\\n",
       "QNAME                                                                           \n",
       "HWI-1KL149:87:HA58EADXX:1:1101:1531:2163  4862    60  101M     =   4950   189   \n",
       "HWI-1KL149:87:HA58EADXX:1:1101:1752:2238  2809    60  101M     =   3032   324   \n",
       "HWI-1KL149:87:HA58EADXX:1:1101:2133:2244  4828    60  101M     =   4925   198   \n",
       "HWI-1KL149:87:HA58EADXX:1:1101:2645:2113  5493    60  101M     =   5559   167   \n",
       "HWI-1KL149:87:HA58EADXX:1:1101:2485:2160  3756    60  101M     =   3829   174   \n",
       "\n",
       "                                                                                        SEQ  \\\n",
       "QNAME                                                                                         \n",
       "HWI-1KL149:87:HA58EADXX:1:1101:1531:2163  CGCCCTCCTGTGCTACCCGGCCGCGCGGTACCTTATGGGCAGCATG...   \n",
       "HWI-1KL149:87:HA58EADXX:1:1101:1752:2238  CTATAGGGAGACCACAACGGTTTCCCTCTAGCGGGATCAATTCCGC...   \n",
       "HWI-1KL149:87:HA58EADXX:1:1101:2133:2244  CCCTCACCCTAATCTTCGACCGCCATCCCATCGCCGCCCTCCTGTG...   \n",
       "HWI-1KL149:87:HA58EADXX:1:1101:2645:2113  AAATCGATGGATCCACTAGTTCTAGAGGGCCCTATTCTATAGTGTC...   \n",
       "HWI-1KL149:87:HA58EADXX:1:1101:2485:2160  CCGGTCGCGGAGGCCATGGATGCGATCGCTGCGGCCGATCTTAGCC...   \n",
       "\n",
       "                                                                                       QUAL  \n",
       "QNAME                                                                                        \n",
       "HWI-1KL149:87:HA58EADXX:1:1101:1531:2163  CCCFFFFFGHHHHJJJJJJJJJJJJJJJGIJJJJJJHHHHHFFFEE...  \n",
       "HWI-1KL149:87:HA58EADXX:1:1101:1752:2238  CCCFFFFFHHHHHJJIJJJJIIJJJJJJJJJJJJJHJJIJJJIIIJ...  \n",
       "HWI-1KL149:87:HA58EADXX:1:1101:2133:2244  CCCFFFFFHHHHHJJJJJJJJJJJJJJJJJJJJJJJJJJJHHHHHF...  \n",
       "HWI-1KL149:87:HA58EADXX:1:1101:2645:2113  CCCFFFFFHHHHHJJJJJJIIJJJJJJJJJJJJIJJJJIJJJHGII...  \n",
       "HWI-1KL149:87:HA58EADXX:1:1101:2485:2160  CCCFFFFFHHHHHJJJJJJJJJJJJJJJJJJJJHHFDDDDDDEDDD...  "
      ]
     },
     "metadata": {},
     "output_type": "display_data"
    },
    {
     "name": "stdout",
     "output_type": "stream",
     "text": [
      "\n",
      "Group with flag 2115\n"
     ]
    },
    {
     "data": {
      "text/html": [
       "<div>\n",
       "<table border=\"1\" class=\"dataframe\">\n",
       "  <thead>\n",
       "    <tr style=\"text-align: right;\">\n",
       "      <th></th>\n",
       "      <th>FLAG</th>\n",
       "      <th>RNAME</th>\n",
       "      <th>POS</th>\n",
       "      <th>MAPQ</th>\n",
       "      <th>CIGAR</th>\n",
       "      <th>RNEXT</th>\n",
       "      <th>PNEXT</th>\n",
       "      <th>TLEN</th>\n",
       "      <th>SEQ</th>\n",
       "      <th>QUAL</th>\n",
       "    </tr>\n",
       "    <tr>\n",
       "      <th>QNAME</th>\n",
       "      <th></th>\n",
       "      <th></th>\n",
       "      <th></th>\n",
       "      <th></th>\n",
       "      <th></th>\n",
       "      <th></th>\n",
       "      <th></th>\n",
       "      <th></th>\n",
       "      <th></th>\n",
       "      <th></th>\n",
       "    </tr>\n",
       "  </thead>\n",
       "  <tbody>\n",
       "    <tr>\n",
       "      <th>HWI-1KL149:87:HA58EADXX:1:1101:1813:2228</th>\n",
       "      <td>2115</td>\n",
       "      <td>SSV9K2-CMV-GFP-HygroTK-bGHpA</td>\n",
       "      <td>5466</td>\n",
       "      <td>60</td>\n",
       "      <td>39M62H</td>\n",
       "      <td>=</td>\n",
       "      <td>4511</td>\n",
       "      <td>-956</td>\n",
       "      <td>GCCCGGGAGATGGGGGAGGCTAACTGAAAATCGATGGAT</td>\n",
       "      <td>CCCFFFFFHHHHHJJJJJJJJJJJJJJJJJJJJHJJJJJ</td>\n",
       "    </tr>\n",
       "  </tbody>\n",
       "</table>\n",
       "</div>"
      ],
      "text/plain": [
       "                                          FLAG                         RNAME  \\\n",
       "QNAME                                                                          \n",
       "HWI-1KL149:87:HA58EADXX:1:1101:1813:2228  2115  SSV9K2-CMV-GFP-HygroTK-bGHpA   \n",
       "\n",
       "                                           POS  MAPQ   CIGAR RNEXT  PNEXT  \\\n",
       "QNAME                                                                       \n",
       "HWI-1KL149:87:HA58EADXX:1:1101:1813:2228  5466    60  39M62H     =   4511   \n",
       "\n",
       "                                          TLEN  \\\n",
       "QNAME                                            \n",
       "HWI-1KL149:87:HA58EADXX:1:1101:1813:2228  -956   \n",
       "\n",
       "                                                                              SEQ  \\\n",
       "QNAME                                                                               \n",
       "HWI-1KL149:87:HA58EADXX:1:1101:1813:2228  GCCCGGGAGATGGGGGAGGCTAACTGAAAATCGATGGAT   \n",
       "\n",
       "                                                                             QUAL  \n",
       "QNAME                                                                              \n",
       "HWI-1KL149:87:HA58EADXX:1:1101:1813:2228  CCCFFFFFHHHHHJJJJJJJJJJJJJJJJJJJJHJJJJJ  "
      ]
     },
     "metadata": {},
     "output_type": "display_data"
    }
   ],
   "source": [
    "for group, group_df in df.groupby(\"FLAG\"):\n",
    "    print (\"\\nGroup with flag {}\".format(group))\n",
    "    display (group_df)"
   ]
  },
  {
   "cell_type": "markdown",
   "metadata": {},
   "source": [
    "### And much more..."
   ]
  },
  {
   "cell_type": "markdown",
   "metadata": {},
   "source": [
    "**Pandas documentation is extensive and updated frequently**\n",
    "\n",
    "* [Working with Text Data](http://pandas.pydata.org/pandas-docs/stable/text.html)\n",
    "\n",
    "* [Merge, join, and concatenate](http://pandas.pydata.org/pandas-docs/stable/merging.html)\n",
    "\n",
    "* [Reshaping and Pivot Tables](http://pandas.pydata.org/pandas-docs/stable/reshaping.html)\n",
    "\n",
    "* [IO Tools (Text, CSV, HDF5, ...)](http://pandas.pydata.org/pandas-docs/stable/io.html)\n",
    "\n",
    "* [Time Series / Date functionality](pandas.pydata.org/pandas-docs/stable/timeseries.html)\n",
    "\n",
    "* [Categorical Data](http://pandas.pydata.org/pandas-docs/stable/categorical.html)\n",
    "\n",
    "* [Visualization plotting data](http://pandas.pydata.org/pandas-docs/stable/visualization.html)\n",
    "\n",
    "* [Comparison with R / R libraries](http://pandas.pydata.org/pandas-docs/stable/comparison_with_r.html)"
   ]
  }
 ],
 "metadata": {
  "kernelspec": {
   "display_name": "Python 3",
   "language": "python",
   "name": "python3"
  },
  "language_info": {
   "codemirror_mode": {
    "name": "ipython",
    "version": 3
   },
   "file_extension": ".py",
   "mimetype": "text/x-python",
   "name": "python",
   "nbconvert_exporter": "python",
   "pygments_lexer": "ipython3",
   "version": "3.5.2"
  }
 },
 "nbformat": 4,
 "nbformat_minor": 0
}
