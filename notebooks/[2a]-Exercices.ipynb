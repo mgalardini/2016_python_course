{
 "cells": [
  {
   "cell_type": "markdown",
   "metadata": {},
   "source": [
    "Note: solutions of the exercices of this lesson are at the end of this notebook\n",
    "---------------------"
   ]
  },
  {
   "cell_type": "markdown",
   "metadata": {},
   "source": [
    "# Imports\n",
    "\n",
    "**Importing the package you will need on the top of your notebook is a good programming practice** "
   ]
  },
  {
   "cell_type": "code",
   "execution_count": 1,
   "metadata": {
    "collapsed": false,
    "run_control": {
     "frozen": false,
     "read_only": false
    },
    "scrolled": true
   },
   "outputs": [
    {
     "data": {
      "text/html": [
       "<style>.container { width:90% !important; }</style>"
      ],
      "text/plain": [
       "<IPython.core.display.HTML object>"
      ]
     },
     "metadata": {},
     "output_type": "display_data"
    }
   ],
   "source": [
    "# Import the packages that will be usefull for this part of the lesson\n",
    "from collections import OrderedDict, Counter\n",
    "import pandas as pd\n",
    "from pprint import pprint\n",
    "\n",
    "# Small trick to get a larger display\n",
    "from IPython.core.display import display, HTML\n",
    "display(HTML(\"<style>.container { width:90% !important; }</style>\"))"
   ]
  },
  {
   "cell_type": "markdown",
   "metadata": {},
   "source": [
    "# Reminder on file parsing strategy"
   ]
  },
  {
   "cell_type": "markdown",
   "metadata": {},
   "source": [
    "* **Read the first line of the file and try to understand the structure and determine the length of the file**\n",
    "\n",
    "* **If the file is a standard genomic/proteomic format, read the documentation**\n",
    "\n",
    "* **Think about the most efficient way to parse the file to get the information you want**\n",
    "\n",
    "    > How are you going to access the field(s) of interest ? (you can test that with 1 line before starting with the whole file)\n",
    "    \n",
    "    > A real life file will contain millions of lines and file reading is usually slow. Try to read the file only 1 time, even if you need to parse multiple element per line. \n",
    "    \n",
    "    > How are you going to collect the information (dictionary, list, dataframe...) ?\n",
    "    \n",
    "**... Now you can parse the file**"
   ]
  },
  {
   "cell_type": "markdown",
   "metadata": {
    "run_control": {
     "frozen": false,
     "read_only": false
    }
   },
   "source": [
    " ## Counters"
   ]
  },
  {
   "cell_type": "markdown",
   "metadata": {},
   "source": [
    "**Exercise 1: Randomly selected global event with catastrophic consequences**\n",
    "\n",
    "*The file indicated bellow contain a representative sample of popular votes for the last US presidential elections. Parse the file and return a count of the number of occurrence of each name*"
   ]
  },
  {
   "cell_type": "code",
   "execution_count": 2,
   "metadata": {
    "collapsed": true,
    "run_control": {
     "frozen": false,
     "read_only": false
    }
   },
   "outputs": [],
   "source": [
    "file = \"../data/US_election_vote_sample.txt\""
   ]
  },
  {
   "cell_type": "code",
   "execution_count": null,
   "metadata": {
    "collapsed": true,
    "run_control": {
     "frozen": false,
     "read_only": false
    }
   },
   "outputs": [],
   "source": []
  },
  {
   "cell_type": "code",
   "execution_count": null,
   "metadata": {
    "collapsed": true,
    "run_control": {
     "frozen": false,
     "read_only": false
    }
   },
   "outputs": [],
   "source": []
  },
  {
   "cell_type": "code",
   "execution_count": null,
   "metadata": {
    "collapsed": true,
    "run_control": {
     "frozen": false,
     "read_only": false
    }
   },
   "outputs": [],
   "source": []
  },
  {
   "cell_type": "markdown",
   "metadata": {},
   "source": [
    "**Exercise 2: Parsing a gene annotation file (gff3)**\n",
    "\n",
    "*Parse The following gff3 gene annotation file. Extract the **type** of each line and print the count ordered by descending occurrence*\n",
    "\n",
    "*gff3 is a standard genomic format. Read the [documentation here](http://gmod.org/wiki/GFF3).*"
   ]
  },
  {
   "cell_type": "code",
   "execution_count": 3,
   "metadata": {
    "collapsed": true,
    "run_control": {
     "frozen": false,
     "read_only": false
    }
   },
   "outputs": [],
   "source": [
    "file = \"../data/gencode_sample.gff3\""
   ]
  },
  {
   "cell_type": "code",
   "execution_count": null,
   "metadata": {
    "collapsed": true,
    "run_control": {
     "frozen": false,
     "read_only": false
    }
   },
   "outputs": [],
   "source": []
  },
  {
   "cell_type": "code",
   "execution_count": null,
   "metadata": {
    "collapsed": true,
    "run_control": {
     "frozen": false,
     "read_only": false
    }
   },
   "outputs": [],
   "source": []
  },
  {
   "cell_type": "markdown",
   "metadata": {},
   "source": [
    "# OrderedDict"
   ]
  },
  {
   "cell_type": "markdown",
   "metadata": {},
   "source": [
    "**Exercise 3: **\n",
    "\n",
    "*Parse The following gff3 gene annotation file. For each **seqid** (chromosome) list the sequences **ID** associated. Use an ordered dict to preserve the original chromosome ordering from the file*\n",
    "\n",
    "Example:\n",
    "\n",
    "    d={\"chr1\": [\"stop_codon:ENST00000370551.8\", \"UTR5:ENST00000235933.10\", ...], \"chr2\": [\"ID=CDS:ENST00000504764.5\", \"ID=UTR5:ENST00000480736.1\", ...], ... }"
   ]
  },
  {
   "cell_type": "code",
   "execution_count": 4,
   "metadata": {
    "collapsed": true,
    "run_control": {
     "frozen": false,
     "read_only": false
    }
   },
   "outputs": [],
   "source": [
    "file = \"../data/gencode_sample.gff3\""
   ]
  },
  {
   "cell_type": "code",
   "execution_count": null,
   "metadata": {
    "collapsed": true,
    "run_control": {
     "frozen": false,
     "read_only": false
    }
   },
   "outputs": [],
   "source": []
  },
  {
   "cell_type": "markdown",
   "metadata": {},
   "source": [
    "# Statistics and viewing"
   ]
  },
  {
   "cell_type": "markdown",
   "metadata": {},
   "source": [
    "**Exercise 4: **\n",
    "\n",
    "*Parse The following sam file. *sam is a standard genomic format. Read the [documentation here](http://genome.sph.umich.edu/wiki/SAM).\n",
    "\n",
    "1. *Print the 10 last columns* \n",
    "\n",
    "2. *Sample randomly 10 rows and compute the mean and median fragment length (TLEN)*\n",
    "\n",
    "3. *Generate a summary for all the columns*"
   ]
  },
  {
   "cell_type": "code",
   "execution_count": 5,
   "metadata": {
    "collapsed": true,
    "run_control": {
     "frozen": false,
     "read_only": false
    }
   },
   "outputs": [],
   "source": [
    "file = \"../data/sample_alignment.sam\""
   ]
  },
  {
   "cell_type": "code",
   "execution_count": null,
   "metadata": {
    "collapsed": false,
    "run_control": {
     "frozen": false,
     "read_only": false
    }
   },
   "outputs": [],
   "source": []
  },
  {
   "cell_type": "code",
   "execution_count": null,
   "metadata": {
    "collapsed": true,
    "run_control": {
     "frozen": false,
     "read_only": false
    }
   },
   "outputs": [],
   "source": []
  },
  {
   "cell_type": "markdown",
   "metadata": {},
   "source": [
    "# Selection and indexing"
   ]
  },
  {
   "cell_type": "markdown",
   "metadata": {},
   "source": [
    "**Exercise 5: **\n",
    "\n",
    "*Parse the following count file obtained by Kallisto from an RNAseq Dataset. The file is not a standard genomics format, but it is a tabulated file and some information can be found in [Kallisto documentation](https://pachterlab.github.io/kallisto/manual.html).*\n",
    "\n",
    "1. *Extract the following **target_id**: 'ENST00000487368.4', 'ENST00000623229.1', 'ENST00000444276.1', 'ENST00000612487.4', 'ENST00000556673.2', 'ENST00000623191.1'*\n",
    "2. *Select only the **est_counts and tpm** columns and print the **first 10 lines** of the table*\n",
    "3. *Extract of the rows with a **tpm** value higher that 10000 *\n",
    "4. *Extract of the rows with a **tpm** and an **est_counts** higher than 1000, order by descending **eff_len** and print the **10 first lines**.*"
   ]
  },
  {
   "cell_type": "code",
   "execution_count": 6,
   "metadata": {
    "collapsed": true,
    "run_control": {
     "frozen": false,
     "read_only": false
    }
   },
   "outputs": [],
   "source": [
    "file = \"../data/abundance.tsv\""
   ]
  },
  {
   "cell_type": "code",
   "execution_count": null,
   "metadata": {
    "collapsed": false,
    "run_control": {
     "frozen": false,
     "read_only": false
    }
   },
   "outputs": [],
   "source": []
  },
  {
   "cell_type": "code",
   "execution_count": null,
   "metadata": {
    "collapsed": true,
    "run_control": {
     "frozen": false,
     "read_only": false
    }
   },
   "outputs": [],
   "source": []
  },
  {
   "cell_type": "code",
   "execution_count": null,
   "metadata": {
    "collapsed": true,
    "run_control": {
     "frozen": false,
     "read_only": false
    }
   },
   "outputs": [],
   "source": []
  },
  {
   "cell_type": "markdown",
   "metadata": {},
   "source": [
    "---\n",
    "\n",
    ".\n",
    "\n",
    ".\n",
    "\n",
    ".\n",
    "\n",
    ".\n",
    "\n",
    ".\n",
    "\n",
    ".\n",
    "\n",
    ".\n",
    "\n",
    ".\n",
    "\n",
    ".\n",
    "\n",
    ".\n",
    "\n",
    ".\n",
    "\n",
    ".\n",
    "\n",
    ".\n",
    "\n",
    ".\n",
    "\n",
    ".\n",
    "\n",
    ".\n",
    "\n",
    ".\n",
    "\n",
    ".\n",
    "\n",
    ".\n",
    "\n",
    ".\n",
    "\n",
    ".\n",
    "\n",
    ".\n",
    "\n",
    ".\n",
    "\n",
    ".\n",
    "\n",
    ".\n",
    "\n",
    ".\n",
    "\n",
    ".\n",
    "\n",
    ".\n",
    "\n",
    "# POSSIBLE ANSWERS"
   ]
  },
  {
   "cell_type": "markdown",
   "metadata": {},
   "source": [
    "**Exercise 1**"
   ]
  },
  {
   "cell_type": "code",
   "execution_count": 7,
   "metadata": {
    "collapsed": false,
    "run_control": {
     "frozen": false,
     "read_only": false
    }
   },
   "outputs": [
    {
     "data": {
      "text/plain": [
       "[('Clinton\\n', 96191),\n",
       " ('Trump\\n', 94075),\n",
       " ('Johnson\\n', 6532),\n",
       " ('Stein\\n', 2084),\n",
       " ('McMullin\\n', 819),\n",
       " ('Castle\\n', 299)]"
      ]
     },
     "execution_count": 7,
     "metadata": {},
     "output_type": "execute_result"
    }
   ],
   "source": [
    "c = Counter()\n",
    "\n",
    "# Open the file\n",
    "with open (\"../data/US_election_vote_sample.txt\", \"r\") as fp:\n",
    "    for candidate in fp:\n",
    "        # Increment the counter for the current element\n",
    "        c[candidate]+=1\n",
    "\n",
    "# Order by most frequent element\n",
    "c.most_common()"
   ]
  },
  {
   "cell_type": "markdown",
   "metadata": {},
   "source": [
    "**Exercise 2**"
   ]
  },
  {
   "cell_type": "code",
   "execution_count": 8,
   "metadata": {
    "collapsed": false,
    "run_control": {
     "frozen": false,
     "read_only": false
    }
   },
   "outputs": [
    {
     "data": {
      "text/plain": [
       "[('exon', 55),\n",
       " ('CDS', 15),\n",
       " ('transcript', 8),\n",
       " ('five_prime_UTR', 7),\n",
       " ('start_codon', 5),\n",
       " ('three_prime_UTR', 4),\n",
       " ('gene', 4),\n",
       " ('stop_codon', 2)]"
      ]
     },
     "execution_count": 8,
     "metadata": {},
     "output_type": "execute_result"
    }
   ],
   "source": [
    "file = \"../data/gencode_sample.gff3\"\n",
    "c = Counter()\n",
    "\n",
    "# Open the file\n",
    "with open (file, \"r\") as fp:\n",
    "    # Iterate over lines\n",
    "    for line in fp:\n",
    "        # Split the line and get the element 3\n",
    "        feature_type = line.split(\"\\t\")[2]\n",
    "        # Increment the counter\n",
    "        c[feature_type]+=1\n",
    "        \n",
    "# Order by most frequent element\n",
    "c.most_common()"
   ]
  },
  {
   "cell_type": "markdown",
   "metadata": {},
   "source": [
    "**Exercise 3**"
   ]
  },
  {
   "cell_type": "code",
   "execution_count": 9,
   "metadata": {
    "collapsed": false,
    "run_control": {
     "frozen": false,
     "read_only": false
    }
   },
   "outputs": [
    {
     "name": "stdout",
     "output_type": "stream",
     "text": [
      "chr1\tHAVANA\texon\t181715338\t181715391\t.\t+\t.\tID=exon:ENST00000367573.6:9;Parent=ENST00000367573.6;gene_id=ENSG00000198216.10;transcript_id=ENST00000367573.6;gene_type=protein_coding;gene_status=KNOWN;gene_name=CACNA1E;transcript_type=protein_coding;transcript_status=KNOWN;transcript_name=CACNA1E-003;exon_number=9;exon_id=ENSE00003728811.1;level=2;protein_id=ENSP00000356545.2;transcript_support_level=1;tag=non_canonical_U12,basic,appris_alternative_2,CCDS;ccdsid=CCDS55664.1;havana_gene=OTTHUMG00000037301.6;havana_transcript=OTTHUMT00000090793.2\r\n"
     ]
    }
   ],
   "source": [
    "!head -n 1 \"../data/gencode_sample.gff3\""
   ]
  },
  {
   "cell_type": "code",
   "execution_count": 10,
   "metadata": {
    "collapsed": false,
    "run_control": {
     "frozen": false,
     "read_only": false
    }
   },
   "outputs": [
    {
     "data": {
      "text/plain": [
       "OrderedDict([('chr1',\n",
       "              ['exon:ENST00000367573.6:9',\n",
       "               'ENST00000443847.2',\n",
       "               'UTR5:ENST00000370684.5',\n",
       "               'exon:ENST00000464631.6:4',\n",
       "               'CDS:ENST00000358779.9',\n",
       "               'ENST00000622395.4',\n",
       "               'stop_codon:ENST00000622561.4',\n",
       "               'ENST00000413093.2']),\n",
       "             ('chr10',\n",
       "              ['exon:ENST00000395445.5:7',\n",
       "               'exon:ENST00000434147.1:2',\n",
       "               'UTR3:ENST00000605679.5']),\n",
       "             ('chr11',\n",
       "              ['exon:ENST00000528499.5:11',\n",
       "               'CDS:ENST00000533977.5',\n",
       "               'CDS:ENST00000278836.9',\n",
       "               'CDS:ENST00000422652.5',\n",
       "               'stop_codon:ENST00000393591.5']),\n",
       "             ('chr12',\n",
       "              ['ENST00000636333.1',\n",
       "               'exon:ENST00000262052.9:3',\n",
       "               'exon:ENST00000333837.8:17',\n",
       "               'CDS:ENST00000247829.7',\n",
       "               'exon:ENST00000536036.1:3',\n",
       "               'CDS:ENST00000536681.7',\n",
       "               'ENST00000439744.6',\n",
       "               'exon:ENST00000540566.1:1',\n",
       "               'ENSG00000257605.2']),\n",
       "             ('chr14',\n",
       "              ['exon:ENST00000557082.5:5',\n",
       "               'CDS:ENST00000261534.8',\n",
       "               'exon:ENST00000616371.4:6']),\n",
       "             ('chr15',\n",
       "              ['exon:ENST00000572085.5:6',\n",
       "               'exon:ENST00000637033.1:2',\n",
       "               'ENST00000558779.1',\n",
       "               'start_codon:ENST00000379887.8',\n",
       "               'exon:ENST00000635884.1:3']),\n",
       "             ('chr16',\n",
       "              ['exon:ENST00000623921.1:1',\n",
       "               'exon:ENST00000574498.5:3',\n",
       "               'UTR3:ENST00000574982.1',\n",
       "               'exon:ENST00000568373.5:1',\n",
       "               'UTR3:ENST00000561659.5']),\n",
       "             ('chr17',\n",
       "              ['exon:ENST00000581531.5:7',\n",
       "               'ENST00000570444.1',\n",
       "               'exon:ENST00000437099.6:12',\n",
       "               'exon:ENST00000614790.4:7',\n",
       "               'exon:ENST00000589798.5:1']),\n",
       "             ('chr18', ['CDS:ENST00000560918.2', 'exon:ENST00000400155.5:4']),\n",
       "             ('chr19',\n",
       "              ['exon:ENST00000345016.9:17',\n",
       "               'UTR5:ENST00000596930.5',\n",
       "               'exon:ENST00000253048.9:4',\n",
       "               'exon:ENST00000587352.5:5',\n",
       "               'exon:ENST00000586682.1:3',\n",
       "               'exon:ENST00000586250.1:1',\n",
       "               'exon:ENST00000589693.1:2',\n",
       "               'exon:ENST00000638029.1:48']),\n",
       "             ('chr2',\n",
       "              ['exon:ENST00000464241.5:4',\n",
       "               'exon:ENST00000485813.5:35',\n",
       "               'exon:ENST00000397337.6:12',\n",
       "               'exon:ENST00000409640.5:2',\n",
       "               'ENSG00000243147.7',\n",
       "               'exon:ENST00000422080.5:1',\n",
       "               'exon:ENST00000337386.9:8',\n",
       "               'exon:ENST00000263710.8:31',\n",
       "               'CDS:ENST00000409213.5']),\n",
       "             ('chr20',\n",
       "              ['UTR3:ENST00000352482.8',\n",
       "               'exon:ENST00000566961.2:2',\n",
       "               'CDS:ENST00000545418.2']),\n",
       "             ('chr21', ['exon:ENST00000382491.7:26']),\n",
       "             ('chr22', ['exon:ENST00000358763.6:5']),\n",
       "             ('chr3',\n",
       "              ['ENST00000488069.5',\n",
       "               'CDS:ENST00000463937.1',\n",
       "               'UTR5:ENST00000420891.5',\n",
       "               'exon:ENST00000476327.1:2',\n",
       "               'UTR5:ENST00000430340.5',\n",
       "               'exon:ENST00000490966.1:1',\n",
       "               'exon:ENST00000465245.1:4']),\n",
       "             ('chr4', ['exon:ENST00000476959.5:4']),\n",
       "             ('chr5',\n",
       "              ['start_codon:ENST00000512394.5',\n",
       "               'ENSG00000279799.1',\n",
       "               'start_codon:ENST00000487688.1']),\n",
       "             ('chr6',\n",
       "              ['exon:ENST00000538976.5:1',\n",
       "               'exon:ENST00000416123.6:25',\n",
       "               'exon:ENST00000373825.6:8',\n",
       "               'exon:ENST00000532021.5:1',\n",
       "               'exon:ENST00000465404.2:1']),\n",
       "             ('chr7',\n",
       "              ['exon:ENST00000484038.1:9',\n",
       "               'start_codon:ENST00000393489.7',\n",
       "               'exon:ENST00000292478.8:5',\n",
       "               'UTR5:ENST00000468410.5',\n",
       "               'CDS:ENST00000394629.2',\n",
       "               'exon:ENST00000458590.1:1',\n",
       "               'UTR5:ENST00000607882.5',\n",
       "               'ENSG00000128564.6',\n",
       "               'CDS:ENST00000265362.8',\n",
       "               'exon:ENST00000471104.5:1']),\n",
       "             ('chr8',\n",
       "              ['UTR5:ENST00000378279.3',\n",
       "               'CDS:ENST00000522610.5',\n",
       "               'exon:ENST00000527215.6:4']),\n",
       "             ('chrX',\n",
       "              ['start_codon:ENST00000371121.4',\n",
       "               'exon:ENST00000370335.5:3',\n",
       "               'CDS:ENST00000467626.6']),\n",
       "             ('chrY', ['exon:ENST00000381192.8_PAR_Y:4'])])"
      ]
     },
     "execution_count": 10,
     "metadata": {},
     "output_type": "execute_result"
    }
   ],
   "source": [
    "file = \"../data/gencode_sample.gff3\"\n",
    "d =  OrderedDict()\n",
    "\n",
    "# Open the file\n",
    "with open (file, \"r\") as fp:\n",
    "    # Iterate over lines\n",
    "    for line in fp:\n",
    "        # Split the line and get the element 3\n",
    "        seqid = line.split(\"\\t\")[0]\n",
    "        # Parse the line to get the ID\n",
    "        ID = line.split(\"\\t\")[8].split(\";\")[0][3:]\n",
    "        #\n",
    "        if not seqid in d:\n",
    "            d[seqid] = []\n",
    "        d[seqid].append(ID)\n",
    "        \n",
    "d"
   ]
  },
  {
   "cell_type": "markdown",
   "metadata": {},
   "source": [
    "**Exercise 4**"
   ]
  },
  {
   "cell_type": "code",
   "execution_count": 11,
   "metadata": {
    "collapsed": true,
    "run_control": {
     "frozen": false,
     "read_only": false
    }
   },
   "outputs": [],
   "source": [
    "file = \"../data/sample_alignment.sam\"\n",
    "columns_names = ['QNAME', 'FLAG', 'RNAME', 'POS', 'MAPQ', 'CIGAR', 'RNEXT', 'PNEXT', 'TLEN', 'SEQ', 'QUAL']\n",
    "df = pd.read_table(file, sep=\"\\t\", names = columns_names, skiprows=[0,1], index_col=0)"
   ]
  },
  {
   "cell_type": "code",
   "execution_count": 12,
   "metadata": {
    "collapsed": false,
    "run_control": {
     "frozen": false,
     "read_only": false
    }
   },
   "outputs": [
    {
     "data": {
      "text/html": [
       "<div>\n",
       "<table border=\"1\" class=\"dataframe\">\n",
       "  <thead>\n",
       "    <tr style=\"text-align: right;\">\n",
       "      <th></th>\n",
       "      <th>FLAG</th>\n",
       "      <th>RNAME</th>\n",
       "      <th>POS</th>\n",
       "      <th>MAPQ</th>\n",
       "      <th>CIGAR</th>\n",
       "      <th>RNEXT</th>\n",
       "      <th>PNEXT</th>\n",
       "      <th>TLEN</th>\n",
       "      <th>SEQ</th>\n",
       "      <th>QUAL</th>\n",
       "    </tr>\n",
       "    <tr>\n",
       "      <th>QNAME</th>\n",
       "      <th></th>\n",
       "      <th></th>\n",
       "      <th></th>\n",
       "      <th></th>\n",
       "      <th></th>\n",
       "      <th></th>\n",
       "      <th></th>\n",
       "      <th></th>\n",
       "      <th></th>\n",
       "      <th></th>\n",
       "    </tr>\n",
       "  </thead>\n",
       "  <tbody>\n",
       "    <tr>\n",
       "      <th>HWI-1KL149:87:HA58EADXX:1:1101:2031:2119</th>\n",
       "      <td>99</td>\n",
       "      <td>SSV9K2-CMV-GFP-HygroTK-bGHpA</td>\n",
       "      <td>1392</td>\n",
       "      <td>60</td>\n",
       "      <td>101M</td>\n",
       "      <td>=</td>\n",
       "      <td>1503</td>\n",
       "      <td>212</td>\n",
       "      <td>NCATTGATTATTGACTAGTTATTAATAGTAATCAATTACGGGGTCA...</td>\n",
       "      <td>#1=DDFFFHHHHHJJJJJJJJJJJJIJJIJJJJJJJJJJJJJJGHI...</td>\n",
       "    </tr>\n",
       "    <tr>\n",
       "      <th>HWI-1KL149:87:HA58EADXX:1:1101:2133:2244</th>\n",
       "      <td>163</td>\n",
       "      <td>SSV9K2-CMV-GFP-HygroTK-bGHpA</td>\n",
       "      <td>4828</td>\n",
       "      <td>60</td>\n",
       "      <td>101M</td>\n",
       "      <td>=</td>\n",
       "      <td>4925</td>\n",
       "      <td>198</td>\n",
       "      <td>CCCTCACCCTAATCTTCGACCGCCATCCCATCGCCGCCCTCCTGTG...</td>\n",
       "      <td>CCCFFFFFHHHHHJJJJJJJJJJJJJJJJJJJJJJJJJJJHHHHHF...</td>\n",
       "    </tr>\n",
       "    <tr>\n",
       "      <th>HWI-1KL149:87:HA58EADXX:1:1101:2228:2222</th>\n",
       "      <td>141</td>\n",
       "      <td>*</td>\n",
       "      <td>0</td>\n",
       "      <td>0</td>\n",
       "      <td>*</td>\n",
       "      <td>*</td>\n",
       "      <td>0</td>\n",
       "      <td>0</td>\n",
       "      <td>ACAGTTTGATGAGTATAGAAATGGATCCACTCGTTATTCTCGGACG...</td>\n",
       "      <td>CCCFFFFFHHHHHHIIJJJJJJJJJJJJJJJJJJJJJJJJJJJJJJ...</td>\n",
       "    </tr>\n",
       "    <tr>\n",
       "      <th>HWI-1KL149:87:HA58EADXX:1:1101:2344:2177</th>\n",
       "      <td>83</td>\n",
       "      <td>SSV9K2-CMV-GFP-HygroTK-bGHpA</td>\n",
       "      <td>4321</td>\n",
       "      <td>60</td>\n",
       "      <td>101M</td>\n",
       "      <td>=</td>\n",
       "      <td>4198</td>\n",
       "      <td>-224</td>\n",
       "      <td>GGACTGTCGGGCGTACACAAATCGCCCGCAGAAGCGCGGCCGTCTG...</td>\n",
       "      <td>DDDDDDDDDDDDEDDDEDDDDDDDDDDDDDDDDDDDDDDDDDDDDD...</td>\n",
       "    </tr>\n",
       "    <tr>\n",
       "      <th>HWI-1KL149:87:HA58EADXX:1:1101:2645:2113</th>\n",
       "      <td>163</td>\n",
       "      <td>SSV9K2-CMV-GFP-HygroTK-bGHpA</td>\n",
       "      <td>5493</td>\n",
       "      <td>60</td>\n",
       "      <td>101M</td>\n",
       "      <td>=</td>\n",
       "      <td>5559</td>\n",
       "      <td>167</td>\n",
       "      <td>AAATCGATGGATCCACTAGTTCTAGAGGGCCCTATTCTATAGTGTC...</td>\n",
       "      <td>CCCFFFFFHHHHHJJJJJJIIJJJJJJJJJJJJIJJJJIJJJHGII...</td>\n",
       "    </tr>\n",
       "    <tr>\n",
       "      <th>HWI-1KL149:87:HA58EADXX:1:1101:2485:2160</th>\n",
       "      <td>163</td>\n",
       "      <td>SSV9K2-CMV-GFP-HygroTK-bGHpA</td>\n",
       "      <td>3756</td>\n",
       "      <td>60</td>\n",
       "      <td>101M</td>\n",
       "      <td>=</td>\n",
       "      <td>3829</td>\n",
       "      <td>174</td>\n",
       "      <td>CCGGTCGCGGAGGCCATGGATGCGATCGCTGCGGCCGATCTTAGCC...</td>\n",
       "      <td>CCCFFFFFHHHHHJJJJJJJJJJJJJJJJJJJJHHFDDDDDDEDDD...</td>\n",
       "    </tr>\n",
       "    <tr>\n",
       "      <th>HWI-1KL149:87:HA58EADXX:1:1101:2647:2140</th>\n",
       "      <td>83</td>\n",
       "      <td>SSV9K2-CMV-GFP-HygroTK-bGHpA</td>\n",
       "      <td>4552</td>\n",
       "      <td>60</td>\n",
       "      <td>101M</td>\n",
       "      <td>=</td>\n",
       "      <td>4437</td>\n",
       "      <td>-216</td>\n",
       "      <td>CCACCACGCAACTGCTGGTGGCCCTGGGTTCGCGCGACGATATCGT...</td>\n",
       "      <td>@&lt;2DB&lt;BC&gt;CABCDB?DB@B?DBA?DDDBB&gt;@&gt;;8?98@==?;;C=...</td>\n",
       "    </tr>\n",
       "    <tr>\n",
       "      <th>HWI-1KL149:87:HA58EADXX:1:1101:2813:2174</th>\n",
       "      <td>99</td>\n",
       "      <td>SSV9K2-CMV-GFP-HygroTK-bGHpA</td>\n",
       "      <td>5279</td>\n",
       "      <td>60</td>\n",
       "      <td>101M</td>\n",
       "      <td>=</td>\n",
       "      <td>5457</td>\n",
       "      <td>279</td>\n",
       "      <td>CGTGTTTGCCTGGGCCTTGGACGTCTTGGCCAAACGCCTCCGTTCC...</td>\n",
       "      <td>CCCFFFFFHHHHGIJJJJJJJJJJJJJJJJJJJJJJJJJJJJJJJJ...</td>\n",
       "    </tr>\n",
       "    <tr>\n",
       "      <th>HWI-1KL149:87:HA58EADXX:1:1101:2953:2177</th>\n",
       "      <td>147</td>\n",
       "      <td>SSV9K2-CMV-GFP-HygroTK-bGHpA</td>\n",
       "      <td>3530</td>\n",
       "      <td>60</td>\n",
       "      <td>101M</td>\n",
       "      <td>=</td>\n",
       "      <td>3440</td>\n",
       "      <td>-191</td>\n",
       "      <td>CTTCGATGTAGGAGGGCGTGGATATGTCCTGCGGGTAAATAGCTGC...</td>\n",
       "      <td>DDDDDDDDDDDDDDDDDDDEDEDDCDDDDDDDDDEEEDDDDDDDDD...</td>\n",
       "    </tr>\n",
       "    <tr>\n",
       "      <th>HWI-1KL149:87:HA58EADXX:1:1101:2854:2200</th>\n",
       "      <td>99</td>\n",
       "      <td>SSV9K2-CMV-GFP-HygroTK-bGHpA</td>\n",
       "      <td>5128</td>\n",
       "      <td>60</td>\n",
       "      <td>101M</td>\n",
       "      <td>=</td>\n",
       "      <td>5206</td>\n",
       "      <td>179</td>\n",
       "      <td>GGGAGGACTGGGGACAGCTTTCGGGGACGGCCGTGCCGCCCCAGGG...</td>\n",
       "      <td>CCCFFFFFHHHHHIJIJJJJJJJJJJJJJJJJJJJHHHFDDDDDDD...</td>\n",
       "    </tr>\n",
       "  </tbody>\n",
       "</table>\n",
       "</div>"
      ],
      "text/plain": [
       "                                          FLAG                         RNAME  \\\n",
       "QNAME                                                                          \n",
       "HWI-1KL149:87:HA58EADXX:1:1101:2031:2119    99  SSV9K2-CMV-GFP-HygroTK-bGHpA   \n",
       "HWI-1KL149:87:HA58EADXX:1:1101:2133:2244   163  SSV9K2-CMV-GFP-HygroTK-bGHpA   \n",
       "HWI-1KL149:87:HA58EADXX:1:1101:2228:2222   141                             *   \n",
       "HWI-1KL149:87:HA58EADXX:1:1101:2344:2177    83  SSV9K2-CMV-GFP-HygroTK-bGHpA   \n",
       "HWI-1KL149:87:HA58EADXX:1:1101:2645:2113   163  SSV9K2-CMV-GFP-HygroTK-bGHpA   \n",
       "HWI-1KL149:87:HA58EADXX:1:1101:2485:2160   163  SSV9K2-CMV-GFP-HygroTK-bGHpA   \n",
       "HWI-1KL149:87:HA58EADXX:1:1101:2647:2140    83  SSV9K2-CMV-GFP-HygroTK-bGHpA   \n",
       "HWI-1KL149:87:HA58EADXX:1:1101:2813:2174    99  SSV9K2-CMV-GFP-HygroTK-bGHpA   \n",
       "HWI-1KL149:87:HA58EADXX:1:1101:2953:2177   147  SSV9K2-CMV-GFP-HygroTK-bGHpA   \n",
       "HWI-1KL149:87:HA58EADXX:1:1101:2854:2200    99  SSV9K2-CMV-GFP-HygroTK-bGHpA   \n",
       "\n",
       "                                           POS  MAPQ CIGAR RNEXT  PNEXT  TLEN  \\\n",
       "QNAME                                                                           \n",
       "HWI-1KL149:87:HA58EADXX:1:1101:2031:2119  1392    60  101M     =   1503   212   \n",
       "HWI-1KL149:87:HA58EADXX:1:1101:2133:2244  4828    60  101M     =   4925   198   \n",
       "HWI-1KL149:87:HA58EADXX:1:1101:2228:2222     0     0     *     *      0     0   \n",
       "HWI-1KL149:87:HA58EADXX:1:1101:2344:2177  4321    60  101M     =   4198  -224   \n",
       "HWI-1KL149:87:HA58EADXX:1:1101:2645:2113  5493    60  101M     =   5559   167   \n",
       "HWI-1KL149:87:HA58EADXX:1:1101:2485:2160  3756    60  101M     =   3829   174   \n",
       "HWI-1KL149:87:HA58EADXX:1:1101:2647:2140  4552    60  101M     =   4437  -216   \n",
       "HWI-1KL149:87:HA58EADXX:1:1101:2813:2174  5279    60  101M     =   5457   279   \n",
       "HWI-1KL149:87:HA58EADXX:1:1101:2953:2177  3530    60  101M     =   3440  -191   \n",
       "HWI-1KL149:87:HA58EADXX:1:1101:2854:2200  5128    60  101M     =   5206   179   \n",
       "\n",
       "                                                                                        SEQ  \\\n",
       "QNAME                                                                                         \n",
       "HWI-1KL149:87:HA58EADXX:1:1101:2031:2119  NCATTGATTATTGACTAGTTATTAATAGTAATCAATTACGGGGTCA...   \n",
       "HWI-1KL149:87:HA58EADXX:1:1101:2133:2244  CCCTCACCCTAATCTTCGACCGCCATCCCATCGCCGCCCTCCTGTG...   \n",
       "HWI-1KL149:87:HA58EADXX:1:1101:2228:2222  ACAGTTTGATGAGTATAGAAATGGATCCACTCGTTATTCTCGGACG...   \n",
       "HWI-1KL149:87:HA58EADXX:1:1101:2344:2177  GGACTGTCGGGCGTACACAAATCGCCCGCAGAAGCGCGGCCGTCTG...   \n",
       "HWI-1KL149:87:HA58EADXX:1:1101:2645:2113  AAATCGATGGATCCACTAGTTCTAGAGGGCCCTATTCTATAGTGTC...   \n",
       "HWI-1KL149:87:HA58EADXX:1:1101:2485:2160  CCGGTCGCGGAGGCCATGGATGCGATCGCTGCGGCCGATCTTAGCC...   \n",
       "HWI-1KL149:87:HA58EADXX:1:1101:2647:2140  CCACCACGCAACTGCTGGTGGCCCTGGGTTCGCGCGACGATATCGT...   \n",
       "HWI-1KL149:87:HA58EADXX:1:1101:2813:2174  CGTGTTTGCCTGGGCCTTGGACGTCTTGGCCAAACGCCTCCGTTCC...   \n",
       "HWI-1KL149:87:HA58EADXX:1:1101:2953:2177  CTTCGATGTAGGAGGGCGTGGATATGTCCTGCGGGTAAATAGCTGC...   \n",
       "HWI-1KL149:87:HA58EADXX:1:1101:2854:2200  GGGAGGACTGGGGACAGCTTTCGGGGACGGCCGTGCCGCCCCAGGG...   \n",
       "\n",
       "                                                                                       QUAL  \n",
       "QNAME                                                                                        \n",
       "HWI-1KL149:87:HA58EADXX:1:1101:2031:2119  #1=DDFFFHHHHHJJJJJJJJJJJJIJJIJJJJJJJJJJJJJJGHI...  \n",
       "HWI-1KL149:87:HA58EADXX:1:1101:2133:2244  CCCFFFFFHHHHHJJJJJJJJJJJJJJJJJJJJJJJJJJJHHHHHF...  \n",
       "HWI-1KL149:87:HA58EADXX:1:1101:2228:2222  CCCFFFFFHHHHHHIIJJJJJJJJJJJJJJJJJJJJJJJJJJJJJJ...  \n",
       "HWI-1KL149:87:HA58EADXX:1:1101:2344:2177  DDDDDDDDDDDDEDDDEDDDDDDDDDDDDDDDDDDDDDDDDDDDDD...  \n",
       "HWI-1KL149:87:HA58EADXX:1:1101:2645:2113  CCCFFFFFHHHHHJJJJJJIIJJJJJJJJJJJJIJJJJIJJJHGII...  \n",
       "HWI-1KL149:87:HA58EADXX:1:1101:2485:2160  CCCFFFFFHHHHHJJJJJJJJJJJJJJJJJJJJHHFDDDDDDEDDD...  \n",
       "HWI-1KL149:87:HA58EADXX:1:1101:2647:2140  @<2DB<BC>CABCDB?DB@B?DBA?DDDBB>@>;8?98@==?;;C=...  \n",
       "HWI-1KL149:87:HA58EADXX:1:1101:2813:2174  CCCFFFFFHHHHGIJJJJJJJJJJJJJJJJJJJJJJJJJJJJJJJJ...  \n",
       "HWI-1KL149:87:HA58EADXX:1:1101:2953:2177  DDDDDDDDDDDDDDDDDDDEDEDDCDDDDDDDDDEEEDDDDDDDDD...  \n",
       "HWI-1KL149:87:HA58EADXX:1:1101:2854:2200  CCCFFFFFHHHHHIJIJJJJJJJJJJJJJJJJJJJHHHFDDDDDDD...  "
      ]
     },
     "execution_count": 12,
     "metadata": {},
     "output_type": "execute_result"
    }
   ],
   "source": [
    "df.tail(10)"
   ]
  },
  {
   "cell_type": "code",
   "execution_count": 13,
   "metadata": {
    "collapsed": false,
    "run_control": {
     "frozen": false,
     "read_only": false
    }
   },
   "outputs": [
    {
     "name": "stdout",
     "output_type": "stream",
     "text": [
      "QNAME\n",
      "HWI-1KL149:87:HA58EADXX:1:1101:2228:2222      0\n",
      "HWI-1KL149:87:HA58EADXX:1:1101:2344:2177   -224\n",
      "HWI-1KL149:87:HA58EADXX:1:1101:1744:2169      0\n",
      "HWI-1KL149:87:HA58EADXX:1:1101:2031:2119    212\n",
      "HWI-1KL149:87:HA58EADXX:1:1101:1606:2189   -282\n",
      "HWI-1KL149:87:HA58EADXX:1:1101:1752:2238    324\n",
      "HWI-1KL149:87:HA58EADXX:1:1101:2854:2200    179\n",
      "HWI-1KL149:87:HA58EADXX:1:1101:1752:2238   -324\n",
      "HWI-1KL149:87:HA58EADXX:1:1101:1531:2163    189\n",
      "HWI-1KL149:87:HA58EADXX:1:1101:2813:2174    279\n",
      "Name: TLEN, dtype: int64\n",
      "\n",
      "Mean: 35.3\n",
      "\n",
      "Median: 89.5\n"
     ]
    }
   ],
   "source": [
    "tlen_sample = df.sample(10).TLEN\n",
    "print (tlen_sample)\n",
    "print (\"\\nMean:\", tlen_sample.mean())\n",
    "print (\"\\nMedian:\", tlen_sample.median())"
   ]
  },
  {
   "cell_type": "code",
   "execution_count": 14,
   "metadata": {
    "collapsed": false,
    "run_control": {
     "frozen": false,
     "read_only": false
    }
   },
   "outputs": [
    {
     "data": {
      "text/html": [
       "<div>\n",
       "<table border=\"1\" class=\"dataframe\">\n",
       "  <thead>\n",
       "    <tr style=\"text-align: right;\">\n",
       "      <th></th>\n",
       "      <th>FLAG</th>\n",
       "      <th>RNAME</th>\n",
       "      <th>POS</th>\n",
       "      <th>MAPQ</th>\n",
       "      <th>CIGAR</th>\n",
       "      <th>RNEXT</th>\n",
       "      <th>PNEXT</th>\n",
       "      <th>TLEN</th>\n",
       "      <th>SEQ</th>\n",
       "      <th>QUAL</th>\n",
       "    </tr>\n",
       "  </thead>\n",
       "  <tbody>\n",
       "    <tr>\n",
       "      <th>count</th>\n",
       "      <td>16.00000</td>\n",
       "      <td>16</td>\n",
       "      <td>16.000000</td>\n",
       "      <td>16.000000</td>\n",
       "      <td>16</td>\n",
       "      <td>16</td>\n",
       "      <td>16.000000</td>\n",
       "      <td>16.000000</td>\n",
       "      <td>16</td>\n",
       "      <td>16</td>\n",
       "    </tr>\n",
       "    <tr>\n",
       "      <th>unique</th>\n",
       "      <td>NaN</td>\n",
       "      <td>2</td>\n",
       "      <td>NaN</td>\n",
       "      <td>NaN</td>\n",
       "      <td>3</td>\n",
       "      <td>2</td>\n",
       "      <td>NaN</td>\n",
       "      <td>NaN</td>\n",
       "      <td>16</td>\n",
       "      <td>16</td>\n",
       "    </tr>\n",
       "    <tr>\n",
       "      <th>top</th>\n",
       "      <td>NaN</td>\n",
       "      <td>SSV9K2-CMV-GFP-HygroTK-bGHpA</td>\n",
       "      <td>NaN</td>\n",
       "      <td>NaN</td>\n",
       "      <td>101M</td>\n",
       "      <td>=</td>\n",
       "      <td>NaN</td>\n",
       "      <td>NaN</td>\n",
       "      <td>TCGTAGATTTCTCTGGCGATTGAAGGGCTAAATTCTTCAACGCTAA...</td>\n",
       "      <td>CCCFFFFFGHHHHJJJJJJJJJJJJJJJGIJJJJJJHHHHHFFFEE...</td>\n",
       "    </tr>\n",
       "    <tr>\n",
       "      <th>freq</th>\n",
       "      <td>NaN</td>\n",
       "      <td>14</td>\n",
       "      <td>NaN</td>\n",
       "      <td>NaN</td>\n",
       "      <td>13</td>\n",
       "      <td>14</td>\n",
       "      <td>NaN</td>\n",
       "      <td>NaN</td>\n",
       "      <td>1</td>\n",
       "      <td>1</td>\n",
       "    </tr>\n",
       "    <tr>\n",
       "      <th>mean</th>\n",
       "      <td>249.25000</td>\n",
       "      <td>NaN</td>\n",
       "      <td>3670.812500</td>\n",
       "      <td>52.500000</td>\n",
       "      <td>NaN</td>\n",
       "      <td>NaN</td>\n",
       "      <td>3622.500000</td>\n",
       "      <td>-29.437500</td>\n",
       "      <td>NaN</td>\n",
       "      <td>NaN</td>\n",
       "    </tr>\n",
       "    <tr>\n",
       "      <th>std</th>\n",
       "      <td>498.69102</td>\n",
       "      <td>NaN</td>\n",
       "      <td>1805.691048</td>\n",
       "      <td>20.493902</td>\n",
       "      <td>NaN</td>\n",
       "      <td>NaN</td>\n",
       "      <td>1768.638949</td>\n",
       "      <td>327.696601</td>\n",
       "      <td>NaN</td>\n",
       "      <td>NaN</td>\n",
       "    </tr>\n",
       "    <tr>\n",
       "      <th>min</th>\n",
       "      <td>83.00000</td>\n",
       "      <td>NaN</td>\n",
       "      <td>0.000000</td>\n",
       "      <td>0.000000</td>\n",
       "      <td>NaN</td>\n",
       "      <td>NaN</td>\n",
       "      <td>0.000000</td>\n",
       "      <td>-956.000000</td>\n",
       "      <td>NaN</td>\n",
       "      <td>NaN</td>\n",
       "    </tr>\n",
       "    <tr>\n",
       "      <th>25%</th>\n",
       "      <td>95.00000</td>\n",
       "      <td>NaN</td>\n",
       "      <td>2976.250000</td>\n",
       "      <td>60.000000</td>\n",
       "      <td>NaN</td>\n",
       "      <td>NaN</td>\n",
       "      <td>2976.250000</td>\n",
       "      <td>-218.000000</td>\n",
       "      <td>NaN</td>\n",
       "      <td>NaN</td>\n",
       "    </tr>\n",
       "    <tr>\n",
       "      <th>50%</th>\n",
       "      <td>141.00000</td>\n",
       "      <td>NaN</td>\n",
       "      <td>4303.000000</td>\n",
       "      <td>60.000000</td>\n",
       "      <td>NaN</td>\n",
       "      <td>NaN</td>\n",
       "      <td>4151.000000</td>\n",
       "      <td>83.500000</td>\n",
       "      <td>NaN</td>\n",
       "      <td>NaN</td>\n",
       "    </tr>\n",
       "    <tr>\n",
       "      <th>75%</th>\n",
       "      <td>163.00000</td>\n",
       "      <td>NaN</td>\n",
       "      <td>4928.500000</td>\n",
       "      <td>60.000000</td>\n",
       "      <td>NaN</td>\n",
       "      <td>NaN</td>\n",
       "      <td>4931.250000</td>\n",
       "      <td>191.250000</td>\n",
       "      <td>NaN</td>\n",
       "      <td>NaN</td>\n",
       "    </tr>\n",
       "    <tr>\n",
       "      <th>max</th>\n",
       "      <td>2115.00000</td>\n",
       "      <td>NaN</td>\n",
       "      <td>5493.000000</td>\n",
       "      <td>60.000000</td>\n",
       "      <td>NaN</td>\n",
       "      <td>NaN</td>\n",
       "      <td>5559.000000</td>\n",
       "      <td>324.000000</td>\n",
       "      <td>NaN</td>\n",
       "      <td>NaN</td>\n",
       "    </tr>\n",
       "  </tbody>\n",
       "</table>\n",
       "</div>"
      ],
      "text/plain": [
       "              FLAG                         RNAME          POS       MAPQ  \\\n",
       "count     16.00000                            16    16.000000  16.000000   \n",
       "unique         NaN                             2          NaN        NaN   \n",
       "top            NaN  SSV9K2-CMV-GFP-HygroTK-bGHpA          NaN        NaN   \n",
       "freq           NaN                            14          NaN        NaN   \n",
       "mean     249.25000                           NaN  3670.812500  52.500000   \n",
       "std      498.69102                           NaN  1805.691048  20.493902   \n",
       "min       83.00000                           NaN     0.000000   0.000000   \n",
       "25%       95.00000                           NaN  2976.250000  60.000000   \n",
       "50%      141.00000                           NaN  4303.000000  60.000000   \n",
       "75%      163.00000                           NaN  4928.500000  60.000000   \n",
       "max     2115.00000                           NaN  5493.000000  60.000000   \n",
       "\n",
       "       CIGAR RNEXT        PNEXT        TLEN  \\\n",
       "count     16    16    16.000000   16.000000   \n",
       "unique     3     2          NaN         NaN   \n",
       "top     101M     =          NaN         NaN   \n",
       "freq      13    14          NaN         NaN   \n",
       "mean     NaN   NaN  3622.500000  -29.437500   \n",
       "std      NaN   NaN  1768.638949  327.696601   \n",
       "min      NaN   NaN     0.000000 -956.000000   \n",
       "25%      NaN   NaN  2976.250000 -218.000000   \n",
       "50%      NaN   NaN  4151.000000   83.500000   \n",
       "75%      NaN   NaN  4931.250000  191.250000   \n",
       "max      NaN   NaN  5559.000000  324.000000   \n",
       "\n",
       "                                                      SEQ  \\\n",
       "count                                                  16   \n",
       "unique                                                 16   \n",
       "top     TCGTAGATTTCTCTGGCGATTGAAGGGCTAAATTCTTCAACGCTAA...   \n",
       "freq                                                    1   \n",
       "mean                                                  NaN   \n",
       "std                                                   NaN   \n",
       "min                                                   NaN   \n",
       "25%                                                   NaN   \n",
       "50%                                                   NaN   \n",
       "75%                                                   NaN   \n",
       "max                                                   NaN   \n",
       "\n",
       "                                                     QUAL  \n",
       "count                                                  16  \n",
       "unique                                                 16  \n",
       "top     CCCFFFFFGHHHHJJJJJJJJJJJJJJJGIJJJJJJHHHHHFFFEE...  \n",
       "freq                                                    1  \n",
       "mean                                                  NaN  \n",
       "std                                                   NaN  \n",
       "min                                                   NaN  \n",
       "25%                                                   NaN  \n",
       "50%                                                   NaN  \n",
       "75%                                                   NaN  \n",
       "max                                                   NaN  "
      ]
     },
     "execution_count": 14,
     "metadata": {},
     "output_type": "execute_result"
    }
   ],
   "source": [
    "df.describe(include=\"all\")"
   ]
  },
  {
   "cell_type": "markdown",
   "metadata": {},
   "source": [
    "**Exercise 5**"
   ]
  },
  {
   "cell_type": "code",
   "execution_count": 15,
   "metadata": {
    "collapsed": false,
    "run_control": {
     "frozen": false,
     "read_only": false
    }
   },
   "outputs": [],
   "source": [
    "file = \"../data/abundance.tsv\"\n",
    "df = pd.read_table(file, index_col=0)"
   ]
  },
  {
   "cell_type": "code",
   "execution_count": 16,
   "metadata": {
    "collapsed": false,
    "run_control": {
     "frozen": false,
     "read_only": false
    }
   },
   "outputs": [
    {
     "data": {
      "text/html": [
       "<div>\n",
       "<table border=\"1\" class=\"dataframe\">\n",
       "  <thead>\n",
       "    <tr style=\"text-align: right;\">\n",
       "      <th></th>\n",
       "      <th>length</th>\n",
       "      <th>eff_length</th>\n",
       "      <th>est_counts</th>\n",
       "      <th>tpm</th>\n",
       "    </tr>\n",
       "    <tr>\n",
       "      <th>target_id</th>\n",
       "      <th></th>\n",
       "      <th></th>\n",
       "      <th></th>\n",
       "      <th></th>\n",
       "    </tr>\n",
       "  </thead>\n",
       "  <tbody>\n",
       "    <tr>\n",
       "      <th>ENST00000487368.4</th>\n",
       "      <td>439</td>\n",
       "      <td>156.624</td>\n",
       "      <td>0.823844</td>\n",
       "      <td>0.396515</td>\n",
       "    </tr>\n",
       "    <tr>\n",
       "      <th>ENST00000623229.1</th>\n",
       "      <td>1418</td>\n",
       "      <td>1225.420</td>\n",
       "      <td>109.805000</td>\n",
       "      <td>6.754780</td>\n",
       "    </tr>\n",
       "    <tr>\n",
       "      <th>ENST00000444276.1</th>\n",
       "      <td>439</td>\n",
       "      <td>156.624</td>\n",
       "      <td>1.538880</td>\n",
       "      <td>0.740663</td>\n",
       "    </tr>\n",
       "    <tr>\n",
       "      <th>ENST00000612487.4</th>\n",
       "      <td>940</td>\n",
       "      <td>644.955</td>\n",
       "      <td>0.000000</td>\n",
       "      <td>0.000000</td>\n",
       "    </tr>\n",
       "    <tr>\n",
       "      <th>ENST00000556673.2</th>\n",
       "      <td>1182</td>\n",
       "      <td>778.648</td>\n",
       "      <td>13.000000</td>\n",
       "      <td>1.258570</td>\n",
       "    </tr>\n",
       "    <tr>\n",
       "      <th>ENST00000623191.1</th>\n",
       "      <td>700</td>\n",
       "      <td>493.172</td>\n",
       "      <td>49.305100</td>\n",
       "      <td>7.536450</td>\n",
       "    </tr>\n",
       "  </tbody>\n",
       "</table>\n",
       "</div>"
      ],
      "text/plain": [
       "                   length  eff_length  est_counts       tpm\n",
       "target_id                                                  \n",
       "ENST00000487368.4     439     156.624    0.823844  0.396515\n",
       "ENST00000623229.1    1418    1225.420  109.805000  6.754780\n",
       "ENST00000444276.1     439     156.624    1.538880  0.740663\n",
       "ENST00000612487.4     940     644.955    0.000000  0.000000\n",
       "ENST00000556673.2    1182     778.648   13.000000  1.258570\n",
       "ENST00000623191.1     700     493.172   49.305100  7.536450"
      ]
     },
     "execution_count": 16,
     "metadata": {},
     "output_type": "execute_result"
    }
   ],
   "source": [
    "df.loc[['ENST00000487368.4', 'ENST00000623229.1', 'ENST00000444276.1', 'ENST00000612487.4', 'ENST00000556673.2', 'ENST00000623191.1']]"
   ]
  },
  {
   "cell_type": "code",
   "execution_count": 17,
   "metadata": {
    "collapsed": false,
    "run_control": {
     "frozen": false,
     "read_only": false
    }
   },
   "outputs": [
    {
     "data": {
      "text/html": [
       "<div>\n",
       "<table border=\"1\" class=\"dataframe\">\n",
       "  <thead>\n",
       "    <tr style=\"text-align: right;\">\n",
       "      <th></th>\n",
       "      <th>est_counts</th>\n",
       "      <th>tpm</th>\n",
       "    </tr>\n",
       "    <tr>\n",
       "      <th>target_id</th>\n",
       "      <th></th>\n",
       "      <th></th>\n",
       "    </tr>\n",
       "  </thead>\n",
       "  <tbody>\n",
       "    <tr>\n",
       "      <th>ENST00000473358.1</th>\n",
       "      <td>13.83230</td>\n",
       "      <td>1.802470</td>\n",
       "    </tr>\n",
       "    <tr>\n",
       "      <th>ENST00000469289.1</th>\n",
       "      <td>7.17452</td>\n",
       "      <td>1.582840</td>\n",
       "    </tr>\n",
       "    <tr>\n",
       "      <th>ENST00000417324.1</th>\n",
       "      <td>0.00000</td>\n",
       "      <td>0.000000</td>\n",
       "    </tr>\n",
       "    <tr>\n",
       "      <th>ENST00000461467.1</th>\n",
       "      <td>155.16400</td>\n",
       "      <td>39.942800</td>\n",
       "    </tr>\n",
       "    <tr>\n",
       "      <th>ENST00000466430.5</th>\n",
       "      <td>240.02000</td>\n",
       "      <td>6.538140</td>\n",
       "    </tr>\n",
       "    <tr>\n",
       "      <th>ENST00000477740.5</th>\n",
       "      <td>1.03396</td>\n",
       "      <td>0.374103</td>\n",
       "    </tr>\n",
       "    <tr>\n",
       "      <th>ENST00000471248.1</th>\n",
       "      <td>0.00000</td>\n",
       "      <td>0.000000</td>\n",
       "    </tr>\n",
       "    <tr>\n",
       "      <th>ENST00000610542.1</th>\n",
       "      <td>0.00000</td>\n",
       "      <td>0.000000</td>\n",
       "    </tr>\n",
       "    <tr>\n",
       "      <th>ENST00000453576.2</th>\n",
       "      <td>0.00000</td>\n",
       "      <td>0.000000</td>\n",
       "    </tr>\n",
       "    <tr>\n",
       "      <th>ENST00000495576.1</th>\n",
       "      <td>0.00000</td>\n",
       "      <td>0.000000</td>\n",
       "    </tr>\n",
       "  </tbody>\n",
       "</table>\n",
       "</div>"
      ],
      "text/plain": [
       "                   est_counts        tpm\n",
       "target_id                               \n",
       "ENST00000473358.1    13.83230   1.802470\n",
       "ENST00000469289.1     7.17452   1.582840\n",
       "ENST00000417324.1     0.00000   0.000000\n",
       "ENST00000461467.1   155.16400  39.942800\n",
       "ENST00000466430.5   240.02000   6.538140\n",
       "ENST00000477740.5     1.03396   0.374103\n",
       "ENST00000471248.1     0.00000   0.000000\n",
       "ENST00000610542.1     0.00000   0.000000\n",
       "ENST00000453576.2     0.00000   0.000000\n",
       "ENST00000495576.1     0.00000   0.000000"
      ]
     },
     "execution_count": 17,
     "metadata": {},
     "output_type": "execute_result"
    }
   ],
   "source": [
    "df[[\"est_counts\", \"tpm\"]].head(10)"
   ]
  },
  {
   "cell_type": "code",
   "execution_count": 18,
   "metadata": {
    "collapsed": false,
    "run_control": {
     "frozen": false,
     "read_only": false
    }
   },
   "outputs": [
    {
     "data": {
      "text/html": [
       "<div>\n",
       "<table border=\"1\" class=\"dataframe\">\n",
       "  <thead>\n",
       "    <tr style=\"text-align: right;\">\n",
       "      <th></th>\n",
       "      <th>length</th>\n",
       "      <th>eff_length</th>\n",
       "      <th>est_counts</th>\n",
       "      <th>tpm</th>\n",
       "    </tr>\n",
       "    <tr>\n",
       "      <th>target_id</th>\n",
       "      <th></th>\n",
       "      <th></th>\n",
       "      <th></th>\n",
       "      <th></th>\n",
       "    </tr>\n",
       "  </thead>\n",
       "  <tbody>\n",
       "    <tr>\n",
       "      <th>ENST00000294715.6</th>\n",
       "      <td>268</td>\n",
       "      <td>33.0260</td>\n",
       "      <td>9504.43</td>\n",
       "      <td>21694.2</td>\n",
       "    </tr>\n",
       "    <tr>\n",
       "      <th>ENST00000517300.1</th>\n",
       "      <td>291</td>\n",
       "      <td>24.0212</td>\n",
       "      <td>92694.00</td>\n",
       "      <td>290892.0</td>\n",
       "    </tr>\n",
       "    <tr>\n",
       "      <th>ENST00000624929.1</th>\n",
       "      <td>1783</td>\n",
       "      <td>919.8680</td>\n",
       "      <td>335270.00</td>\n",
       "      <td>27475.3</td>\n",
       "    </tr>\n",
       "    <tr>\n",
       "      <th>ENST00000635274.1</th>\n",
       "      <td>300</td>\n",
       "      <td>27.6558</td>\n",
       "      <td>76434.00</td>\n",
       "      <td>208340.0</td>\n",
       "    </tr>\n",
       "    <tr>\n",
       "      <th>ENST00000581170.5</th>\n",
       "      <td>607</td>\n",
       "      <td>323.1660</td>\n",
       "      <td>207184.00</td>\n",
       "      <td>48328.7</td>\n",
       "    </tr>\n",
       "    <tr>\n",
       "      <th>ENST00000430357.4</th>\n",
       "      <td>696</td>\n",
       "      <td>378.9800</td>\n",
       "      <td>95749.80</td>\n",
       "      <td>19045.6</td>\n",
       "    </tr>\n",
       "  </tbody>\n",
       "</table>\n",
       "</div>"
      ],
      "text/plain": [
       "                   length  eff_length  est_counts       tpm\n",
       "target_id                                                  \n",
       "ENST00000294715.6     268     33.0260     9504.43   21694.2\n",
       "ENST00000517300.1     291     24.0212    92694.00  290892.0\n",
       "ENST00000624929.1    1783    919.8680   335270.00   27475.3\n",
       "ENST00000635274.1     300     27.6558    76434.00  208340.0\n",
       "ENST00000581170.5     607    323.1660   207184.00   48328.7\n",
       "ENST00000430357.4     696    378.9800    95749.80   19045.6"
      ]
     },
     "execution_count": 18,
     "metadata": {},
     "output_type": "execute_result"
    }
   ],
   "source": [
    "df[(df.tpm > 10000)]"
   ]
  },
  {
   "cell_type": "code",
   "execution_count": 19,
   "metadata": {
    "collapsed": false,
    "run_control": {
     "frozen": false,
     "read_only": false
    }
   },
   "outputs": [
    {
     "data": {
      "text/html": [
       "<div>\n",
       "<table border=\"1\" class=\"dataframe\">\n",
       "  <thead>\n",
       "    <tr style=\"text-align: right;\">\n",
       "      <th></th>\n",
       "      <th>length</th>\n",
       "      <th>eff_length</th>\n",
       "      <th>est_counts</th>\n",
       "      <th>tpm</th>\n",
       "    </tr>\n",
       "    <tr>\n",
       "      <th>target_id</th>\n",
       "      <th></th>\n",
       "      <th></th>\n",
       "      <th></th>\n",
       "      <th></th>\n",
       "    </tr>\n",
       "  </thead>\n",
       "  <tbody>\n",
       "    <tr>\n",
       "      <th>ENST00000517300.1</th>\n",
       "      <td>291</td>\n",
       "      <td>24.0212</td>\n",
       "      <td>92694.00</td>\n",
       "      <td>290892.00</td>\n",
       "    </tr>\n",
       "    <tr>\n",
       "      <th>ENST00000567090.1</th>\n",
       "      <td>298</td>\n",
       "      <td>26.8017</td>\n",
       "      <td>2184.00</td>\n",
       "      <td>6142.78</td>\n",
       "    </tr>\n",
       "    <tr>\n",
       "      <th>ENST00000635274.1</th>\n",
       "      <td>300</td>\n",
       "      <td>27.6558</td>\n",
       "      <td>76434.00</td>\n",
       "      <td>208340.00</td>\n",
       "    </tr>\n",
       "    <tr>\n",
       "      <th>ENST00000294715.6</th>\n",
       "      <td>268</td>\n",
       "      <td>33.0260</td>\n",
       "      <td>9504.43</td>\n",
       "      <td>21694.20</td>\n",
       "    </tr>\n",
       "    <tr>\n",
       "      <th>ENST00000625165.1</th>\n",
       "      <td>124</td>\n",
       "      <td>43.9613</td>\n",
       "      <td>1013.59</td>\n",
       "      <td>1738.06</td>\n",
       "    </tr>\n",
       "    <tr>\n",
       "      <th>ENST00000432513.1</th>\n",
       "      <td>326</td>\n",
       "      <td>46.6500</td>\n",
       "      <td>4180.00</td>\n",
       "      <td>6754.59</td>\n",
       "    </tr>\n",
       "    <tr>\n",
       "      <th>ENST00000427161.1</th>\n",
       "      <td>157</td>\n",
       "      <td>60.9194</td>\n",
       "      <td>1298.85</td>\n",
       "      <td>1607.23</td>\n",
       "    </tr>\n",
       "    <tr>\n",
       "      <th>ENST00000563192.1</th>\n",
       "      <td>342</td>\n",
       "      <td>61.8664</td>\n",
       "      <td>2022.00</td>\n",
       "      <td>2463.77</td>\n",
       "    </tr>\n",
       "    <tr>\n",
       "      <th>ENST00000618589.1</th>\n",
       "      <td>347</td>\n",
       "      <td>66.7825</td>\n",
       "      <td>1348.00</td>\n",
       "      <td>1521.60</td>\n",
       "    </tr>\n",
       "    <tr>\n",
       "      <th>ENST00000624127.1</th>\n",
       "      <td>348</td>\n",
       "      <td>67.7621</td>\n",
       "      <td>1831.86</td>\n",
       "      <td>2037.88</td>\n",
       "    </tr>\n",
       "  </tbody>\n",
       "</table>\n",
       "</div>"
      ],
      "text/plain": [
       "                   length  eff_length  est_counts        tpm\n",
       "target_id                                                   \n",
       "ENST00000517300.1     291     24.0212    92694.00  290892.00\n",
       "ENST00000567090.1     298     26.8017     2184.00    6142.78\n",
       "ENST00000635274.1     300     27.6558    76434.00  208340.00\n",
       "ENST00000294715.6     268     33.0260     9504.43   21694.20\n",
       "ENST00000625165.1     124     43.9613     1013.59    1738.06\n",
       "ENST00000432513.1     326     46.6500     4180.00    6754.59\n",
       "ENST00000427161.1     157     60.9194     1298.85    1607.23\n",
       "ENST00000563192.1     342     61.8664     2022.00    2463.77\n",
       "ENST00000618589.1     347     66.7825     1348.00    1521.60\n",
       "ENST00000624127.1     348     67.7621     1831.86    2037.88"
      ]
     },
     "execution_count": 19,
     "metadata": {},
     "output_type": "execute_result"
    }
   ],
   "source": [
    "df = df[(df.est_counts > 1000) & (df.tpm > 1000)]\n",
    "df = df.sort_values(\"eff_length\")\n",
    "df.head(10)"
   ]
  }
 ],
 "metadata": {
  "kernelspec": {
   "display_name": "Python 3",
   "language": "python",
   "name": "python3"
  },
  "language_info": {
   "codemirror_mode": {
    "name": "ipython",
    "version": 3
   },
   "file_extension": ".py",
   "mimetype": "text/x-python",
   "name": "python",
   "nbconvert_exporter": "python",
   "pygments_lexer": "ipython3",
   "version": "3.5.2"
  }
 },
 "nbformat": 4,
 "nbformat_minor": 0
}
